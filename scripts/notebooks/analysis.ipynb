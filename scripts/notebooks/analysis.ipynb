{
 "cells": [
  {
   "cell_type": "markdown",
   "id": "b4d12678-a2d2-474b-90a9-49d1158fcdc0",
   "metadata": {},
   "source": [
    "# Analysis"
   ]
  },
  {
   "cell_type": "markdown",
   "id": "ea544290-41d8-4ebd-a010-8e1dfcae8439",
   "metadata": {},
   "source": [
    "This notebook contains the code necessary to conduct all data analyses for the Ancient Genotyped Variants Proxy Catalog project. I have organized sections by order of appearance in the manuscript. Use the Table of Contents below to navigate to specific analyses."
   ]
  },
  {
   "cell_type": "markdown",
   "id": "6c5662ce-a822-4351-90c4-8e8c781bbe50",
   "metadata": {},
   "source": [
    "## Table of Contents"
   ]
  },
  {
   "cell_type": "markdown",
   "id": "39771b03-ac8a-4dcf-89dd-e2a02d3aa0ce",
   "metadata": {},
   "source": [
    "- [Notebook Setup](#notebooksetup)\n",
    "- [Descriptive Stats](#descriptivestats)\n",
    "- [N AGV-LDV Pairs](#nagvldvpairs)\n",
    "- [Proportion TopLD Variants Among MAF Class](#proportiontopldvariantsamongmafclasses)\n",
    "- [N and Proportion TopLD Variants in LD with AGVs at Varying LD Thresholds](#nandproportiontopldvariantsinldwithagvsatvaryingldthresholds)\n",
    "- [AGV and LD Variants GWAS Intersection](#gwasintersection)\n",
    "- [Evaluation](#evaluation)\n",
    "    - [Mismatch Proportions by LD Threshold](#mismatchesbythreshold)\n",
    "    - [Mismatches by Genomic Window](#mismatchesbywindow)\n",
    "- [AGVs in TopLD](#agvsintopld)\n",
    "- [AGV Age Estimates](#agvageestimates)\n",
    "- [Selection GWAS Loci Allele Frequency Trajectories](#gwastrajectories)"
   ]
  },
  {
   "cell_type": "markdown",
   "id": "025082d4-62cd-4c08-a9bf-53f33d1ad230",
   "metadata": {},
   "source": [
    "## Notebook Setup <a class = 'anchor' id = 'notebooksetup'></a>"
   ]
  },
  {
   "cell_type": "markdown",
   "id": "38ee9e4d-352b-42c6-9b0b-aa7242357025",
   "metadata": {},
   "source": [
    "Let's start with setup and import the needed packages."
   ]
  },
  {
   "cell_type": "code",
   "execution_count": 1,
   "id": "68bc2ca2-27ce-4258-a423-ecbcdf9511e4",
   "metadata": {},
   "outputs": [],
   "source": [
    "import glob\n",
    "import gzip\n",
    "import numpy as np\n",
    "import os\n",
    "import pandas as pd\n",
    "import pybedtools\n",
    "import subprocess\n",
    "from collections import Counter, OrderedDict\n",
    "from scipy.stats import kruskal\n",
    "from scipy.stats import mannwhitneyu\n",
    "from scipy.stats import spearmanr\n",
    "\n",
    "pd.options.display.max_columns = 30\n",
    "pd.options.display.max_rows = 30"
   ]
  },
  {
   "cell_type": "markdown",
   "id": "21f69840-c904-4bf4-ba9c-838467906cd0",
   "metadata": {},
   "source": [
    "## Descriptive Stats <a class = 'anchor' id = 'descriptivestats'></a>"
   ]
  },
  {
   "cell_type": "markdown",
   "id": "93bfbea8-6abd-4b44-8871-4f6cb96aa5be",
   "metadata": {},
   "source": [
    "How many total unique TopLD variants are there?"
   ]
  },
  {
   "cell_type": "code",
   "execution_count": 2,
   "id": "79a4d519-b90a-4c51-bd55-4e93ed186d2c",
   "metadata": {},
   "outputs": [
    {
     "name": "stdout",
     "output_type": "stream",
     "text": [
      "Total unique variants: 223322434\n"
     ]
    }
   ],
   "source": [
    "!cat /wynton/group/capra/projects/ancient_genotyped_variants_proxy_catalog/scripts/TopLD/calculate_N_unique_TopLD_variants.out"
   ]
  },
  {
   "cell_type": "markdown",
   "id": "a43b495b-20d2-45b5-b3b4-ca3c48df4203",
   "metadata": {},
   "source": [
    "How many hg19 AGVs are present in v54.1 of the AADR?"
   ]
  },
  {
   "cell_type": "code",
   "execution_count": 3,
   "id": "4e75566f-6064-4f3c-8141-012ea14f64c2",
   "metadata": {},
   "outputs": [
    {
     "name": "stdout",
     "output_type": "stream",
     "text": [
      "1233013\n"
     ]
    }
   ],
   "source": [
    "!wc -l /wynton/group/capra/projects/ancient_genotyped_variants_proxy_catalog/data/AGVs/AGVs_hg19.bed | awk '{print $1}'"
   ]
  },
  {
   "cell_type": "markdown",
   "id": "68c0946d-3957-44ac-b258-bafd4600ee50",
   "metadata": {},
   "source": [
    "How many samples and unique ancient individuals (Date mean > 0) are represented by v54.1 of the AADR?"
   ]
  },
  {
   "cell_type": "code",
   "execution_count": 4,
   "id": "1f0c9a27-8028-4dcf-9614-63338fec3a08",
   "metadata": {
    "scrolled": true
   },
   "outputs": [
    {
     "name": "stderr",
     "output_type": "stream",
     "text": [
      "/scratch/cbrand/ipykernel_3988467/1007409817.py:1: DtypeWarning: Columns (14,15,18,26,29,30) have mixed types. Specify dtype option on import or set low_memory=False.\n",
      "  AADR_annotation = pd.read_csv('/wynton/group/capra/data/wynton_databases/ancient_dna/V54.1.p1/v54.1.p1_1240K_public.anno', sep='\\t', header=0)\n"
     ]
    }
   ],
   "source": [
    "AADR_annotation = pd.read_csv('/wynton/group/capra/data/wynton_databases/ancient_dna/V54.1.p1/v54.1.p1_1240K_public.anno', sep='\\t', header=0)"
   ]
  },
  {
   "cell_type": "code",
   "execution_count": 5,
   "id": "4ce6a465-2f06-4eda-b996-167d75c47d3e",
   "metadata": {},
   "outputs": [
    {
     "name": "stdout",
     "output_type": "stream",
     "text": [
      "9989 samples\n"
     ]
    }
   ],
   "source": [
    "print(len(AADR_annotation[AADR_annotation['Date mean in BP in years before 1950 CE [OxCal mu for a direct radiocarbon date, and average of range for a contextual date]'] > 0]), \"samples\")"
   ]
  },
  {
   "cell_type": "code",
   "execution_count": 6,
   "id": "7e0e56fa-8ca2-4186-963b-bea71dbe7a2a",
   "metadata": {
    "scrolled": true
   },
   "outputs": [
    {
     "name": "stdout",
     "output_type": "stream",
     "text": [
      "9623 unique individuals\n"
     ]
    }
   ],
   "source": [
    "print(len(AADR_annotation[AADR_annotation['Date mean in BP in years before 1950 CE [OxCal mu for a direct radiocarbon date, and average of range for a contextual date]'] > 0]['Master ID'].unique()), \"unique individuals\")"
   ]
  },
  {
   "cell_type": "markdown",
   "id": "78f2b27f-6326-42c4-b7a2-52298a0072fd",
   "metadata": {},
   "source": [
    "How many AGVs could be lifted over to hg38?"
   ]
  },
  {
   "cell_type": "code",
   "execution_count": 7,
   "id": "adad55cc-6664-4fcd-81c8-5b54181e8b42",
   "metadata": {},
   "outputs": [
    {
     "name": "stdout",
     "output_type": "stream",
     "text": [
      "1232486\n"
     ]
    }
   ],
   "source": [
    "!wc -l /wynton/group/capra/projects/ancient_genotyped_variants_proxy_catalog/data/AGVs/AGVs_hg38.bed | awk '{print $1}'"
   ]
  },
  {
   "cell_type": "markdown",
   "id": "5eba3128-05df-43b5-b2f8-be27d835cde8",
   "metadata": {},
   "source": [
    "How many were not successful?"
   ]
  },
  {
   "cell_type": "code",
   "execution_count": 8,
   "id": "47c5fb82-7dcf-4cfe-a32d-d67537d2e440",
   "metadata": {},
   "outputs": [
    {
     "name": "stdout",
     "output_type": "stream",
     "text": [
      "527\n"
     ]
    }
   ],
   "source": [
    "output = !wc -l /wynton/group/capra/projects/ancient_genotyped_variants_proxy_catalog/data/AGVs/AGVs_hg19.unlifted\n",
    "lines = int(output[0].split()[0])\n",
    "result = lines // 2 # divide by 2 because each unlifted variant has a comment line\n",
    "print(result)"
   ]
  },
  {
   "cell_type": "markdown",
   "id": "bd6ee0f1-c20e-4a8c-822b-cac9552cb0e6",
   "metadata": {},
   "source": [
    "How are the failed sites distributed across chromosomes?"
   ]
  },
  {
   "cell_type": "code",
   "execution_count": 9,
   "id": "2724b38c-bad5-41c6-b26d-17f1eebbe787",
   "metadata": {},
   "outputs": [
    {
     "name": "stdout",
     "output_type": "stream",
     "text": [
      "chr1: 47\n",
      "chr2: 16\n",
      "chr3: 19\n",
      "chr4: 1\n",
      "chr6: 16\n",
      "chr7: 21\n",
      "chr8: 43\n",
      "chr9: 15\n",
      "chr10: 4\n",
      "chr11: 8\n",
      "chr12: 2\n",
      "chr13: 5\n",
      "chr14: 52\n",
      "chr15: 1\n",
      "chr17: 35\n",
      "chr18: 1\n",
      "chr19: 43\n",
      "chr20: 4\n",
      "chr21: 6\n",
      "chr22: 53\n",
      "chrX: 123\n",
      "chrY: 12\n"
     ]
    }
   ],
   "source": [
    "chrs = []\n",
    "with open('/wynton/group/capra/projects/ancient_genotyped_variants_proxy_catalog/data/AGVs/AGVs_hg19.unlifted','r') as unlifted:\n",
    "    for line in unlifted:\n",
    "        if not line.startswith('#'):\n",
    "            chrs.append(line.split('\\t')[0])\n",
    "            \n",
    "chr_distribution = Counter(chrs)\n",
    "for chr, count in chr_distribution.items():\n",
    "    print(f'{chr}: {count}')"
   ]
  },
  {
   "cell_type": "markdown",
   "id": "29d334e7-1c19-47c4-ba8e-b1ec03561343",
   "metadata": {},
   "source": [
    "How many successfully lifted over variants do not occur on chromosome Y because we do not have LD information for that chromosome?"
   ]
  },
  {
   "cell_type": "code",
   "execution_count": 10,
   "id": "25e826f2-4170-4008-b891-c6b50a3c5752",
   "metadata": {},
   "outputs": [
    {
     "name": "stdout",
     "output_type": "stream",
     "text": [
      "1199828\n"
     ]
    }
   ],
   "source": [
    "!grep -c -v 'chrY' /wynton/group/capra/projects/ancient_genotyped_variants_proxy_catalog/data/AGVs/AGVs_hg38.bed"
   ]
  },
  {
   "cell_type": "markdown",
   "id": "db4c0150-6fc6-42db-91b4-45c55934219a",
   "metadata": {},
   "source": [
    "How common are AGVs in complex genomic regions (e.g., segmental duplications and structural variants)?"
   ]
  },
  {
   "cell_type": "code",
   "execution_count": 11,
   "id": "71a2b9ce-f72e-4317-8dc3-8194135f81ce",
   "metadata": {},
   "outputs": [
    {
     "name": "stdout",
     "output_type": "stream",
     "text": [
      "chr1\t817185\t817186\tG\tA\trs3094315\n",
      " chr1\t841165\t841166\tA\tG\trs12124819\n",
      " chr1\t897537\t897538\tT\tC\trs28765502\n",
      " chr1\t906632\t906633\tT\tG\trs7419119\n",
      " chr1\t911483\t911484\tG\tC\trs950122\n",
      " "
     ]
    }
   ],
   "source": [
    "AGVs_hg38_pbtBED = pybedtools.BedTool('/wynton/group/capra/projects/ancient_genotyped_variants_proxy_catalog/data/AGVs/AGVs_hg38.bed')\n",
    "AGVs_hg38_pbtBED.head(5)"
   ]
  },
  {
   "cell_type": "code",
   "execution_count": 12,
   "id": "e5347bab-85e1-4f5e-84b6-7d0587c5f529",
   "metadata": {},
   "outputs": [
    {
     "name": "stdout",
     "output_type": "stream",
     "text": [
      "chr1\t10000\t19844\n",
      " chr1\t10000\t40733\n",
      " chr1\t10001\t37148\n",
      " chr1\t10464\t19844\n",
      " chr1\t10464\t40733\n",
      " "
     ]
    }
   ],
   "source": [
    "SDs_hg38_pbtBED = pybedtools.BedTool('/wynton/group/capra/projects/ancient_genotyped_variants_proxy_catalog/data/annotations/SDs_hg38.bed')\n",
    "SDs_hg38_pbtBED.head(5)"
   ]
  },
  {
   "cell_type": "code",
   "execution_count": 13,
   "id": "01f76d80-698a-4b5d-bad7-8df190287d2b",
   "metadata": {},
   "outputs": [
    {
     "name": "stdout",
     "output_type": "stream",
     "text": [
      "chr1\t10669\t10901\n",
      " chr1\t10774\t10775\n",
      " chr1\t10786\t10787\n",
      " chr1\t10797\t10798\n",
      " chr1\t10828\t10829\n",
      " "
     ]
    }
   ],
   "source": [
    "SVs_hg38_pbtBED = pybedtools.BedTool('/wynton/group/capra/projects/ancient_genotyped_variants_proxy_catalog/data/annotations/HGSVC_2024_v1_SVs_hg38.bed')\n",
    "SVs_hg38_pbtBED.head(5)"
   ]
  },
  {
   "cell_type": "code",
   "execution_count": 14,
   "id": "3ba027b7-1adc-4f9c-9976-bc300405d9f5",
   "metadata": {},
   "outputs": [
    {
     "data": {
      "text/plain": [
       "25718"
      ]
     },
     "execution_count": 14,
     "metadata": {},
     "output_type": "execute_result"
    }
   ],
   "source": [
    "SDs_AGVs_intersect = SDs_hg38_pbtBED.intersect(AGVs_hg38_pbtBED)\n",
    "len(SDs_AGVs_intersect)"
   ]
  },
  {
   "cell_type": "code",
   "execution_count": 15,
   "id": "4d663a50-90c9-4240-85f7-81f5f55327ac",
   "metadata": {},
   "outputs": [
    {
     "data": {
      "text/plain": [
       "13270"
      ]
     },
     "execution_count": 15,
     "metadata": {},
     "output_type": "execute_result"
    }
   ],
   "source": [
    "SVs_AGVs_intersect = SVs_hg38_pbtBED.intersect(AGVs_hg38_pbtBED)\n",
    "len(SVs_AGVs_intersect)"
   ]
  },
  {
   "cell_type": "code",
   "execution_count": null,
   "id": "ab670f01-0b59-48f2-b4fc-6bb0eb060c68",
   "metadata": {},
   "outputs": [],
   "source": []
  },
  {
   "cell_type": "code",
   "execution_count": 16,
   "id": "a2f02715-7ec1-452e-a096-c087ae337686",
   "metadata": {},
   "outputs": [
    {
     "data": {
      "text/html": [
       "<div>\n",
       "<style scoped>\n",
       "    .dataframe tbody tr th:only-of-type {\n",
       "        vertical-align: middle;\n",
       "    }\n",
       "\n",
       "    .dataframe tbody tr th {\n",
       "        vertical-align: top;\n",
       "    }\n",
       "\n",
       "    .dataframe thead th {\n",
       "        text-align: right;\n",
       "    }\n",
       "</style>\n",
       "<table border=\"1\" class=\"dataframe\">\n",
       "  <thead>\n",
       "    <tr style=\"text-align: right;\">\n",
       "      <th></th>\n",
       "      <th>chr</th>\n",
       "      <th>pos</th>\n",
       "      <th>non_missing_samples</th>\n",
       "    </tr>\n",
       "  </thead>\n",
       "  <tbody>\n",
       "    <tr>\n",
       "      <th>0</th>\n",
       "      <td>chr1</td>\n",
       "      <td>752566</td>\n",
       "      <td>4535</td>\n",
       "    </tr>\n",
       "    <tr>\n",
       "      <th>1</th>\n",
       "      <td>chr1</td>\n",
       "      <td>776546</td>\n",
       "      <td>4985</td>\n",
       "    </tr>\n",
       "    <tr>\n",
       "      <th>2</th>\n",
       "      <td>chr1</td>\n",
       "      <td>832918</td>\n",
       "      <td>2650</td>\n",
       "    </tr>\n",
       "    <tr>\n",
       "      <th>3</th>\n",
       "      <td>chr1</td>\n",
       "      <td>842013</td>\n",
       "      <td>4520</td>\n",
       "    </tr>\n",
       "    <tr>\n",
       "      <th>4</th>\n",
       "      <td>chr1</td>\n",
       "      <td>846864</td>\n",
       "      <td>4899</td>\n",
       "    </tr>\n",
       "  </tbody>\n",
       "</table>\n",
       "</div>"
      ],
      "text/plain": [
       "    chr     pos  non_missing_samples\n",
       "0  chr1  752566                 4535\n",
       "1  chr1  776546                 4985\n",
       "2  chr1  832918                 2650\n",
       "3  chr1  842013                 4520\n",
       "4  chr1  846864                 4899"
      ]
     },
     "execution_count": 16,
     "metadata": {},
     "output_type": "execute_result"
    }
   ],
   "source": [
    "ancient_sample_coverage = pd.read_csv('/wynton/group/capra/projects/ancient_genotyped_variants_proxy_catalog/data/AGVs/ancient_sample_coverage_per_site/ancient_sample_coverage_per_site.txt', sep='\\t', header=0)\n",
    "ancient_sample_coverage.head(5)"
   ]
  },
  {
   "cell_type": "code",
   "execution_count": 17,
   "id": "52111d6c-ce7f-4fa7-affa-fddba66f4446",
   "metadata": {},
   "outputs": [
    {
     "data": {
      "text/plain": [
       "4550.0"
      ]
     },
     "execution_count": 17,
     "metadata": {},
     "output_type": "execute_result"
    }
   ],
   "source": [
    "ancient_sample_coverage['non_missing_samples'].median()"
   ]
  },
  {
   "cell_type": "code",
   "execution_count": 18,
   "id": "8e5dc85c-6f40-449c-9ba1-fa57b2044d99",
   "metadata": {},
   "outputs": [
    {
     "data": {
      "text/plain": [
       "0"
      ]
     },
     "execution_count": 18,
     "metadata": {},
     "output_type": "execute_result"
    }
   ],
   "source": [
    "ancient_sample_coverage['non_missing_samples'].min()"
   ]
  },
  {
   "cell_type": "code",
   "execution_count": 19,
   "id": "5dae1ea0-1bd7-4965-9fdc-b32b11fb72c4",
   "metadata": {},
   "outputs": [
    {
     "data": {
      "text/plain": [
       "18"
      ]
     },
     "execution_count": 19,
     "metadata": {},
     "output_type": "execute_result"
    }
   ],
   "source": [
    "len(ancient_sample_coverage[ancient_sample_coverage['non_missing_samples'] == 0])"
   ]
  },
  {
   "cell_type": "code",
   "execution_count": 20,
   "id": "db309eac-68e0-4e26-9ace-bb26705b855d",
   "metadata": {},
   "outputs": [
    {
     "data": {
      "text/html": [
       "<div>\n",
       "<style scoped>\n",
       "    .dataframe tbody tr th:only-of-type {\n",
       "        vertical-align: middle;\n",
       "    }\n",
       "\n",
       "    .dataframe tbody tr th {\n",
       "        vertical-align: top;\n",
       "    }\n",
       "\n",
       "    .dataframe thead th {\n",
       "        text-align: right;\n",
       "    }\n",
       "</style>\n",
       "<table border=\"1\" class=\"dataframe\">\n",
       "  <thead>\n",
       "    <tr style=\"text-align: right;\">\n",
       "      <th></th>\n",
       "      <th>chr</th>\n",
       "      <th>pos</th>\n",
       "      <th>non_missing_samples</th>\n",
       "    </tr>\n",
       "  </thead>\n",
       "  <tbody>\n",
       "    <tr>\n",
       "      <th>49745</th>\n",
       "      <td>chr1</td>\n",
       "      <td>149810915</td>\n",
       "      <td>0</td>\n",
       "    </tr>\n",
       "    <tr>\n",
       "      <th>93113</th>\n",
       "      <td>chr1</td>\n",
       "      <td>248612910</td>\n",
       "      <td>0</td>\n",
       "    </tr>\n",
       "    <tr>\n",
       "      <th>139998</th>\n",
       "      <td>chr2</td>\n",
       "      <td>112037028</td>\n",
       "      <td>0</td>\n",
       "    </tr>\n",
       "    <tr>\n",
       "      <th>147566</th>\n",
       "      <td>chr2</td>\n",
       "      <td>131315032</td>\n",
       "      <td>0</td>\n",
       "    </tr>\n",
       "    <tr>\n",
       "      <th>372436</th>\n",
       "      <td>chr5</td>\n",
       "      <td>70225669</td>\n",
       "      <td>0</td>\n",
       "    </tr>\n",
       "    <tr>\n",
       "      <th>372440</th>\n",
       "      <td>chr5</td>\n",
       "      <td>70324611</td>\n",
       "      <td>0</td>\n",
       "    </tr>\n",
       "    <tr>\n",
       "      <th>439255</th>\n",
       "      <td>chr6</td>\n",
       "      <td>31950247</td>\n",
       "      <td>0</td>\n",
       "    </tr>\n",
       "    <tr>\n",
       "      <th>524919</th>\n",
       "      <td>chr7</td>\n",
       "      <td>62878463</td>\n",
       "      <td>0</td>\n",
       "    </tr>\n",
       "    <tr>\n",
       "      <th>528110</th>\n",
       "      <td>chr7</td>\n",
       "      <td>74269928</td>\n",
       "      <td>0</td>\n",
       "    </tr>\n",
       "    <tr>\n",
       "      <th>537161</th>\n",
       "      <td>chr7</td>\n",
       "      <td>100641872</td>\n",
       "      <td>0</td>\n",
       "    </tr>\n",
       "    <tr>\n",
       "      <th>566060</th>\n",
       "      <td>chr8</td>\n",
       "      <td>7348911</td>\n",
       "      <td>0</td>\n",
       "    </tr>\n",
       "    <tr>\n",
       "      <th>739405</th>\n",
       "      <td>chr11</td>\n",
       "      <td>3299958</td>\n",
       "      <td>0</td>\n",
       "    </tr>\n",
       "    <tr>\n",
       "      <th>739406</th>\n",
       "      <td>chr11</td>\n",
       "      <td>3309471</td>\n",
       "      <td>0</td>\n",
       "    </tr>\n",
       "    <tr>\n",
       "      <th>933656</th>\n",
       "      <td>chr15</td>\n",
       "      <td>32642625</td>\n",
       "      <td>0</td>\n",
       "    </tr>\n",
       "    <tr>\n",
       "      <th>1010621</th>\n",
       "      <td>chr17</td>\n",
       "      <td>18942720</td>\n",
       "      <td>0</td>\n",
       "    </tr>\n",
       "    <tr>\n",
       "      <th>1010622</th>\n",
       "      <td>chr17</td>\n",
       "      <td>19110507</td>\n",
       "      <td>0</td>\n",
       "    </tr>\n",
       "    <tr>\n",
       "      <th>1135965</th>\n",
       "      <td>chr22</td>\n",
       "      <td>21786595</td>\n",
       "      <td>0</td>\n",
       "    </tr>\n",
       "    <tr>\n",
       "      <th>1135966</th>\n",
       "      <td>chr22</td>\n",
       "      <td>21794733</td>\n",
       "      <td>0</td>\n",
       "    </tr>\n",
       "  </tbody>\n",
       "</table>\n",
       "</div>"
      ],
      "text/plain": [
       "           chr        pos  non_missing_samples\n",
       "49745     chr1  149810915                    0\n",
       "93113     chr1  248612910                    0\n",
       "139998    chr2  112037028                    0\n",
       "147566    chr2  131315032                    0\n",
       "372436    chr5   70225669                    0\n",
       "372440    chr5   70324611                    0\n",
       "439255    chr6   31950247                    0\n",
       "524919    chr7   62878463                    0\n",
       "528110    chr7   74269928                    0\n",
       "537161    chr7  100641872                    0\n",
       "566060    chr8    7348911                    0\n",
       "739405   chr11    3299958                    0\n",
       "739406   chr11    3309471                    0\n",
       "933656   chr15   32642625                    0\n",
       "1010621  chr17   18942720                    0\n",
       "1010622  chr17   19110507                    0\n",
       "1135965  chr22   21786595                    0\n",
       "1135966  chr22   21794733                    0"
      ]
     },
     "execution_count": 20,
     "metadata": {},
     "output_type": "execute_result"
    }
   ],
   "source": [
    "ancient_sample_coverage[ancient_sample_coverage['non_missing_samples'] == 0]"
   ]
  },
  {
   "cell_type": "code",
   "execution_count": 21,
   "id": "c6ff6e22-1b6f-4467-9cac-e1fbb4ced457",
   "metadata": {},
   "outputs": [
    {
     "data": {
      "text/plain": [
       "8124"
      ]
     },
     "execution_count": 21,
     "metadata": {},
     "output_type": "execute_result"
    }
   ],
   "source": [
    "ancient_sample_coverage['non_missing_samples'].max()"
   ]
  },
  {
   "cell_type": "markdown",
   "id": "96448960-f927-45b5-b0b9-83d51db0513b",
   "metadata": {},
   "source": [
    "## N AGV-LDV Pairs <a class = 'anchor' id = 'nagvldvpairs'></a>"
   ]
  },
  {
   "cell_type": "markdown",
   "id": "3f335862-5ecd-4bc4-90eb-587e60e178a0",
   "metadata": {},
   "source": [
    "How many total AGV-LDV pairs exist?"
   ]
  },
  {
   "cell_type": "code",
   "execution_count": 22,
   "id": "fc399bb7-d1d3-49bf-971e-731f060539f9",
   "metadata": {},
   "outputs": [],
   "source": [
    "#directory = '/wynton/group/capra/projects/ancient_genotyped_variants_proxy_catalog/data/AGV_LD_variants/'\n",
    "#file_suffix = '_AGV_LDVs_summary.txt.gz'\n",
    "\n",
    "#N_variant_pairs_per_chr = OrderedDict()\n",
    "#chrs = [str(i) for i in range(1, 23)] + ['X']\n",
    "\n",
    "#output_file_path = os.path.join(directory, 'N_AGV_LD_variant_pairs_by_chromosome.txt')\n",
    "#with open(output_file_path, 'w') as output_file:\n",
    "\n",
    "#   for chr in chrs:\n",
    "#       file_name = f'chr{chr}{file_suffix}'\n",
    "#       file_path = os.path.join(directory, file_name)\n",
    "\n",
    "#       if os.path.exists(file_path):\n",
    "#           with gzip.open(file_path, 'rt') as file:\n",
    "#               lines = file.readlines()[1:]  # Skip header\n",
    "#               chr = file_name.split('_')[0]\n",
    "#               N_variant_pairs_per_chr[chr] = len(lines)\n",
    "\n",
    "#   for chr, N_variant_pairs in N_variant_pairs_per_chr.items():\n",
    "#       output_file.write(f'{chr}: {N_variant_pairs}\\n')\n",
    "\n",
    "#   total_rows = sum(N_variant_pairs_per_chr.values())\n",
    "#   output_file.write(f'N Total Unique AGV-LDV pairs: {total_rows}\\n')\n",
    "\n",
    "#print(f'Output saved to: {output_file_path}')"
   ]
  },
  {
   "cell_type": "code",
   "execution_count": 23,
   "id": "ab59736e-961f-4678-b5f5-9a30fd80aec1",
   "metadata": {},
   "outputs": [
    {
     "name": "stdout",
     "output_type": "stream",
     "text": [
      "chr1: 18853532\n",
      "chr2: 21570407\n",
      "chr3: 18862705\n",
      "chr4: 17533078\n",
      "chr5: 16943569\n",
      "chr6: 22676664\n",
      "chr7: 13490604\n",
      "chr8: 14943881\n",
      "chr9: 10359368\n",
      "chr10: 13108861\n",
      "chr11: 12969412\n",
      "chr12: 11753683\n",
      "chr13: 8400589\n",
      "chr14: 7709272\n",
      "chr15: 6574979\n",
      "chr16: 6230628\n",
      "chr17: 5270539\n",
      "chr18: 6341375\n",
      "chr19: 3501808\n",
      "chr20: 4864793\n",
      "chr21: 2734315\n",
      "chr22: 2557739\n",
      "chrX: 13480874\n",
      "N Total Unique AGV-LDV pairs: 260732675\n"
     ]
    }
   ],
   "source": [
    "!cat /wynton/group/capra/projects/ancient_genotyped_variants_proxy_catalog/data/AGV_LD_variants/N_AGV_LD_variant_pairs_by_chromosome.txt"
   ]
  },
  {
   "cell_type": "markdown",
   "id": "b0776a54-cbb3-4acd-8713-f9ad7e284e3d",
   "metadata": {},
   "source": [
    "How many AGV-LDV pairs occur in each ancestry group?"
   ]
  },
  {
   "cell_type": "code",
   "execution_count": 24,
   "id": "a44d0e4b-849a-4c07-b006-ebfa682acdb6",
   "metadata": {},
   "outputs": [],
   "source": [
    "#directory = '/wynton/group/capra/projects/ancient_genotyped_variants_proxy_catalog/data/AGV_LD_variants/'\n",
    "#file_suffix = '_AGV_LDVs_summary.txt.gz'\n",
    "\n",
    "#chrs = [str(i) for i in range(1, 23)] + ['X']\n",
    "#ancestry_groups = ['AFR', 'EAS', 'EUR', 'SAS']\n",
    "#count_dict = {key: 0 for key in ancestry_groups}\n",
    "\n",
    "#output_file_path = os.path.join(directory, 'N_AGV_LD_variant_pairs_by_ancestry_group.txt')\n",
    "\n",
    "#for ancestry_group in ancestry_groups:\n",
    "#    total = 0\n",
    "#    for chr in chrs:\n",
    "#        file_name = f'chr{chr}{file_suffix}'\n",
    "#       file_path = os.path.join(directory, file_name)\n",
    "\n",
    "#        if os.path.exists(file_path):\n",
    "#            result = subprocess.run(['zgrep', '-c', ancestry_group, file_path], stdout=subprocess.PIPE, stderr=subprocess.DEVNULL, text=True)\n",
    "#            count = int(result.stdout.strip()) if result.stdout.strip().isdigit() else 0\n",
    "#            total += count\n",
    "#    count_dict[ancestry_group] = total\n",
    "\n",
    "#with open(output_file_path, 'w') as f:\n",
    "#    for ancestry_group, count in count_dict.items():\n",
    "#        f.write(f'Total occurrences of {ancestry_group}: {count}\\n')\n",
    "\n",
    "#print(f'Output saved to: {output_file_path}')"
   ]
  },
  {
   "cell_type": "code",
   "execution_count": 25,
   "id": "260e8b6e-401e-41a3-b9be-21fde82d3e49",
   "metadata": {},
   "outputs": [
    {
     "name": "stdout",
     "output_type": "stream",
     "text": [
      "Total occurrences of AFR: 87797014\n",
      "Total occurrences of EAS: 138035897\n",
      "Total occurrences of EUR: 156025349\n",
      "Total occurrences of SAS: 128135879\n"
     ]
    }
   ],
   "source": [
    "!cat /wynton/group/capra/projects/ancient_genotyped_variants_proxy_catalog/data/AGV_LD_variants/N_AGV_LD_variant_pairs_by_ancestry_group.txt"
   ]
  },
  {
   "cell_type": "markdown",
   "id": "0c494f93-0775-4d4a-9594-4e38253cdf78",
   "metadata": {},
   "source": [
    "## Proportion TopLD Variants Among MAF Classes <a class = 'anchor' id = 'proportiontopldvariantsamongmafclasses'></a>"
   ]
  },
  {
   "cell_type": "markdown",
   "id": "f23d398a-a28f-486f-a33e-972f5194d73e",
   "metadata": {},
   "source": [
    "What is the distribution of variant MAF classes among the four ancestry groups in TopLD?"
   ]
  },
  {
   "cell_type": "code",
   "execution_count": 26,
   "id": "591e3b2d-31dc-4b4a-b22f-e96c64a1f1b0",
   "metadata": {},
   "outputs": [
    {
     "data": {
      "text/html": [
       "<div>\n",
       "<style scoped>\n",
       "    .dataframe tbody tr th:only-of-type {\n",
       "        vertical-align: middle;\n",
       "    }\n",
       "\n",
       "    .dataframe tbody tr th {\n",
       "        vertical-align: top;\n",
       "    }\n",
       "\n",
       "    .dataframe thead th {\n",
       "        text-align: right;\n",
       "    }\n",
       "</style>\n",
       "<table border=\"1\" class=\"dataframe\">\n",
       "  <thead>\n",
       "    <tr style=\"text-align: right;\">\n",
       "      <th></th>\n",
       "      <th>ancestry_group</th>\n",
       "      <th>MAF_class</th>\n",
       "      <th>proportion</th>\n",
       "    </tr>\n",
       "  </thead>\n",
       "  <tbody>\n",
       "    <tr>\n",
       "      <th>0</th>\n",
       "      <td>AFR</td>\n",
       "      <td>UR</td>\n",
       "      <td>0.512049</td>\n",
       "    </tr>\n",
       "    <tr>\n",
       "      <th>1</th>\n",
       "      <td>AFR</td>\n",
       "      <td>R</td>\n",
       "      <td>0.230152</td>\n",
       "    </tr>\n",
       "    <tr>\n",
       "      <th>2</th>\n",
       "      <td>AFR</td>\n",
       "      <td>LF</td>\n",
       "      <td>0.113081</td>\n",
       "    </tr>\n",
       "    <tr>\n",
       "      <th>3</th>\n",
       "      <td>AFR</td>\n",
       "      <td>C</td>\n",
       "      <td>0.144717</td>\n",
       "    </tr>\n",
       "    <tr>\n",
       "      <th>4</th>\n",
       "      <td>EAS</td>\n",
       "      <td>UR</td>\n",
       "      <td>0.530110</td>\n",
       "    </tr>\n",
       "    <tr>\n",
       "      <th>5</th>\n",
       "      <td>EAS</td>\n",
       "      <td>R</td>\n",
       "      <td>0.248446</td>\n",
       "    </tr>\n",
       "    <tr>\n",
       "      <th>6</th>\n",
       "      <td>EAS</td>\n",
       "      <td>C</td>\n",
       "      <td>0.159941</td>\n",
       "    </tr>\n",
       "    <tr>\n",
       "      <th>7</th>\n",
       "      <td>EAS</td>\n",
       "      <td>LF</td>\n",
       "      <td>0.061503</td>\n",
       "    </tr>\n",
       "    <tr>\n",
       "      <th>8</th>\n",
       "      <td>EUR</td>\n",
       "      <td>UR</td>\n",
       "      <td>0.897654</td>\n",
       "    </tr>\n",
       "    <tr>\n",
       "      <th>9</th>\n",
       "      <td>EUR</td>\n",
       "      <td>R</td>\n",
       "      <td>0.043853</td>\n",
       "    </tr>\n",
       "    <tr>\n",
       "      <th>10</th>\n",
       "      <td>EUR</td>\n",
       "      <td>LF</td>\n",
       "      <td>0.017851</td>\n",
       "    </tr>\n",
       "    <tr>\n",
       "      <th>11</th>\n",
       "      <td>EUR</td>\n",
       "      <td>C</td>\n",
       "      <td>0.040642</td>\n",
       "    </tr>\n",
       "    <tr>\n",
       "      <th>12</th>\n",
       "      <td>SAS</td>\n",
       "      <td>R</td>\n",
       "      <td>0.579107</td>\n",
       "    </tr>\n",
       "    <tr>\n",
       "      <th>13</th>\n",
       "      <td>SAS</td>\n",
       "      <td>LF</td>\n",
       "      <td>0.135477</td>\n",
       "    </tr>\n",
       "    <tr>\n",
       "      <th>14</th>\n",
       "      <td>SAS</td>\n",
       "      <td>C</td>\n",
       "      <td>0.285416</td>\n",
       "    </tr>\n",
       "  </tbody>\n",
       "</table>\n",
       "</div>"
      ],
      "text/plain": [
       "   ancestry_group MAF_class  proportion\n",
       "0             AFR        UR    0.512049\n",
       "1             AFR         R    0.230152\n",
       "2             AFR        LF    0.113081\n",
       "3             AFR         C    0.144717\n",
       "4             EAS        UR    0.530110\n",
       "5             EAS         R    0.248446\n",
       "6             EAS         C    0.159941\n",
       "7             EAS        LF    0.061503\n",
       "8             EUR        UR    0.897654\n",
       "9             EUR         R    0.043853\n",
       "10            EUR        LF    0.017851\n",
       "11            EUR         C    0.040642\n",
       "12            SAS         R    0.579107\n",
       "13            SAS        LF    0.135477\n",
       "14            SAS         C    0.285416"
      ]
     },
     "execution_count": 26,
     "metadata": {},
     "output_type": "execute_result"
    }
   ],
   "source": [
    "proportion_TopLD_variants_per_ancestry_group_per_MAF_class = pd.read_csv('/wynton/group/capra/projects/ancient_genotyped_variants_proxy_catalog/data/TopLD/proportion_TopLD_variants_per_ancestry_group_per_MAF_class.txt', sep='\\t', header=0)\n",
    "proportion_TopLD_variants_per_ancestry_group_per_MAF_class"
   ]
  },
  {
   "cell_type": "markdown",
   "id": "f8e678fc-c48c-4fdd-b18b-b13c8b2c597f",
   "metadata": {},
   "source": [
    "## N and Proportion TopLD Variants in LD with AGVs at Varying LD Thresholds <a class = 'anchor' id = 'nandproportiontopldvariantsinldwithagvsatvaryingldthresholds'></a>"
   ]
  },
  {
   "cell_type": "markdown",
   "id": "35b70bbf-4393-4505-8d69-cdae287861e7",
   "metadata": {},
   "source": [
    "What are the counts and proportions of TopLD variants in LD at a given threshold with at least one AGV among the four ancestry groups at varying LD thresholds?"
   ]
  },
  {
   "cell_type": "code",
   "execution_count": 27,
   "id": "6c59bb8d-ba11-46ff-b646-b901878b302b",
   "metadata": {},
   "outputs": [],
   "source": [
    "def concat_N_TopLD_variants_in_LD_with_AGVs_files():\n",
    "    \"\"\"\n",
    "    Reads multiple text files matching a pattern, extracts a variable from the filename,\n",
    "    adds a new column with the variable, and concatenates all files into one DataFrame.\n",
    "\n",
    "    Parameters:\n",
    "    - file_pattern (str): Glob pattern to match filenames (e.g., \"data_*.txt\").\n",
    "    - variable_position (int): The position of the variable in the filename when split by an underscore.\n",
    "    - delimiter (str): Delimiter used in the text files (default is tab-delimited).\n",
    "\n",
    "    Returns:\n",
    "    - pd.DataFrame: Concatenated DataFrame with an additional column for the variable.\n",
    "    \"\"\"\n",
    "    data = []\n",
    "    ancestry_groups = ['AFR','EAS','EUR','SAS']\n",
    "\n",
    "    for ancestry_group in ancestry_groups:\n",
    "        file_path = os.path.join('/wynton/group/capra/projects/ancient_genotyped_variants_proxy_catalog/data/AGV_LD_variants', f'{ancestry_group}_TopLD_variants_in_LD_with_AGVs.txt')\n",
    "        for file in glob.glob(file_path):\n",
    "            df = pd.read_csv(file, sep='\\t', header=0)\n",
    "            df['ancestry_group'] = ancestry_group\n",
    "            df = df[['ancestry_group','MAF_class','R2_0.2','R2_0.5','R2_0.6','R2_0.7','R2_0.8','R2_0.9','R2_0.92','R2_0.94','R2_0.96','R2_0.98','R2_1','Sum']]            \n",
    "            data.append(df)\n",
    "\n",
    "    concatenated_df = pd.concat(data, ignore_index=True)\n",
    "\n",
    "    return concatenated_df"
   ]
  },
  {
   "cell_type": "code",
   "execution_count": 28,
   "id": "48335539-bb7e-49ec-beb5-3183da561117",
   "metadata": {},
   "outputs": [
    {
     "data": {
      "text/html": [
       "<div>\n",
       "<style scoped>\n",
       "    .dataframe tbody tr th:only-of-type {\n",
       "        vertical-align: middle;\n",
       "    }\n",
       "\n",
       "    .dataframe tbody tr th {\n",
       "        vertical-align: top;\n",
       "    }\n",
       "\n",
       "    .dataframe thead th {\n",
       "        text-align: right;\n",
       "    }\n",
       "</style>\n",
       "<table border=\"1\" class=\"dataframe\">\n",
       "  <thead>\n",
       "    <tr style=\"text-align: right;\">\n",
       "      <th></th>\n",
       "      <th>ancestry_group</th>\n",
       "      <th>MAF_class</th>\n",
       "      <th>R2_0.2</th>\n",
       "      <th>R2_0.5</th>\n",
       "      <th>R2_0.6</th>\n",
       "      <th>R2_0.7</th>\n",
       "      <th>R2_0.8</th>\n",
       "      <th>R2_0.9</th>\n",
       "      <th>R2_0.92</th>\n",
       "      <th>R2_0.94</th>\n",
       "      <th>R2_0.96</th>\n",
       "      <th>R2_0.98</th>\n",
       "      <th>R2_1</th>\n",
       "      <th>Sum</th>\n",
       "    </tr>\n",
       "  </thead>\n",
       "  <tbody>\n",
       "    <tr>\n",
       "      <th>0</th>\n",
       "      <td>AFR</td>\n",
       "      <td>UR</td>\n",
       "      <td>1135209</td>\n",
       "      <td>643837</td>\n",
       "      <td>372274</td>\n",
       "      <td>349570</td>\n",
       "      <td>349570</td>\n",
       "      <td>349570</td>\n",
       "      <td>349570</td>\n",
       "      <td>349570</td>\n",
       "      <td>349570</td>\n",
       "      <td>349570</td>\n",
       "      <td>349570</td>\n",
       "      <td>32165070</td>\n",
       "    </tr>\n",
       "    <tr>\n",
       "      <th>1</th>\n",
       "      <td>AFR</td>\n",
       "      <td>R</td>\n",
       "      <td>1549944</td>\n",
       "      <td>628429</td>\n",
       "      <td>532138</td>\n",
       "      <td>435018</td>\n",
       "      <td>356358</td>\n",
       "      <td>277326</td>\n",
       "      <td>260176</td>\n",
       "      <td>247282</td>\n",
       "      <td>231699</td>\n",
       "      <td>228122</td>\n",
       "      <td>228122</td>\n",
       "      <td>14457324</td>\n",
       "    </tr>\n",
       "    <tr>\n",
       "      <th>2</th>\n",
       "      <td>AFR</td>\n",
       "      <td>LF</td>\n",
       "      <td>3102526</td>\n",
       "      <td>1290247</td>\n",
       "      <td>1048892</td>\n",
       "      <td>863875</td>\n",
       "      <td>698598</td>\n",
       "      <td>522219</td>\n",
       "      <td>479430</td>\n",
       "      <td>428070</td>\n",
       "      <td>368150</td>\n",
       "      <td>281545</td>\n",
       "      <td>206709</td>\n",
       "      <td>7103365</td>\n",
       "    </tr>\n",
       "    <tr>\n",
       "      <th>3</th>\n",
       "      <td>AFR</td>\n",
       "      <td>C</td>\n",
       "      <td>8033882</td>\n",
       "      <td>5985626</td>\n",
       "      <td>5357188</td>\n",
       "      <td>4710670</td>\n",
       "      <td>3991442</td>\n",
       "      <td>3116337</td>\n",
       "      <td>2895375</td>\n",
       "      <td>2640908</td>\n",
       "      <td>2325497</td>\n",
       "      <td>1851755</td>\n",
       "      <td>567216</td>\n",
       "      <td>9090580</td>\n",
       "    </tr>\n",
       "    <tr>\n",
       "      <th>4</th>\n",
       "      <td>EAS</td>\n",
       "      <td>UR</td>\n",
       "      <td>1308976</td>\n",
       "      <td>1027423</td>\n",
       "      <td>779722</td>\n",
       "      <td>779722</td>\n",
       "      <td>779722</td>\n",
       "      <td>779722</td>\n",
       "      <td>779722</td>\n",
       "      <td>779722</td>\n",
       "      <td>779722</td>\n",
       "      <td>779722</td>\n",
       "      <td>779722</td>\n",
       "      <td>19553587</td>\n",
       "    </tr>\n",
       "    <tr>\n",
       "      <th>5</th>\n",
       "      <td>EAS</td>\n",
       "      <td>R</td>\n",
       "      <td>1164863</td>\n",
       "      <td>829613</td>\n",
       "      <td>695518</td>\n",
       "      <td>625110</td>\n",
       "      <td>581846</td>\n",
       "      <td>526434</td>\n",
       "      <td>519890</td>\n",
       "      <td>507644</td>\n",
       "      <td>506172</td>\n",
       "      <td>506172</td>\n",
       "      <td>506172</td>\n",
       "      <td>9164135</td>\n",
       "    </tr>\n",
       "    <tr>\n",
       "      <th>6</th>\n",
       "      <td>EAS</td>\n",
       "      <td>LF</td>\n",
       "      <td>1214328</td>\n",
       "      <td>967195</td>\n",
       "      <td>913886</td>\n",
       "      <td>856989</td>\n",
       "      <td>788120</td>\n",
       "      <td>680099</td>\n",
       "      <td>644810</td>\n",
       "      <td>604087</td>\n",
       "      <td>537512</td>\n",
       "      <td>452932</td>\n",
       "      <td>405850</td>\n",
       "      <td>2268582</td>\n",
       "    </tr>\n",
       "    <tr>\n",
       "      <th>7</th>\n",
       "      <td>EAS</td>\n",
       "      <td>C</td>\n",
       "      <td>5622288</td>\n",
       "      <td>5160208</td>\n",
       "      <td>4970029</td>\n",
       "      <td>4746858</td>\n",
       "      <td>4450699</td>\n",
       "      <td>3952501</td>\n",
       "      <td>3788008</td>\n",
       "      <td>3570656</td>\n",
       "      <td>3252480</td>\n",
       "      <td>2673157</td>\n",
       "      <td>1154193</td>\n",
       "      <td>5899580</td>\n",
       "    </tr>\n",
       "    <tr>\n",
       "      <th>8</th>\n",
       "      <td>EUR</td>\n",
       "      <td>UR</td>\n",
       "      <td>5367310</td>\n",
       "      <td>2992388</td>\n",
       "      <td>2026523</td>\n",
       "      <td>1699717</td>\n",
       "      <td>1501551</td>\n",
       "      <td>1293541</td>\n",
       "      <td>1255617</td>\n",
       "      <td>1229263</td>\n",
       "      <td>1204432</td>\n",
       "      <td>1199025</td>\n",
       "      <td>1199025</td>\n",
       "      <td>140512443</td>\n",
       "    </tr>\n",
       "    <tr>\n",
       "      <th>9</th>\n",
       "      <td>EUR</td>\n",
       "      <td>R</td>\n",
       "      <td>1343295</td>\n",
       "      <td>934561</td>\n",
       "      <td>836898</td>\n",
       "      <td>734178</td>\n",
       "      <td>617535</td>\n",
       "      <td>467551</td>\n",
       "      <td>427916</td>\n",
       "      <td>378168</td>\n",
       "      <td>324162</td>\n",
       "      <td>240885</td>\n",
       "      <td>163188</td>\n",
       "      <td>6864507</td>\n",
       "    </tr>\n",
       "    <tr>\n",
       "      <th>10</th>\n",
       "      <td>EUR</td>\n",
       "      <td>LF</td>\n",
       "      <td>1575852</td>\n",
       "      <td>1116159</td>\n",
       "      <td>1030738</td>\n",
       "      <td>948719</td>\n",
       "      <td>858130</td>\n",
       "      <td>729136</td>\n",
       "      <td>689657</td>\n",
       "      <td>638476</td>\n",
       "      <td>567938</td>\n",
       "      <td>447884</td>\n",
       "      <td>90200</td>\n",
       "      <td>2794230</td>\n",
       "    </tr>\n",
       "    <tr>\n",
       "      <th>11</th>\n",
       "      <td>EUR</td>\n",
       "      <td>C</td>\n",
       "      <td>6095540</td>\n",
       "      <td>5566854</td>\n",
       "      <td>5346420</td>\n",
       "      <td>5087203</td>\n",
       "      <td>4749915</td>\n",
       "      <td>4213108</td>\n",
       "      <td>4046284</td>\n",
       "      <td>3832572</td>\n",
       "      <td>3531149</td>\n",
       "      <td>2992624</td>\n",
       "      <td>350641</td>\n",
       "      <td>6361836</td>\n",
       "    </tr>\n",
       "    <tr>\n",
       "      <th>12</th>\n",
       "      <td>SAS</td>\n",
       "      <td>UR</td>\n",
       "      <td>0</td>\n",
       "      <td>0</td>\n",
       "      <td>0</td>\n",
       "      <td>0</td>\n",
       "      <td>0</td>\n",
       "      <td>0</td>\n",
       "      <td>0</td>\n",
       "      <td>0</td>\n",
       "      <td>0</td>\n",
       "      <td>0</td>\n",
       "      <td>0</td>\n",
       "      <td>0</td>\n",
       "    </tr>\n",
       "    <tr>\n",
       "      <th>13</th>\n",
       "      <td>SAS</td>\n",
       "      <td>R</td>\n",
       "      <td>1861934</td>\n",
       "      <td>834491</td>\n",
       "      <td>817215</td>\n",
       "      <td>777939</td>\n",
       "      <td>748897</td>\n",
       "      <td>748897</td>\n",
       "      <td>748897</td>\n",
       "      <td>748897</td>\n",
       "      <td>748897</td>\n",
       "      <td>748897</td>\n",
       "      <td>748897</td>\n",
       "      <td>13361455</td>\n",
       "    </tr>\n",
       "    <tr>\n",
       "      <th>14</th>\n",
       "      <td>SAS</td>\n",
       "      <td>LF</td>\n",
       "      <td>1650499</td>\n",
       "      <td>1178142</td>\n",
       "      <td>1082707</td>\n",
       "      <td>987313</td>\n",
       "      <td>877345</td>\n",
       "      <td>729425</td>\n",
       "      <td>698955</td>\n",
       "      <td>664639</td>\n",
       "      <td>626569</td>\n",
       "      <td>626569</td>\n",
       "      <td>626569</td>\n",
       "      <td>3125797</td>\n",
       "    </tr>\n",
       "    <tr>\n",
       "      <th>15</th>\n",
       "      <td>SAS</td>\n",
       "      <td>C</td>\n",
       "      <td>6276413</td>\n",
       "      <td>5648315</td>\n",
       "      <td>5384482</td>\n",
       "      <td>5072427</td>\n",
       "      <td>4663117</td>\n",
       "      <td>4005005</td>\n",
       "      <td>3792823</td>\n",
       "      <td>3526223</td>\n",
       "      <td>3150674</td>\n",
       "      <td>2586781</td>\n",
       "      <td>1954247</td>\n",
       "      <td>6585278</td>\n",
       "    </tr>\n",
       "  </tbody>\n",
       "</table>\n",
       "</div>"
      ],
      "text/plain": [
       "   ancestry_group MAF_class   R2_0.2   R2_0.5   R2_0.6   R2_0.7   R2_0.8  \\\n",
       "0             AFR        UR  1135209   643837   372274   349570   349570   \n",
       "1             AFR         R  1549944   628429   532138   435018   356358   \n",
       "2             AFR        LF  3102526  1290247  1048892   863875   698598   \n",
       "3             AFR         C  8033882  5985626  5357188  4710670  3991442   \n",
       "4             EAS        UR  1308976  1027423   779722   779722   779722   \n",
       "5             EAS         R  1164863   829613   695518   625110   581846   \n",
       "6             EAS        LF  1214328   967195   913886   856989   788120   \n",
       "7             EAS         C  5622288  5160208  4970029  4746858  4450699   \n",
       "8             EUR        UR  5367310  2992388  2026523  1699717  1501551   \n",
       "9             EUR         R  1343295   934561   836898   734178   617535   \n",
       "10            EUR        LF  1575852  1116159  1030738   948719   858130   \n",
       "11            EUR         C  6095540  5566854  5346420  5087203  4749915   \n",
       "12            SAS        UR        0        0        0        0        0   \n",
       "13            SAS         R  1861934   834491   817215   777939   748897   \n",
       "14            SAS        LF  1650499  1178142  1082707   987313   877345   \n",
       "15            SAS         C  6276413  5648315  5384482  5072427  4663117   \n",
       "\n",
       "     R2_0.9  R2_0.92  R2_0.94  R2_0.96  R2_0.98     R2_1        Sum  \n",
       "0    349570   349570   349570   349570   349570   349570   32165070  \n",
       "1    277326   260176   247282   231699   228122   228122   14457324  \n",
       "2    522219   479430   428070   368150   281545   206709    7103365  \n",
       "3   3116337  2895375  2640908  2325497  1851755   567216    9090580  \n",
       "4    779722   779722   779722   779722   779722   779722   19553587  \n",
       "5    526434   519890   507644   506172   506172   506172    9164135  \n",
       "6    680099   644810   604087   537512   452932   405850    2268582  \n",
       "7   3952501  3788008  3570656  3252480  2673157  1154193    5899580  \n",
       "8   1293541  1255617  1229263  1204432  1199025  1199025  140512443  \n",
       "9    467551   427916   378168   324162   240885   163188    6864507  \n",
       "10   729136   689657   638476   567938   447884    90200    2794230  \n",
       "11  4213108  4046284  3832572  3531149  2992624   350641    6361836  \n",
       "12        0        0        0        0        0        0          0  \n",
       "13   748897   748897   748897   748897   748897   748897   13361455  \n",
       "14   729425   698955   664639   626569   626569   626569    3125797  \n",
       "15  4005005  3792823  3526223  3150674  2586781  1954247    6585278  "
      ]
     },
     "execution_count": 28,
     "metadata": {},
     "output_type": "execute_result"
    }
   ],
   "source": [
    "N_TopLD_variants_in_LD_with_AGVs = concat_N_TopLD_variants_in_LD_with_AGVs_files()\n",
    "N_TopLD_variants_in_LD_with_AGVs"
   ]
  },
  {
   "cell_type": "markdown",
   "id": "60389122-d3a3-4aca-904d-96a6ebd2896a",
   "metadata": {},
   "source": [
    "Let's save this dataframe for the supplement."
   ]
  },
  {
   "cell_type": "code",
   "execution_count": 29,
   "id": "3fb164f5-8160-4ad3-8c8b-0f11fd0a7a48",
   "metadata": {
    "scrolled": true
   },
   "outputs": [],
   "source": [
    "N_TopLD_variants_in_LD_with_AGVs.to_csv('/wynton/group/capra/projects/ancient_genotyped_variants_proxy_catalog/data/supplemental_dfs/N_TopLD_variants_in_LD_with_AGVs.txt', sep='\\t', header=True, index=False)"
   ]
  },
  {
   "cell_type": "code",
   "execution_count": 30,
   "id": "9e86da42-972b-4175-a375-783f1e868fa6",
   "metadata": {},
   "outputs": [],
   "source": [
    "def proportion_TopLD_variants_in_LD_with_AGVs_files(df):\n",
    "    \"\"\"\n",
    "    Calculates proportions for count columns based on the 'Sum' column in the raw counts DataFrame.\n",
    "\n",
    "    Parameters:\n",
    "    - raw_counts_df (pd.DataFrame): DataFrame with raw counts.\n",
    "\n",
    "    Returns:\n",
    "    - pd.DataFrame: DataFrame with proportions calculated for each count column.\n",
    "    \"\"\"\n",
    "    count_cols = df.columns[2:13]\n",
    "    df[count_cols] = df[count_cols].div(df['Sum'], axis=0)\n",
    "    proportions_df = df.drop(['Sum'], axis=1)\n",
    "\n",
    "    return proportions_df"
   ]
  },
  {
   "cell_type": "code",
   "execution_count": 31,
   "id": "6d57bd18-79b8-4f0b-bcc3-7d7eb196ffe8",
   "metadata": {},
   "outputs": [
    {
     "data": {
      "text/html": [
       "<div>\n",
       "<style scoped>\n",
       "    .dataframe tbody tr th:only-of-type {\n",
       "        vertical-align: middle;\n",
       "    }\n",
       "\n",
       "    .dataframe tbody tr th {\n",
       "        vertical-align: top;\n",
       "    }\n",
       "\n",
       "    .dataframe thead th {\n",
       "        text-align: right;\n",
       "    }\n",
       "</style>\n",
       "<table border=\"1\" class=\"dataframe\">\n",
       "  <thead>\n",
       "    <tr style=\"text-align: right;\">\n",
       "      <th></th>\n",
       "      <th>ancestry_group</th>\n",
       "      <th>MAF_class</th>\n",
       "      <th>R2_0.2</th>\n",
       "      <th>R2_0.5</th>\n",
       "      <th>R2_0.6</th>\n",
       "      <th>R2_0.7</th>\n",
       "      <th>R2_0.8</th>\n",
       "      <th>R2_0.9</th>\n",
       "      <th>R2_0.92</th>\n",
       "      <th>R2_0.94</th>\n",
       "      <th>R2_0.96</th>\n",
       "      <th>R2_0.98</th>\n",
       "      <th>R2_1</th>\n",
       "    </tr>\n",
       "  </thead>\n",
       "  <tbody>\n",
       "    <tr>\n",
       "      <th>0</th>\n",
       "      <td>AFR</td>\n",
       "      <td>UR</td>\n",
       "      <td>0.035293</td>\n",
       "      <td>0.020017</td>\n",
       "      <td>0.011574</td>\n",
       "      <td>0.010868</td>\n",
       "      <td>0.010868</td>\n",
       "      <td>0.010868</td>\n",
       "      <td>0.010868</td>\n",
       "      <td>0.010868</td>\n",
       "      <td>0.010868</td>\n",
       "      <td>0.010868</td>\n",
       "      <td>0.010868</td>\n",
       "    </tr>\n",
       "    <tr>\n",
       "      <th>1</th>\n",
       "      <td>AFR</td>\n",
       "      <td>R</td>\n",
       "      <td>0.107208</td>\n",
       "      <td>0.043468</td>\n",
       "      <td>0.036808</td>\n",
       "      <td>0.030090</td>\n",
       "      <td>0.024649</td>\n",
       "      <td>0.019182</td>\n",
       "      <td>0.017996</td>\n",
       "      <td>0.017104</td>\n",
       "      <td>0.016026</td>\n",
       "      <td>0.015779</td>\n",
       "      <td>0.015779</td>\n",
       "    </tr>\n",
       "    <tr>\n",
       "      <th>2</th>\n",
       "      <td>AFR</td>\n",
       "      <td>LF</td>\n",
       "      <td>0.436768</td>\n",
       "      <td>0.181639</td>\n",
       "      <td>0.147661</td>\n",
       "      <td>0.121615</td>\n",
       "      <td>0.098347</td>\n",
       "      <td>0.073517</td>\n",
       "      <td>0.067493</td>\n",
       "      <td>0.060263</td>\n",
       "      <td>0.051828</td>\n",
       "      <td>0.039635</td>\n",
       "      <td>0.029100</td>\n",
       "    </tr>\n",
       "    <tr>\n",
       "      <th>3</th>\n",
       "      <td>AFR</td>\n",
       "      <td>C</td>\n",
       "      <td>0.883759</td>\n",
       "      <td>0.658443</td>\n",
       "      <td>0.589312</td>\n",
       "      <td>0.518192</td>\n",
       "      <td>0.439075</td>\n",
       "      <td>0.342809</td>\n",
       "      <td>0.318503</td>\n",
       "      <td>0.290510</td>\n",
       "      <td>0.255814</td>\n",
       "      <td>0.203700</td>\n",
       "      <td>0.062396</td>\n",
       "    </tr>\n",
       "    <tr>\n",
       "      <th>4</th>\n",
       "      <td>EAS</td>\n",
       "      <td>UR</td>\n",
       "      <td>0.066943</td>\n",
       "      <td>0.052544</td>\n",
       "      <td>0.039876</td>\n",
       "      <td>0.039876</td>\n",
       "      <td>0.039876</td>\n",
       "      <td>0.039876</td>\n",
       "      <td>0.039876</td>\n",
       "      <td>0.039876</td>\n",
       "      <td>0.039876</td>\n",
       "      <td>0.039876</td>\n",
       "      <td>0.039876</td>\n",
       "    </tr>\n",
       "    <tr>\n",
       "      <th>5</th>\n",
       "      <td>EAS</td>\n",
       "      <td>R</td>\n",
       "      <td>0.127111</td>\n",
       "      <td>0.090528</td>\n",
       "      <td>0.075896</td>\n",
       "      <td>0.068213</td>\n",
       "      <td>0.063492</td>\n",
       "      <td>0.057445</td>\n",
       "      <td>0.056731</td>\n",
       "      <td>0.055395</td>\n",
       "      <td>0.055234</td>\n",
       "      <td>0.055234</td>\n",
       "      <td>0.055234</td>\n",
       "    </tr>\n",
       "    <tr>\n",
       "      <th>6</th>\n",
       "      <td>EAS</td>\n",
       "      <td>LF</td>\n",
       "      <td>0.535281</td>\n",
       "      <td>0.426343</td>\n",
       "      <td>0.402845</td>\n",
       "      <td>0.377764</td>\n",
       "      <td>0.347406</td>\n",
       "      <td>0.299790</td>\n",
       "      <td>0.284235</td>\n",
       "      <td>0.266284</td>\n",
       "      <td>0.236937</td>\n",
       "      <td>0.199654</td>\n",
       "      <td>0.178900</td>\n",
       "    </tr>\n",
       "    <tr>\n",
       "      <th>7</th>\n",
       "      <td>EAS</td>\n",
       "      <td>C</td>\n",
       "      <td>0.952998</td>\n",
       "      <td>0.874674</td>\n",
       "      <td>0.842438</td>\n",
       "      <td>0.804609</td>\n",
       "      <td>0.754409</td>\n",
       "      <td>0.669963</td>\n",
       "      <td>0.642081</td>\n",
       "      <td>0.605239</td>\n",
       "      <td>0.551307</td>\n",
       "      <td>0.453110</td>\n",
       "      <td>0.195640</td>\n",
       "    </tr>\n",
       "    <tr>\n",
       "      <th>8</th>\n",
       "      <td>EUR</td>\n",
       "      <td>UR</td>\n",
       "      <td>0.038198</td>\n",
       "      <td>0.021296</td>\n",
       "      <td>0.014422</td>\n",
       "      <td>0.012097</td>\n",
       "      <td>0.010686</td>\n",
       "      <td>0.009206</td>\n",
       "      <td>0.008936</td>\n",
       "      <td>0.008748</td>\n",
       "      <td>0.008572</td>\n",
       "      <td>0.008533</td>\n",
       "      <td>0.008533</td>\n",
       "    </tr>\n",
       "    <tr>\n",
       "      <th>9</th>\n",
       "      <td>EUR</td>\n",
       "      <td>R</td>\n",
       "      <td>0.195687</td>\n",
       "      <td>0.136144</td>\n",
       "      <td>0.121917</td>\n",
       "      <td>0.106953</td>\n",
       "      <td>0.089961</td>\n",
       "      <td>0.068111</td>\n",
       "      <td>0.062337</td>\n",
       "      <td>0.055090</td>\n",
       "      <td>0.047223</td>\n",
       "      <td>0.035091</td>\n",
       "      <td>0.023773</td>\n",
       "    </tr>\n",
       "    <tr>\n",
       "      <th>10</th>\n",
       "      <td>EUR</td>\n",
       "      <td>LF</td>\n",
       "      <td>0.563966</td>\n",
       "      <td>0.399451</td>\n",
       "      <td>0.368881</td>\n",
       "      <td>0.339528</td>\n",
       "      <td>0.307108</td>\n",
       "      <td>0.260943</td>\n",
       "      <td>0.246815</td>\n",
       "      <td>0.228498</td>\n",
       "      <td>0.203254</td>\n",
       "      <td>0.160289</td>\n",
       "      <td>0.032281</td>\n",
       "    </tr>\n",
       "    <tr>\n",
       "      <th>11</th>\n",
       "      <td>EUR</td>\n",
       "      <td>C</td>\n",
       "      <td>0.958142</td>\n",
       "      <td>0.875039</td>\n",
       "      <td>0.840389</td>\n",
       "      <td>0.799644</td>\n",
       "      <td>0.746626</td>\n",
       "      <td>0.662247</td>\n",
       "      <td>0.636025</td>\n",
       "      <td>0.602432</td>\n",
       "      <td>0.555052</td>\n",
       "      <td>0.470403</td>\n",
       "      <td>0.055116</td>\n",
       "    </tr>\n",
       "    <tr>\n",
       "      <th>12</th>\n",
       "      <td>SAS</td>\n",
       "      <td>UR</td>\n",
       "      <td>NaN</td>\n",
       "      <td>NaN</td>\n",
       "      <td>NaN</td>\n",
       "      <td>NaN</td>\n",
       "      <td>NaN</td>\n",
       "      <td>NaN</td>\n",
       "      <td>NaN</td>\n",
       "      <td>NaN</td>\n",
       "      <td>NaN</td>\n",
       "      <td>NaN</td>\n",
       "      <td>NaN</td>\n",
       "    </tr>\n",
       "    <tr>\n",
       "      <th>13</th>\n",
       "      <td>SAS</td>\n",
       "      <td>R</td>\n",
       "      <td>0.139351</td>\n",
       "      <td>0.062455</td>\n",
       "      <td>0.061162</td>\n",
       "      <td>0.058223</td>\n",
       "      <td>0.056049</td>\n",
       "      <td>0.056049</td>\n",
       "      <td>0.056049</td>\n",
       "      <td>0.056049</td>\n",
       "      <td>0.056049</td>\n",
       "      <td>0.056049</td>\n",
       "      <td>0.056049</td>\n",
       "    </tr>\n",
       "    <tr>\n",
       "      <th>14</th>\n",
       "      <td>SAS</td>\n",
       "      <td>LF</td>\n",
       "      <td>0.528025</td>\n",
       "      <td>0.376909</td>\n",
       "      <td>0.346378</td>\n",
       "      <td>0.315860</td>\n",
       "      <td>0.280679</td>\n",
       "      <td>0.233356</td>\n",
       "      <td>0.223609</td>\n",
       "      <td>0.212630</td>\n",
       "      <td>0.200451</td>\n",
       "      <td>0.200451</td>\n",
       "      <td>0.200451</td>\n",
       "    </tr>\n",
       "    <tr>\n",
       "      <th>15</th>\n",
       "      <td>SAS</td>\n",
       "      <td>C</td>\n",
       "      <td>0.953098</td>\n",
       "      <td>0.857719</td>\n",
       "      <td>0.817654</td>\n",
       "      <td>0.770268</td>\n",
       "      <td>0.708112</td>\n",
       "      <td>0.608176</td>\n",
       "      <td>0.575955</td>\n",
       "      <td>0.535471</td>\n",
       "      <td>0.478442</td>\n",
       "      <td>0.392813</td>\n",
       "      <td>0.296760</td>\n",
       "    </tr>\n",
       "  </tbody>\n",
       "</table>\n",
       "</div>"
      ],
      "text/plain": [
       "   ancestry_group MAF_class    R2_0.2    R2_0.5    R2_0.6    R2_0.7    R2_0.8  \\\n",
       "0             AFR        UR  0.035293  0.020017  0.011574  0.010868  0.010868   \n",
       "1             AFR         R  0.107208  0.043468  0.036808  0.030090  0.024649   \n",
       "2             AFR        LF  0.436768  0.181639  0.147661  0.121615  0.098347   \n",
       "3             AFR         C  0.883759  0.658443  0.589312  0.518192  0.439075   \n",
       "4             EAS        UR  0.066943  0.052544  0.039876  0.039876  0.039876   \n",
       "5             EAS         R  0.127111  0.090528  0.075896  0.068213  0.063492   \n",
       "6             EAS        LF  0.535281  0.426343  0.402845  0.377764  0.347406   \n",
       "7             EAS         C  0.952998  0.874674  0.842438  0.804609  0.754409   \n",
       "8             EUR        UR  0.038198  0.021296  0.014422  0.012097  0.010686   \n",
       "9             EUR         R  0.195687  0.136144  0.121917  0.106953  0.089961   \n",
       "10            EUR        LF  0.563966  0.399451  0.368881  0.339528  0.307108   \n",
       "11            EUR         C  0.958142  0.875039  0.840389  0.799644  0.746626   \n",
       "12            SAS        UR       NaN       NaN       NaN       NaN       NaN   \n",
       "13            SAS         R  0.139351  0.062455  0.061162  0.058223  0.056049   \n",
       "14            SAS        LF  0.528025  0.376909  0.346378  0.315860  0.280679   \n",
       "15            SAS         C  0.953098  0.857719  0.817654  0.770268  0.708112   \n",
       "\n",
       "      R2_0.9   R2_0.92   R2_0.94   R2_0.96   R2_0.98      R2_1  \n",
       "0   0.010868  0.010868  0.010868  0.010868  0.010868  0.010868  \n",
       "1   0.019182  0.017996  0.017104  0.016026  0.015779  0.015779  \n",
       "2   0.073517  0.067493  0.060263  0.051828  0.039635  0.029100  \n",
       "3   0.342809  0.318503  0.290510  0.255814  0.203700  0.062396  \n",
       "4   0.039876  0.039876  0.039876  0.039876  0.039876  0.039876  \n",
       "5   0.057445  0.056731  0.055395  0.055234  0.055234  0.055234  \n",
       "6   0.299790  0.284235  0.266284  0.236937  0.199654  0.178900  \n",
       "7   0.669963  0.642081  0.605239  0.551307  0.453110  0.195640  \n",
       "8   0.009206  0.008936  0.008748  0.008572  0.008533  0.008533  \n",
       "9   0.068111  0.062337  0.055090  0.047223  0.035091  0.023773  \n",
       "10  0.260943  0.246815  0.228498  0.203254  0.160289  0.032281  \n",
       "11  0.662247  0.636025  0.602432  0.555052  0.470403  0.055116  \n",
       "12       NaN       NaN       NaN       NaN       NaN       NaN  \n",
       "13  0.056049  0.056049  0.056049  0.056049  0.056049  0.056049  \n",
       "14  0.233356  0.223609  0.212630  0.200451  0.200451  0.200451  \n",
       "15  0.608176  0.575955  0.535471  0.478442  0.392813  0.296760  "
      ]
     },
     "execution_count": 31,
     "metadata": {},
     "output_type": "execute_result"
    }
   ],
   "source": [
    "proportion_TopLD_variants_in_LD_with_AGVs = proportion_TopLD_variants_in_LD_with_AGVs_files(N_TopLD_variants_in_LD_with_AGVs)\n",
    "proportion_TopLD_variants_in_LD_with_AGVs"
   ]
  },
  {
   "cell_type": "code",
   "execution_count": 32,
   "id": "98c4aa8f-2c44-4fae-adc4-8565751820de",
   "metadata": {},
   "outputs": [
    {
     "data": {
      "text/html": [
       "<div>\n",
       "<style scoped>\n",
       "    .dataframe tbody tr th:only-of-type {\n",
       "        vertical-align: middle;\n",
       "    }\n",
       "\n",
       "    .dataframe tbody tr th {\n",
       "        vertical-align: top;\n",
       "    }\n",
       "\n",
       "    .dataframe thead th {\n",
       "        text-align: right;\n",
       "    }\n",
       "</style>\n",
       "<table border=\"1\" class=\"dataframe\">\n",
       "  <thead>\n",
       "    <tr style=\"text-align: right;\">\n",
       "      <th></th>\n",
       "      <th>ancestry_group</th>\n",
       "      <th>MAF_class</th>\n",
       "      <th>R2</th>\n",
       "      <th>proportion</th>\n",
       "    </tr>\n",
       "  </thead>\n",
       "  <tbody>\n",
       "    <tr>\n",
       "      <th>0</th>\n",
       "      <td>AFR</td>\n",
       "      <td>UR</td>\n",
       "      <td>0.2</td>\n",
       "      <td>0.035293</td>\n",
       "    </tr>\n",
       "    <tr>\n",
       "      <th>1</th>\n",
       "      <td>AFR</td>\n",
       "      <td>R</td>\n",
       "      <td>0.2</td>\n",
       "      <td>0.107208</td>\n",
       "    </tr>\n",
       "    <tr>\n",
       "      <th>2</th>\n",
       "      <td>AFR</td>\n",
       "      <td>LF</td>\n",
       "      <td>0.2</td>\n",
       "      <td>0.436768</td>\n",
       "    </tr>\n",
       "    <tr>\n",
       "      <th>3</th>\n",
       "      <td>AFR</td>\n",
       "      <td>C</td>\n",
       "      <td>0.2</td>\n",
       "      <td>0.883759</td>\n",
       "    </tr>\n",
       "    <tr>\n",
       "      <th>4</th>\n",
       "      <td>EAS</td>\n",
       "      <td>UR</td>\n",
       "      <td>0.2</td>\n",
       "      <td>0.066943</td>\n",
       "    </tr>\n",
       "  </tbody>\n",
       "</table>\n",
       "</div>"
      ],
      "text/plain": [
       "  ancestry_group MAF_class   R2  proportion\n",
       "0            AFR        UR  0.2    0.035293\n",
       "1            AFR         R  0.2    0.107208\n",
       "2            AFR        LF  0.2    0.436768\n",
       "3            AFR         C  0.2    0.883759\n",
       "4            EAS        UR  0.2    0.066943"
      ]
     },
     "execution_count": 32,
     "metadata": {},
     "output_type": "execute_result"
    }
   ],
   "source": [
    "proportion_TopLD_variants_in_LD_with_AGVs_melted = pd.melt(proportion_TopLD_variants_in_LD_with_AGVs, id_vars=['ancestry_group','MAF_class'])\n",
    "proportion_TopLD_variants_in_LD_with_AGVs_melted = proportion_TopLD_variants_in_LD_with_AGVs_melted.rename(columns={'variable': 'R2', 'value': 'proportion'})\n",
    "proportion_TopLD_variants_in_LD_with_AGVs_melted['R2'] = proportion_TopLD_variants_in_LD_with_AGVs_melted['R2'].str.replace('R2_','',regex=True)\n",
    "proportion_TopLD_variants_in_LD_with_AGVs_melted.head(5)"
   ]
  },
  {
   "cell_type": "code",
   "execution_count": 33,
   "id": "b1b358ed-35a2-4b80-8831-29a5b300b550",
   "metadata": {},
   "outputs": [],
   "source": [
    "proportion_TopLD_variants_in_LD_with_AGVs_melted.to_csv('/wynton/group/capra/projects/ancient_genotyped_variants_proxy_catalog/data/AGV_LD_variants/proportion_TopLD_variants_in_LD_with_AGVs.txt', sep='\\t', header=True, index=False)"
   ]
  },
  {
   "cell_type": "markdown",
   "id": "7502bf7a-c5d6-4d14-bcdf-13cb08399fc8",
   "metadata": {},
   "source": [
    "## AGV and LD Variants GWAS Intersection <a class = 'anchor' id = 'gwasintersection'></a>"
   ]
  },
  {
   "cell_type": "markdown",
   "id": "ffbc9ec2-eb11-49f5-a397-2362f82090b4",
   "metadata": {},
   "source": [
    "Let's assess the intersection of AGV and AGV-LD variants with significant GWAS loci from ten common GWAS traits."
   ]
  },
  {
   "cell_type": "code",
   "execution_count": 34,
   "id": "1cf717a9-015b-46fa-8edf-f507e95b3a84",
   "metadata": {
    "scrolled": true
   },
   "outputs": [
    {
     "data": {
      "text/html": [
       "<div>\n",
       "<style scoped>\n",
       "    .dataframe tbody tr th:only-of-type {\n",
       "        vertical-align: middle;\n",
       "    }\n",
       "\n",
       "    .dataframe tbody tr th {\n",
       "        vertical-align: top;\n",
       "    }\n",
       "\n",
       "    .dataframe thead th {\n",
       "        text-align: right;\n",
       "    }\n",
       "</style>\n",
       "<table border=\"1\" class=\"dataframe\">\n",
       "  <thead>\n",
       "    <tr style=\"text-align: right;\">\n",
       "      <th></th>\n",
       "      <th>Trait</th>\n",
       "      <th>N_GWAS_significant_variants</th>\n",
       "      <th>N_AGV_GWAS_significant_variants</th>\n",
       "      <th>N_AGV_and_LD_variant_GWAS_significant_variants</th>\n",
       "      <th>proportion_AGV_GWAS_significant_variants</th>\n",
       "      <th>proportion_AGV_and_LD_variant_GWAS_significant_variants</th>\n",
       "      <th>enrichment</th>\n",
       "    </tr>\n",
       "  </thead>\n",
       "  <tbody>\n",
       "    <tr>\n",
       "      <th>0</th>\n",
       "      <td>coronary_artery_disease</td>\n",
       "      <td>17871</td>\n",
       "      <td>2536</td>\n",
       "      <td>15033</td>\n",
       "      <td>0.141906</td>\n",
       "      <td>0.841195</td>\n",
       "      <td>5.927839</td>\n",
       "    </tr>\n",
       "    <tr>\n",
       "      <th>1</th>\n",
       "      <td>psoriasis</td>\n",
       "      <td>46121</td>\n",
       "      <td>5983</td>\n",
       "      <td>29133</td>\n",
       "      <td>0.129724</td>\n",
       "      <td>0.631665</td>\n",
       "      <td>4.869296</td>\n",
       "    </tr>\n",
       "    <tr>\n",
       "      <th>2</th>\n",
       "      <td>ulcerative_colitis</td>\n",
       "      <td>7392</td>\n",
       "      <td>1250</td>\n",
       "      <td>6078</td>\n",
       "      <td>0.169102</td>\n",
       "      <td>0.822240</td>\n",
       "      <td>4.862400</td>\n",
       "    </tr>\n",
       "    <tr>\n",
       "      <th>3</th>\n",
       "      <td>body_mass_index</td>\n",
       "      <td>65489</td>\n",
       "      <td>12669</td>\n",
       "      <td>57693</td>\n",
       "      <td>0.193452</td>\n",
       "      <td>0.880957</td>\n",
       "      <td>4.553872</td>\n",
       "    </tr>\n",
       "    <tr>\n",
       "      <th>4</th>\n",
       "      <td>N_children_ever_born</td>\n",
       "      <td>5704</td>\n",
       "      <td>274</td>\n",
       "      <td>4560</td>\n",
       "      <td>0.048036</td>\n",
       "      <td>0.799439</td>\n",
       "      <td>16.642336</td>\n",
       "    </tr>\n",
       "    <tr>\n",
       "      <th>5</th>\n",
       "      <td>type_2_diabetes</td>\n",
       "      <td>64918</td>\n",
       "      <td>10079</td>\n",
       "      <td>54347</td>\n",
       "      <td>0.155257</td>\n",
       "      <td>0.837164</td>\n",
       "      <td>5.392102</td>\n",
       "    </tr>\n",
       "    <tr>\n",
       "      <th>6</th>\n",
       "      <td>schizophrenia</td>\n",
       "      <td>20447</td>\n",
       "      <td>3152</td>\n",
       "      <td>18344</td>\n",
       "      <td>0.154155</td>\n",
       "      <td>0.897149</td>\n",
       "      <td>5.819797</td>\n",
       "    </tr>\n",
       "    <tr>\n",
       "      <th>7</th>\n",
       "      <td>platelet_count</td>\n",
       "      <td>145686</td>\n",
       "      <td>16736</td>\n",
       "      <td>99269</td>\n",
       "      <td>0.114877</td>\n",
       "      <td>0.681390</td>\n",
       "      <td>5.931465</td>\n",
       "    </tr>\n",
       "    <tr>\n",
       "      <th>8</th>\n",
       "      <td>Alzheimers</td>\n",
       "      <td>3559</td>\n",
       "      <td>424</td>\n",
       "      <td>2394</td>\n",
       "      <td>0.119135</td>\n",
       "      <td>0.672661</td>\n",
       "      <td>5.646226</td>\n",
       "    </tr>\n",
       "    <tr>\n",
       "      <th>9</th>\n",
       "      <td>height</td>\n",
       "      <td>115855</td>\n",
       "      <td>57558</td>\n",
       "      <td>104510</td>\n",
       "      <td>0.496811</td>\n",
       "      <td>0.902076</td>\n",
       "      <td>1.815734</td>\n",
       "    </tr>\n",
       "  </tbody>\n",
       "</table>\n",
       "</div>"
      ],
      "text/plain": [
       "                     Trait  N_GWAS_significant_variants  \\\n",
       "0  coronary_artery_disease                        17871   \n",
       "1                psoriasis                        46121   \n",
       "2       ulcerative_colitis                         7392   \n",
       "3          body_mass_index                        65489   \n",
       "4     N_children_ever_born                         5704   \n",
       "5          type_2_diabetes                        64918   \n",
       "6            schizophrenia                        20447   \n",
       "7           platelet_count                       145686   \n",
       "8               Alzheimers                         3559   \n",
       "9                   height                       115855   \n",
       "\n",
       "   N_AGV_GWAS_significant_variants  \\\n",
       "0                             2536   \n",
       "1                             5983   \n",
       "2                             1250   \n",
       "3                            12669   \n",
       "4                              274   \n",
       "5                            10079   \n",
       "6                             3152   \n",
       "7                            16736   \n",
       "8                              424   \n",
       "9                            57558   \n",
       "\n",
       "   N_AGV_and_LD_variant_GWAS_significant_variants  \\\n",
       "0                                           15033   \n",
       "1                                           29133   \n",
       "2                                            6078   \n",
       "3                                           57693   \n",
       "4                                            4560   \n",
       "5                                           54347   \n",
       "6                                           18344   \n",
       "7                                           99269   \n",
       "8                                            2394   \n",
       "9                                          104510   \n",
       "\n",
       "   proportion_AGV_GWAS_significant_variants  \\\n",
       "0                                  0.141906   \n",
       "1                                  0.129724   \n",
       "2                                  0.169102   \n",
       "3                                  0.193452   \n",
       "4                                  0.048036   \n",
       "5                                  0.155257   \n",
       "6                                  0.154155   \n",
       "7                                  0.114877   \n",
       "8                                  0.119135   \n",
       "9                                  0.496811   \n",
       "\n",
       "   proportion_AGV_and_LD_variant_GWAS_significant_variants  enrichment  \n",
       "0                                           0.841195          5.927839  \n",
       "1                                           0.631665          4.869296  \n",
       "2                                           0.822240          4.862400  \n",
       "3                                           0.880957          4.553872  \n",
       "4                                           0.799439         16.642336  \n",
       "5                                           0.837164          5.392102  \n",
       "6                                           0.897149          5.819797  \n",
       "7                                           0.681390          5.931465  \n",
       "8                                           0.672661          5.646226  \n",
       "9                                           0.902076          1.815734  "
      ]
     },
     "execution_count": 34,
     "metadata": {},
     "output_type": "execute_result"
    }
   ],
   "source": [
    "AGV_LD_variant_GWAS_intersect = pd.read_csv('/wynton/group/capra/projects/ancient_genotyped_variants_proxy_catalog/data/GWAS/AGV_LD_variants_GWAS_intersection_summary.txt', sep='\\t', header=0)\n",
    "AGV_LD_variant_GWAS_intersect['proportion_AGV_GWAS_significant_variants'] = AGV_LD_variant_GWAS_intersect['N_AGV_GWAS_significant_variants']/AGV_LD_variant_GWAS_intersect['N_GWAS_significant_variants']\n",
    "AGV_LD_variant_GWAS_intersect['proportion_AGV_and_LD_variant_GWAS_significant_variants'] = AGV_LD_variant_GWAS_intersect['N_AGV_and_LD_variant_GWAS_significant_variants']/AGV_LD_variant_GWAS_intersect['N_GWAS_significant_variants']\n",
    "AGV_LD_variant_GWAS_intersect['enrichment'] = AGV_LD_variant_GWAS_intersect['N_AGV_and_LD_variant_GWAS_significant_variants']/AGV_LD_variant_GWAS_intersect['N_AGV_GWAS_significant_variants']\n",
    "AGV_LD_variant_GWAS_intersect"
   ]
  },
  {
   "cell_type": "code",
   "execution_count": 35,
   "id": "f0862cfe-b80b-4aa6-aa09-3bc91835092a",
   "metadata": {},
   "outputs": [
    {
     "data": {
      "text/plain": [
       "5.519164403102284"
      ]
     },
     "execution_count": 35,
     "metadata": {},
     "output_type": "execute_result"
    }
   ],
   "source": [
    "AGV_LD_variant_GWAS_intersect['enrichment'].median()"
   ]
  },
  {
   "cell_type": "code",
   "execution_count": 36,
   "id": "3b4b7141-1778-4d6c-8258-d18cf7a90e30",
   "metadata": {},
   "outputs": [],
   "source": [
    "AGV_LD_variant_GWAS_intersect.to_csv('/wynton/group/capra/projects/ancient_genotyped_variants_proxy_catalog/data/GWAS/AGV_LD_variants_GWAS_intersection_summary_updated.txt', sep='\\t', header=True, index=False)"
   ]
  },
  {
   "cell_type": "markdown",
   "id": "e8978925-ff59-4619-a8c9-97cd29677006",
   "metadata": {},
   "source": [
    "## Evaluation <a class = 'anchor' id = 'evaluation'></a>"
   ]
  },
  {
   "cell_type": "markdown",
   "id": "cf2ff71c-7ae2-461b-bb9c-d0e2c1a8b9b5",
   "metadata": {},
   "source": [
    "### Mismatch Proportions by LD Threshold <a class = 'anchor' id = 'mismatchesbythreshold'></a>"
   ]
  },
  {
   "cell_type": "markdown",
   "id": "fb1ac250-9969-484a-99d5-015a95edc77d",
   "metadata": {},
   "source": [
    "Let's describe the evaluation data and analyze the results. First, how many evaluation European AGV-LDV pairs will we consider ($\\textit{R}^\\textit{2}$ $\\geq$ 0.5)?"
   ]
  },
  {
   "cell_type": "code",
   "execution_count": 37,
   "id": "0632cbef-f2fa-4fcd-862a-4df24b4e799f",
   "metadata": {},
   "outputs": [
    {
     "name": "stdout",
     "output_type": "stream",
     "text": [
      "61485131\n"
     ]
    }
   ],
   "source": [
    "!zcat /wynton/group/capra/projects/ancient_genotyped_variants_proxy_catalog/data/evaluation/EUR_AGV_LD_variants/chr*_R2_filtered_EUR_AGV_LD_variants.txt.gz | wc -l"
   ]
  },
  {
   "cell_type": "markdown",
   "id": "45660fa6-f505-4e0d-860f-5988b5956f1d",
   "metadata": {},
   "source": [
    "How many high-quality genotypes did we pull for Loschbour and Ust'-Ishim? Let's note the Ns after running once to speed up the notebook."
   ]
  },
  {
   "cell_type": "code",
   "execution_count": 38,
   "id": "1be24835-18dd-4270-8134-decbb0829eae",
   "metadata": {},
   "outputs": [],
   "source": [
    "#!zcat /wynton/group/capra/projects/ancient_genotyped_variants_proxy_catalog/data/evaluation/ancient_genotypes/Loschbour_chr*_hg38.txt.gz | wc -l"
   ]
  },
  {
   "cell_type": "markdown",
   "id": "e82d5cd2-8be2-415a-be59-b5047a3f4a99",
   "metadata": {},
   "source": [
    "1652392042"
   ]
  },
  {
   "cell_type": "code",
   "execution_count": 39,
   "id": "480fd6e4-48a4-4acc-900a-5eadd11b72b9",
   "metadata": {},
   "outputs": [],
   "source": [
    "#!zcat /wynton/group/capra/projects/ancient_genotyped_variants_proxy_catalog/data/evaluation/ancient_genotypes/Ust_Ishim_chr*_hg38.txt.gz | wc -l"
   ]
  },
  {
   "cell_type": "markdown",
   "id": "34874e5b-7724-4e56-ac0d-7b2017c272f3",
   "metadata": {},
   "source": [
    "1769322914"
   ]
  },
  {
   "cell_type": "markdown",
   "id": "847037e4-a3d9-4067-94df-c626594bff02",
   "metadata": {},
   "source": [
    "Read in the eval stats files for Loschbour and Ust'-Ishim. Let's calculate the proportion correct for partial and complete matches at each LD threshold and output these files for visualization and inclusion in the supplement."
   ]
  },
  {
   "cell_type": "code",
   "execution_count": 40,
   "id": "676a70f2-c41a-45c6-a484-5ff86ce3fb57",
   "metadata": {
    "scrolled": true
   },
   "outputs": [
    {
     "name": "stderr",
     "output_type": "stream",
     "text": [
      "/scratch/cbrand/ipykernel_3988467/236304936.py:2: FutureWarning: The default value of numeric_only in DataFrameGroupBy.sum is deprecated. In a future version, numeric_only will default to False. Either specify numeric_only or select only columns which should be valid for the function.\n",
      "  Loschbour_eval_stats = Loschbour_eval_stats.groupby(['LD_threshold']).sum().reset_index()\n"
     ]
    },
    {
     "data": {
      "text/html": [
       "<div>\n",
       "<style scoped>\n",
       "    .dataframe tbody tr th:only-of-type {\n",
       "        vertical-align: middle;\n",
       "    }\n",
       "\n",
       "    .dataframe tbody tr th {\n",
       "        vertical-align: top;\n",
       "    }\n",
       "\n",
       "    .dataframe thead th {\n",
       "        text-align: right;\n",
       "    }\n",
       "</style>\n",
       "<table border=\"1\" class=\"dataframe\">\n",
       "  <thead>\n",
       "    <tr style=\"text-align: right;\">\n",
       "      <th></th>\n",
       "      <th>LD_threshold</th>\n",
       "      <th>N_partial_matches</th>\n",
       "      <th>N_complete_matches</th>\n",
       "      <th>N_evaluated</th>\n",
       "      <th>partial_matches_prop</th>\n",
       "      <th>complete_matches_prop</th>\n",
       "    </tr>\n",
       "  </thead>\n",
       "  <tbody>\n",
       "    <tr>\n",
       "      <th>0</th>\n",
       "      <td>0.5</td>\n",
       "      <td>28480984</td>\n",
       "      <td>27150193</td>\n",
       "      <td>28681135</td>\n",
       "      <td>0.993022</td>\n",
       "      <td>0.946622</td>\n",
       "    </tr>\n",
       "    <tr>\n",
       "      <th>1</th>\n",
       "      <td>0.6</td>\n",
       "      <td>22365711</td>\n",
       "      <td>21636605</td>\n",
       "      <td>22456534</td>\n",
       "      <td>0.995956</td>\n",
       "      <td>0.963488</td>\n",
       "    </tr>\n",
       "    <tr>\n",
       "      <th>2</th>\n",
       "      <td>0.7</td>\n",
       "      <td>17836090</td>\n",
       "      <td>17466847</td>\n",
       "      <td>17872498</td>\n",
       "      <td>0.997963</td>\n",
       "      <td>0.977303</td>\n",
       "    </tr>\n",
       "    <tr>\n",
       "      <th>3</th>\n",
       "      <td>0.8</td>\n",
       "      <td>13982723</td>\n",
       "      <td>13819534</td>\n",
       "      <td>13994787</td>\n",
       "      <td>0.999138</td>\n",
       "      <td>0.987477</td>\n",
       "    </tr>\n",
       "    <tr>\n",
       "      <th>4</th>\n",
       "      <td>0.9</td>\n",
       "      <td>10148529</td>\n",
       "      <td>10098515</td>\n",
       "      <td>10151464</td>\n",
       "      <td>0.999711</td>\n",
       "      <td>0.994784</td>\n",
       "    </tr>\n",
       "  </tbody>\n",
       "</table>\n",
       "</div>"
      ],
      "text/plain": [
       "   LD_threshold  N_partial_matches  N_complete_matches  N_evaluated  \\\n",
       "0           0.5           28480984            27150193     28681135   \n",
       "1           0.6           22365711            21636605     22456534   \n",
       "2           0.7           17836090            17466847     17872498   \n",
       "3           0.8           13982723            13819534     13994787   \n",
       "4           0.9           10148529            10098515     10151464   \n",
       "\n",
       "   partial_matches_prop  complete_matches_prop  \n",
       "0              0.993022               0.946622  \n",
       "1              0.995956               0.963488  \n",
       "2              0.997963               0.977303  \n",
       "3              0.999138               0.987477  \n",
       "4              0.999711               0.994784  "
      ]
     },
     "execution_count": 40,
     "metadata": {},
     "output_type": "execute_result"
    }
   ],
   "source": [
    "Loschbour_eval_stats = pd.read_csv('/wynton/group/capra/projects/ancient_genotyped_variants_proxy_catalog/data/evaluation/Loschbour_evaluation_statistics.txt', sep='\\t', names = ['LD_threshold','chr','N_partial_matches','N_complete_matches','N_evaluated'])\n",
    "Loschbour_eval_stats = Loschbour_eval_stats.groupby(['LD_threshold']).sum().reset_index()\n",
    "Loschbour_eval_stats['partial_matches_prop'] = Loschbour_eval_stats['N_partial_matches']/Loschbour_eval_stats['N_evaluated']\n",
    "Loschbour_eval_stats['complete_matches_prop'] = Loschbour_eval_stats['N_complete_matches']/Loschbour_eval_stats['N_evaluated']\n",
    "Loschbour_eval_stats"
   ]
  },
  {
   "cell_type": "code",
   "execution_count": 41,
   "id": "d3d54b89-e1f8-4d57-8f70-f91babaf31b9",
   "metadata": {},
   "outputs": [
    {
     "name": "stderr",
     "output_type": "stream",
     "text": [
      "/scratch/cbrand/ipykernel_3988467/1259150945.py:2: FutureWarning: The default value of numeric_only in DataFrameGroupBy.sum is deprecated. In a future version, numeric_only will default to False. Either specify numeric_only or select only columns which should be valid for the function.\n",
      "  Ust_Ishim_eval_stats = Ust_Ishim_eval_stats.groupby(['LD_threshold']).sum().reset_index()\n"
     ]
    },
    {
     "data": {
      "text/html": [
       "<div>\n",
       "<style scoped>\n",
       "    .dataframe tbody tr th:only-of-type {\n",
       "        vertical-align: middle;\n",
       "    }\n",
       "\n",
       "    .dataframe tbody tr th {\n",
       "        vertical-align: top;\n",
       "    }\n",
       "\n",
       "    .dataframe thead th {\n",
       "        text-align: right;\n",
       "    }\n",
       "</style>\n",
       "<table border=\"1\" class=\"dataframe\">\n",
       "  <thead>\n",
       "    <tr style=\"text-align: right;\">\n",
       "      <th></th>\n",
       "      <th>LD_threshold</th>\n",
       "      <th>N_partial_matches</th>\n",
       "      <th>N_complete_matches</th>\n",
       "      <th>N_evaluated</th>\n",
       "      <th>partial_matches_prop</th>\n",
       "      <th>complete_matches_prop</th>\n",
       "    </tr>\n",
       "  </thead>\n",
       "  <tbody>\n",
       "    <tr>\n",
       "      <th>0</th>\n",
       "      <td>0.5</td>\n",
       "      <td>31782846</td>\n",
       "      <td>28972187</td>\n",
       "      <td>32168071</td>\n",
       "      <td>0.988025</td>\n",
       "      <td>0.900650</td>\n",
       "    </tr>\n",
       "    <tr>\n",
       "      <th>1</th>\n",
       "      <td>0.6</td>\n",
       "      <td>24957983</td>\n",
       "      <td>23220242</td>\n",
       "      <td>25166294</td>\n",
       "      <td>0.991723</td>\n",
       "      <td>0.922672</td>\n",
       "    </tr>\n",
       "    <tr>\n",
       "      <th>2</th>\n",
       "      <td>0.7</td>\n",
       "      <td>19914922</td>\n",
       "      <td>18889511</td>\n",
       "      <td>20017786</td>\n",
       "      <td>0.994861</td>\n",
       "      <td>0.943636</td>\n",
       "    </tr>\n",
       "    <tr>\n",
       "      <th>3</th>\n",
       "      <td>0.8</td>\n",
       "      <td>15620562</td>\n",
       "      <td>15061695</td>\n",
       "      <td>15662043</td>\n",
       "      <td>0.997351</td>\n",
       "      <td>0.961669</td>\n",
       "    </tr>\n",
       "    <tr>\n",
       "      <th>4</th>\n",
       "      <td>0.9</td>\n",
       "      <td>11329693</td>\n",
       "      <td>11096033</td>\n",
       "      <td>11342528</td>\n",
       "      <td>0.998868</td>\n",
       "      <td>0.978268</td>\n",
       "    </tr>\n",
       "  </tbody>\n",
       "</table>\n",
       "</div>"
      ],
      "text/plain": [
       "   LD_threshold  N_partial_matches  N_complete_matches  N_evaluated  \\\n",
       "0           0.5           31782846            28972187     32168071   \n",
       "1           0.6           24957983            23220242     25166294   \n",
       "2           0.7           19914922            18889511     20017786   \n",
       "3           0.8           15620562            15061695     15662043   \n",
       "4           0.9           11329693            11096033     11342528   \n",
       "\n",
       "   partial_matches_prop  complete_matches_prop  \n",
       "0              0.988025               0.900650  \n",
       "1              0.991723               0.922672  \n",
       "2              0.994861               0.943636  \n",
       "3              0.997351               0.961669  \n",
       "4              0.998868               0.978268  "
      ]
     },
     "execution_count": 41,
     "metadata": {},
     "output_type": "execute_result"
    }
   ],
   "source": [
    "Ust_Ishim_eval_stats = pd.read_csv('/wynton/group/capra/projects/ancient_genotyped_variants_proxy_catalog/data/evaluation/Ust_Ishim_evaluation_statistics.txt', sep='\\t', names = ['LD_threshold','chr','N_partial_matches','N_complete_matches','N_evaluated'])\n",
    "Ust_Ishim_eval_stats = Ust_Ishim_eval_stats.groupby(['LD_threshold']).sum().reset_index()\n",
    "Ust_Ishim_eval_stats['partial_matches_prop'] = Ust_Ishim_eval_stats['N_partial_matches']/Ust_Ishim_eval_stats['N_evaluated']\n",
    "Ust_Ishim_eval_stats['complete_matches_prop'] = Ust_Ishim_eval_stats['N_complete_matches']/Ust_Ishim_eval_stats['N_evaluated']\n",
    "Ust_Ishim_eval_stats"
   ]
  },
  {
   "cell_type": "markdown",
   "id": "2c35fb11-0155-45e7-9df8-76a883197e0f",
   "metadata": {},
   "source": [
    "Let's combine the above and save as a supplemental table."
   ]
  },
  {
   "cell_type": "code",
   "execution_count": 42,
   "id": "eefcee44-89bc-47c6-8725-8aa4465a0b2e",
   "metadata": {},
   "outputs": [
    {
     "data": {
      "text/html": [
       "<div>\n",
       "<style scoped>\n",
       "    .dataframe tbody tr th:only-of-type {\n",
       "        vertical-align: middle;\n",
       "    }\n",
       "\n",
       "    .dataframe tbody tr th {\n",
       "        vertical-align: top;\n",
       "    }\n",
       "\n",
       "    .dataframe thead th {\n",
       "        text-align: right;\n",
       "    }\n",
       "</style>\n",
       "<table border=\"1\" class=\"dataframe\">\n",
       "  <thead>\n",
       "    <tr style=\"text-align: right;\">\n",
       "      <th></th>\n",
       "      <th>sample</th>\n",
       "      <th>LD_threshold</th>\n",
       "      <th>N_partial_matches</th>\n",
       "      <th>N_complete_matches</th>\n",
       "      <th>N_evaluated</th>\n",
       "      <th>partial_matches_prop</th>\n",
       "      <th>complete_matches_prop</th>\n",
       "    </tr>\n",
       "  </thead>\n",
       "  <tbody>\n",
       "    <tr>\n",
       "      <th>0</th>\n",
       "      <td>Loschbour</td>\n",
       "      <td>0.5</td>\n",
       "      <td>28480984</td>\n",
       "      <td>27150193</td>\n",
       "      <td>28681135</td>\n",
       "      <td>0.993022</td>\n",
       "      <td>0.946622</td>\n",
       "    </tr>\n",
       "    <tr>\n",
       "      <th>1</th>\n",
       "      <td>Loschbour</td>\n",
       "      <td>0.6</td>\n",
       "      <td>22365711</td>\n",
       "      <td>21636605</td>\n",
       "      <td>22456534</td>\n",
       "      <td>0.995956</td>\n",
       "      <td>0.963488</td>\n",
       "    </tr>\n",
       "    <tr>\n",
       "      <th>2</th>\n",
       "      <td>Loschbour</td>\n",
       "      <td>0.7</td>\n",
       "      <td>17836090</td>\n",
       "      <td>17466847</td>\n",
       "      <td>17872498</td>\n",
       "      <td>0.997963</td>\n",
       "      <td>0.977303</td>\n",
       "    </tr>\n",
       "    <tr>\n",
       "      <th>3</th>\n",
       "      <td>Loschbour</td>\n",
       "      <td>0.8</td>\n",
       "      <td>13982723</td>\n",
       "      <td>13819534</td>\n",
       "      <td>13994787</td>\n",
       "      <td>0.999138</td>\n",
       "      <td>0.987477</td>\n",
       "    </tr>\n",
       "    <tr>\n",
       "      <th>4</th>\n",
       "      <td>Loschbour</td>\n",
       "      <td>0.9</td>\n",
       "      <td>10148529</td>\n",
       "      <td>10098515</td>\n",
       "      <td>10151464</td>\n",
       "      <td>0.999711</td>\n",
       "      <td>0.994784</td>\n",
       "    </tr>\n",
       "    <tr>\n",
       "      <th>5</th>\n",
       "      <td>Ust'-Ishim</td>\n",
       "      <td>0.5</td>\n",
       "      <td>31782846</td>\n",
       "      <td>28972187</td>\n",
       "      <td>32168071</td>\n",
       "      <td>0.988025</td>\n",
       "      <td>0.900650</td>\n",
       "    </tr>\n",
       "    <tr>\n",
       "      <th>6</th>\n",
       "      <td>Ust'-Ishim</td>\n",
       "      <td>0.6</td>\n",
       "      <td>24957983</td>\n",
       "      <td>23220242</td>\n",
       "      <td>25166294</td>\n",
       "      <td>0.991723</td>\n",
       "      <td>0.922672</td>\n",
       "    </tr>\n",
       "    <tr>\n",
       "      <th>7</th>\n",
       "      <td>Ust'-Ishim</td>\n",
       "      <td>0.7</td>\n",
       "      <td>19914922</td>\n",
       "      <td>18889511</td>\n",
       "      <td>20017786</td>\n",
       "      <td>0.994861</td>\n",
       "      <td>0.943636</td>\n",
       "    </tr>\n",
       "    <tr>\n",
       "      <th>8</th>\n",
       "      <td>Ust'-Ishim</td>\n",
       "      <td>0.8</td>\n",
       "      <td>15620562</td>\n",
       "      <td>15061695</td>\n",
       "      <td>15662043</td>\n",
       "      <td>0.997351</td>\n",
       "      <td>0.961669</td>\n",
       "    </tr>\n",
       "    <tr>\n",
       "      <th>9</th>\n",
       "      <td>Ust'-Ishim</td>\n",
       "      <td>0.9</td>\n",
       "      <td>11329693</td>\n",
       "      <td>11096033</td>\n",
       "      <td>11342528</td>\n",
       "      <td>0.998868</td>\n",
       "      <td>0.978268</td>\n",
       "    </tr>\n",
       "  </tbody>\n",
       "</table>\n",
       "</div>"
      ],
      "text/plain": [
       "       sample  LD_threshold  N_partial_matches  N_complete_matches  \\\n",
       "0   Loschbour           0.5           28480984            27150193   \n",
       "1   Loschbour           0.6           22365711            21636605   \n",
       "2   Loschbour           0.7           17836090            17466847   \n",
       "3   Loschbour           0.8           13982723            13819534   \n",
       "4   Loschbour           0.9           10148529            10098515   \n",
       "5  Ust'-Ishim           0.5           31782846            28972187   \n",
       "6  Ust'-Ishim           0.6           24957983            23220242   \n",
       "7  Ust'-Ishim           0.7           19914922            18889511   \n",
       "8  Ust'-Ishim           0.8           15620562            15061695   \n",
       "9  Ust'-Ishim           0.9           11329693            11096033   \n",
       "\n",
       "   N_evaluated  partial_matches_prop  complete_matches_prop  \n",
       "0     28681135              0.993022               0.946622  \n",
       "1     22456534              0.995956               0.963488  \n",
       "2     17872498              0.997963               0.977303  \n",
       "3     13994787              0.999138               0.987477  \n",
       "4     10151464              0.999711               0.994784  \n",
       "5     32168071              0.988025               0.900650  \n",
       "6     25166294              0.991723               0.922672  \n",
       "7     20017786              0.994861               0.943636  \n",
       "8     15662043              0.997351               0.961669  \n",
       "9     11342528              0.998868               0.978268  "
      ]
     },
     "execution_count": 42,
     "metadata": {},
     "output_type": "execute_result"
    }
   ],
   "source": [
    "Loschbour_eval_stats['sample'] = 'Loschbour'\n",
    "Ust_Ishim_eval_stats['sample'] = 'Ust\\'-Ishim'\n",
    "combined_eval_stats = pd.concat([Loschbour_eval_stats, Ust_Ishim_eval_stats], ignore_index=True)\n",
    "combined_eval_stats = combined_eval_stats[['sample','LD_threshold','N_partial_matches','N_complete_matches','N_evaluated','partial_matches_prop','complete_matches_prop']]\n",
    "combined_eval_stats"
   ]
  },
  {
   "cell_type": "code",
   "execution_count": 43,
   "id": "252535df-7ecc-4107-b403-6e0fd85ca956",
   "metadata": {},
   "outputs": [],
   "source": [
    "combined_eval_stats.to_csv('/wynton/group/capra/projects/ancient_genotyped_variants_proxy_catalog/data/supplemental_dfs/evaluation_stats.txt', sep='\\t', header=True, index=False)"
   ]
  },
  {
   "cell_type": "markdown",
   "id": "ffb3f51f-b13e-448d-8ba3-ae6828a7b031",
   "metadata": {},
   "source": [
    "### Mismatches by Genomic Window <a class = 'anchor' id = 'mismatchesbywindow'></a>"
   ]
  },
  {
   "cell_type": "markdown",
   "id": "31631b33-eea1-481d-a9ca-e4e29341b220",
   "metadata": {},
   "source": [
    "Let's examine how many 50 kb windows had any complete mismatches."
   ]
  },
  {
   "cell_type": "code",
   "execution_count": 44,
   "id": "9b1bf84e-d93f-4621-be76-a3786189d45d",
   "metadata": {},
   "outputs": [
    {
     "data": {
      "text/html": [
       "<div>\n",
       "<style scoped>\n",
       "    .dataframe tbody tr th:only-of-type {\n",
       "        vertical-align: middle;\n",
       "    }\n",
       "\n",
       "    .dataframe tbody tr th {\n",
       "        vertical-align: top;\n",
       "    }\n",
       "\n",
       "    .dataframe thead th {\n",
       "        text-align: right;\n",
       "    }\n",
       "</style>\n",
       "<table border=\"1\" class=\"dataframe\">\n",
       "  <thead>\n",
       "    <tr style=\"text-align: right;\">\n",
       "      <th></th>\n",
       "      <th>chr</th>\n",
       "      <th>pos</th>\n",
       "      <th>N_mismatched_AGVs</th>\n",
       "      <th>N_complete_mismatches</th>\n",
       "      <th>N_evaluated</th>\n",
       "      <th>mismatch_proportion</th>\n",
       "    </tr>\n",
       "  </thead>\n",
       "  <tbody>\n",
       "    <tr>\n",
       "      <th>0</th>\n",
       "      <td>chr1</td>\n",
       "      <td>1</td>\n",
       "      <td>0</td>\n",
       "      <td>0</td>\n",
       "      <td>0</td>\n",
       "      <td>NaN</td>\n",
       "    </tr>\n",
       "    <tr>\n",
       "      <th>1</th>\n",
       "      <td>chr1</td>\n",
       "      <td>25001</td>\n",
       "      <td>0</td>\n",
       "      <td>0</td>\n",
       "      <td>0</td>\n",
       "      <td>NaN</td>\n",
       "    </tr>\n",
       "    <tr>\n",
       "      <th>2</th>\n",
       "      <td>chr1</td>\n",
       "      <td>50001</td>\n",
       "      <td>0</td>\n",
       "      <td>0</td>\n",
       "      <td>0</td>\n",
       "      <td>NaN</td>\n",
       "    </tr>\n",
       "    <tr>\n",
       "      <th>3</th>\n",
       "      <td>chr1</td>\n",
       "      <td>75001</td>\n",
       "      <td>0</td>\n",
       "      <td>0</td>\n",
       "      <td>0</td>\n",
       "      <td>NaN</td>\n",
       "    </tr>\n",
       "    <tr>\n",
       "      <th>4</th>\n",
       "      <td>chr1</td>\n",
       "      <td>100001</td>\n",
       "      <td>0</td>\n",
       "      <td>0</td>\n",
       "      <td>0</td>\n",
       "      <td>NaN</td>\n",
       "    </tr>\n",
       "  </tbody>\n",
       "</table>\n",
       "</div>"
      ],
      "text/plain": [
       "    chr     pos  N_mismatched_AGVs  N_complete_mismatches  N_evaluated  \\\n",
       "0  chr1       1                  0                      0            0   \n",
       "1  chr1   25001                  0                      0            0   \n",
       "2  chr1   50001                  0                      0            0   \n",
       "3  chr1   75001                  0                      0            0   \n",
       "4  chr1  100001                  0                      0            0   \n",
       "\n",
       "   mismatch_proportion  \n",
       "0                  NaN  \n",
       "1                  NaN  \n",
       "2                  NaN  \n",
       "3                  NaN  \n",
       "4                  NaN  "
      ]
     },
     "execution_count": 44,
     "metadata": {},
     "output_type": "execute_result"
    }
   ],
   "source": [
    "Loschbour_mismatches_by_genomic_window = pd.read_csv('/wynton/group/capra/projects/ancient_genotyped_variants_proxy_catalog/data/evaluation/mismatches_by_genomic_window/Loschbour_0.9_complete_mismatches_by_genomic_window.txt', sep='\\t', names = ['chr','pos','N_mismatched_AGVs','N_complete_mismatches','N_evaluated'])\n",
    "Loschbour_mismatches_by_genomic_window['mismatch_proportion'] = Loschbour_mismatches_by_genomic_window['N_complete_mismatches']/Loschbour_mismatches_by_genomic_window['N_evaluated']\n",
    "Loschbour_mismatches_by_genomic_window.head()"
   ]
  },
  {
   "cell_type": "code",
   "execution_count": 45,
   "id": "d4b39eaf-2f9c-4c4d-9580-e86896cf1e11",
   "metadata": {},
   "outputs": [
    {
     "data": {
      "text/plain": [
       "121133"
      ]
     },
     "execution_count": 45,
     "metadata": {},
     "output_type": "execute_result"
    }
   ],
   "source": [
    "len(Loschbour_mismatches_by_genomic_window)"
   ]
  },
  {
   "cell_type": "code",
   "execution_count": 46,
   "id": "d620f4fa-0c0a-4a15-8af5-79681626910c",
   "metadata": {},
   "outputs": [
    {
     "data": {
      "text/plain": [
       "0.0008808455470998265"
      ]
     },
     "execution_count": 46,
     "metadata": {},
     "output_type": "execute_result"
    }
   ],
   "source": [
    "Loschbour_mismatches_by_genomic_window['mismatch_proportion'].mean(skipna=True)"
   ]
  },
  {
   "cell_type": "code",
   "execution_count": 47,
   "id": "dcecea69-01c3-4ecb-8363-8c3b72bc1cb9",
   "metadata": {},
   "outputs": [
    {
     "data": {
      "text/html": [
       "<div>\n",
       "<style scoped>\n",
       "    .dataframe tbody tr th:only-of-type {\n",
       "        vertical-align: middle;\n",
       "    }\n",
       "\n",
       "    .dataframe tbody tr th {\n",
       "        vertical-align: top;\n",
       "    }\n",
       "\n",
       "    .dataframe thead th {\n",
       "        text-align: right;\n",
       "    }\n",
       "</style>\n",
       "<table border=\"1\" class=\"dataframe\">\n",
       "  <thead>\n",
       "    <tr style=\"text-align: right;\">\n",
       "      <th></th>\n",
       "      <th>chr</th>\n",
       "      <th>pos</th>\n",
       "      <th>N_mismatched_AGVs</th>\n",
       "      <th>N_complete_mismatches</th>\n",
       "      <th>N_evaluated</th>\n",
       "      <th>mismatch_proportion</th>\n",
       "    </tr>\n",
       "  </thead>\n",
       "  <tbody>\n",
       "    <tr>\n",
       "      <th>0</th>\n",
       "      <td>chr1</td>\n",
       "      <td>1</td>\n",
       "      <td>0</td>\n",
       "      <td>0</td>\n",
       "      <td>0</td>\n",
       "      <td>NaN</td>\n",
       "    </tr>\n",
       "    <tr>\n",
       "      <th>1</th>\n",
       "      <td>chr1</td>\n",
       "      <td>25001</td>\n",
       "      <td>0</td>\n",
       "      <td>0</td>\n",
       "      <td>0</td>\n",
       "      <td>NaN</td>\n",
       "    </tr>\n",
       "    <tr>\n",
       "      <th>2</th>\n",
       "      <td>chr1</td>\n",
       "      <td>50001</td>\n",
       "      <td>0</td>\n",
       "      <td>0</td>\n",
       "      <td>0</td>\n",
       "      <td>NaN</td>\n",
       "    </tr>\n",
       "    <tr>\n",
       "      <th>3</th>\n",
       "      <td>chr1</td>\n",
       "      <td>75001</td>\n",
       "      <td>0</td>\n",
       "      <td>0</td>\n",
       "      <td>0</td>\n",
       "      <td>NaN</td>\n",
       "    </tr>\n",
       "    <tr>\n",
       "      <th>4</th>\n",
       "      <td>chr1</td>\n",
       "      <td>100001</td>\n",
       "      <td>0</td>\n",
       "      <td>0</td>\n",
       "      <td>0</td>\n",
       "      <td>NaN</td>\n",
       "    </tr>\n",
       "  </tbody>\n",
       "</table>\n",
       "</div>"
      ],
      "text/plain": [
       "    chr     pos  N_mismatched_AGVs  N_complete_mismatches  N_evaluated  \\\n",
       "0  chr1       1                  0                      0            0   \n",
       "1  chr1   25001                  0                      0            0   \n",
       "2  chr1   50001                  0                      0            0   \n",
       "3  chr1   75001                  0                      0            0   \n",
       "4  chr1  100001                  0                      0            0   \n",
       "\n",
       "   mismatch_proportion  \n",
       "0                  NaN  \n",
       "1                  NaN  \n",
       "2                  NaN  \n",
       "3                  NaN  \n",
       "4                  NaN  "
      ]
     },
     "execution_count": 47,
     "metadata": {},
     "output_type": "execute_result"
    }
   ],
   "source": [
    "Ust_Ishim_mismatches_by_genomic_window = pd.read_csv('/wynton/group/capra/projects/ancient_genotyped_variants_proxy_catalog/data/evaluation/mismatches_by_genomic_window/Ust_Ishim_0.9_complete_mismatches_by_genomic_window.txt', sep='\\t', names = ['chr','pos','N_mismatched_AGVs','N_complete_mismatches','N_evaluated'])\n",
    "Ust_Ishim_mismatches_by_genomic_window['mismatch_proportion'] = Ust_Ishim_mismatches_by_genomic_window['N_complete_mismatches']/Ust_Ishim_mismatches_by_genomic_window['N_evaluated']\n",
    "Ust_Ishim_mismatches_by_genomic_window.head()"
   ]
  },
  {
   "cell_type": "code",
   "execution_count": 48,
   "id": "09cb1f66-771c-48a3-a335-58b01fa1d07c",
   "metadata": {},
   "outputs": [
    {
     "data": {
      "text/plain": [
       "121130"
      ]
     },
     "execution_count": 48,
     "metadata": {},
     "output_type": "execute_result"
    }
   ],
   "source": [
    "len(Ust_Ishim_mismatches_by_genomic_window)"
   ]
  },
  {
   "cell_type": "code",
   "execution_count": 49,
   "id": "f55e9945-0a89-4e0e-82b3-200398f229a3",
   "metadata": {},
   "outputs": [
    {
     "data": {
      "text/plain": [
       "0.001886730974893157"
      ]
     },
     "execution_count": 49,
     "metadata": {},
     "output_type": "execute_result"
    }
   ],
   "source": [
    "Ust_Ishim_mismatches_by_genomic_window['mismatch_proportion'].mean(skipna=True)"
   ]
  },
  {
   "cell_type": "markdown",
   "id": "074379ab-636e-4ffa-b4a4-0f75a9ed2654",
   "metadata": {},
   "source": [
    "Is the proportion of mismatches associated with the number of mismatched AGVs for non-zero windows?"
   ]
  },
  {
   "cell_type": "code",
   "execution_count": 50,
   "id": "3011edcd-d71f-4546-afbb-cf80da4d9e91",
   "metadata": {},
   "outputs": [
    {
     "data": {
      "text/plain": [
       "(0.3885673333332847, 4.5427907528187e-41)"
      ]
     },
     "execution_count": 50,
     "metadata": {},
     "output_type": "execute_result"
    }
   ],
   "source": [
    "df = Loschbour_mismatches_by_genomic_window[\n",
    "    (Loschbour_mismatches_by_genomic_window['N_mismatched_AGVs'] != 0) & \n",
    "    (~Loschbour_mismatches_by_genomic_window['N_mismatched_AGVs'].isna()) &\n",
    "    (~Loschbour_mismatches_by_genomic_window['mismatch_proportion'].isna())\n",
    "]\n",
    "rho, p = spearmanr(df['N_mismatched_AGVs'], df['mismatch_proportion'])\n",
    "rho, p"
   ]
  },
  {
   "cell_type": "code",
   "execution_count": 51,
   "id": "0dd081b4-9533-41dd-b6ba-37bece359529",
   "metadata": {},
   "outputs": [
    {
     "data": {
      "text/plain": [
       "(0.5708669210587812, 1.8800164330928658e-222)"
      ]
     },
     "execution_count": 51,
     "metadata": {},
     "output_type": "execute_result"
    }
   ],
   "source": [
    "df = Ust_Ishim_mismatches_by_genomic_window[\n",
    "    (Ust_Ishim_mismatches_by_genomic_window['N_mismatched_AGVs'] != 0) & \n",
    "    (~Ust_Ishim_mismatches_by_genomic_window['N_mismatched_AGVs'].isna()) &\n",
    "    (~Ust_Ishim_mismatches_by_genomic_window['mismatch_proportion'].isna())\n",
    "]\n",
    "rho, p = spearmanr(df['N_mismatched_AGVs'], df['mismatch_proportion'])\n",
    "rho, p"
   ]
  },
  {
   "cell_type": "markdown",
   "id": "911ff631-74aa-41e2-b841-a44aa0bcce97",
   "metadata": {},
   "source": [
    "Let's save a BED file of windows where there were mismatches."
   ]
  },
  {
   "cell_type": "code",
   "execution_count": 52,
   "id": "dc3c88ae-a8b2-45f5-bbb3-df860392c6c1",
   "metadata": {},
   "outputs": [
    {
     "data": {
      "text/html": [
       "<div>\n",
       "<style scoped>\n",
       "    .dataframe tbody tr th:only-of-type {\n",
       "        vertical-align: middle;\n",
       "    }\n",
       "\n",
       "    .dataframe tbody tr th {\n",
       "        vertical-align: top;\n",
       "    }\n",
       "\n",
       "    .dataframe thead th {\n",
       "        text-align: right;\n",
       "    }\n",
       "</style>\n",
       "<table border=\"1\" class=\"dataframe\">\n",
       "  <thead>\n",
       "    <tr style=\"text-align: right;\">\n",
       "      <th></th>\n",
       "      <th>chr</th>\n",
       "      <th>start</th>\n",
       "      <th>end</th>\n",
       "      <th>samples</th>\n",
       "    </tr>\n",
       "  </thead>\n",
       "  <tbody>\n",
       "    <tr>\n",
       "      <th>0</th>\n",
       "      <td>chr1</td>\n",
       "      <td>2275000</td>\n",
       "      <td>3300001</td>\n",
       "      <td>Ust-Ishim</td>\n",
       "    </tr>\n",
       "    <tr>\n",
       "      <th>1</th>\n",
       "      <td>chr1</td>\n",
       "      <td>4825000</td>\n",
       "      <td>5850001</td>\n",
       "      <td>Ust-Ishim</td>\n",
       "    </tr>\n",
       "    <tr>\n",
       "      <th>2</th>\n",
       "      <td>chr1</td>\n",
       "      <td>8150000</td>\n",
       "      <td>9225001</td>\n",
       "      <td>Ust-Ishim</td>\n",
       "    </tr>\n",
       "    <tr>\n",
       "      <th>3</th>\n",
       "      <td>chr1</td>\n",
       "      <td>10175000</td>\n",
       "      <td>11275001</td>\n",
       "      <td>Ust-Ishim</td>\n",
       "    </tr>\n",
       "    <tr>\n",
       "      <th>4</th>\n",
       "      <td>chr1</td>\n",
       "      <td>13975000</td>\n",
       "      <td>15000001</td>\n",
       "      <td>Ust-Ishim</td>\n",
       "    </tr>\n",
       "  </tbody>\n",
       "</table>\n",
       "</div>"
      ],
      "text/plain": [
       "    chr     start       end    samples\n",
       "0  chr1   2275000   3300001  Ust-Ishim\n",
       "1  chr1   4825000   5850001  Ust-Ishim\n",
       "2  chr1   8150000   9225001  Ust-Ishim\n",
       "3  chr1  10175000  11275001  Ust-Ishim\n",
       "4  chr1  13975000  15000001  Ust-Ishim"
      ]
     },
     "execution_count": 52,
     "metadata": {},
     "output_type": "execute_result"
    }
   ],
   "source": [
    "Loschbour_mismatches_by_genomic_window_subset = Loschbour_mismatches_by_genomic_window[['chr', 'pos', 'mismatch_proportion']].rename(columns={'mismatch_proportion': 'Loschbour_mismatch'})\n",
    "Ust_Ishim_mismatches_by_genomic_window_subset = Ust_Ishim_mismatches_by_genomic_window[['chr', 'pos', 'mismatch_proportion']].rename(columns={'mismatch_proportion': 'UstIshim_mismatch'})\n",
    "\n",
    "merged_mismatches_by_genomic_window = pd.merge(Loschbour_mismatches_by_genomic_window_subset, Ust_Ishim_mismatches_by_genomic_window_subset, on=['chr', 'pos'], how='outer')\n",
    "\n",
    "# Step 3: Create a label column for individuals with non-zero mismatch proportion\n",
    "def identify_samples(row):\n",
    "    labels = []\n",
    "    if pd.notna(row['Loschbour_mismatch']) and row['Loschbour_mismatch'] > 0:\n",
    "        labels.append('Loschbour')\n",
    "    if pd.notna(row['UstIshim_mismatch']) and row['UstIshim_mismatch'] > 0:\n",
    "        labels.append('Ust-Ishim')\n",
    "    if labels:\n",
    "        return ' and '.join(labels)\n",
    "    else:\n",
    "        return 'None'\n",
    "\n",
    "merged_mismatches_by_genomic_window['samples'] = merged_mismatches_by_genomic_window.apply(identify_samples, axis=1)\n",
    "merged_mismatches_by_genomic_window = merged_mismatches_by_genomic_window[merged_mismatches_by_genomic_window['samples'] != 'None'].copy()\n",
    "\n",
    "merged_mismatches_by_genomic_window['start'] = merged_mismatches_by_genomic_window['pos'] - 1\n",
    "merged_mismatches_by_genomic_window['end'] = merged_mismatches_by_genomic_window['pos'] + 1000000\n",
    "\n",
    "mismatches_by_genomic_window_BED = merged_mismatches_by_genomic_window[['chr', 'start', 'end', 'samples']]\n",
    "\n",
    "def merge_windows(df):\n",
    "    df = df.sort_values(['chr', 'start'])\n",
    "    merged_intervals = []\n",
    "    current_chr = None\n",
    "    current_samples = None\n",
    "    current_start = None\n",
    "    current_end = None\n",
    "\n",
    "    for _, row in df.iterrows():\n",
    "        if (row['chr'] != current_chr) or (row['samples'] != current_samples) or (current_end is None) or (row['start'] > current_end):\n",
    "            # Save the previous interval if exists\n",
    "            if current_chr is not None:\n",
    "                merged_intervals.append([current_chr, current_start, current_end, current_samples])\n",
    "            # Start a new interval\n",
    "            current_chr = row['chr']\n",
    "            current_samples = row['samples']\n",
    "            current_start = row['start']\n",
    "            current_end = row['end']\n",
    "        else:\n",
    "            # Overlapping or contiguous interval; extend current_end if needed\n",
    "            current_end = max(current_end, row['end'])\n",
    "\n",
    "    # Add last interval\n",
    "    if current_chr is not None:\n",
    "        merged_intervals.append([current_chr, current_start, current_end, current_samples])\n",
    "\n",
    "    merged_df = pd.DataFrame(merged_intervals, columns=['chr', 'start', 'end', 'samples'])\n",
    "    return merged_df\n",
    "\n",
    "merged_mismatches_by_genomic_window_BED = merge_windows(mismatches_by_genomic_window_BED)\n",
    "\n",
    "merged_mismatches_by_genomic_window_BED.head(5)"
   ]
  },
  {
   "cell_type": "markdown",
   "id": "17773abe-d5e7-4a73-b7f2-26dd11b62f68",
   "metadata": {},
   "source": [
    "## AGVs in TopLD <a class = 'anchor' id = 'agvsintopld'></a>"
   ]
  },
  {
   "cell_type": "markdown",
   "id": "54855172-613f-4304-a7e7-1d928e2fddd8",
   "metadata": {},
   "source": [
    "Now let's characterize the AGVs themselves."
   ]
  },
  {
   "cell_type": "code",
   "execution_count": 53,
   "id": "d6f91643-a6d1-473a-913d-f0ee0d85ad86",
   "metadata": {},
   "outputs": [
    {
     "name": "stderr",
     "output_type": "stream",
     "text": [
      "/scratch/cbrand/ipykernel_3988467/4073827720.py:1: DtypeWarning: Columns (6,7,8,9,10) have mixed types. Specify dtype option on import or set low_memory=False.\n",
      "  AGVs = pd.read_csv('/wynton/group/capra/projects/ancient_genotyped_variants_proxy_catalog/data/AGVs/AGVs_hg38_annotated.txt.gz', sep = '\\t', header = 0, compression = 'gzip')\n"
     ]
    },
    {
     "data": {
      "text/html": [
       "<div>\n",
       "<style scoped>\n",
       "    .dataframe tbody tr th:only-of-type {\n",
       "        vertical-align: middle;\n",
       "    }\n",
       "\n",
       "    .dataframe tbody tr th {\n",
       "        vertical-align: top;\n",
       "    }\n",
       "\n",
       "    .dataframe thead th {\n",
       "        text-align: right;\n",
       "    }\n",
       "</style>\n",
       "<table border=\"1\" class=\"dataframe\">\n",
       "  <thead>\n",
       "    <tr style=\"text-align: right;\">\n",
       "      <th></th>\n",
       "      <th>chr</th>\n",
       "      <th>pos</th>\n",
       "      <th>ref</th>\n",
       "      <th>alt</th>\n",
       "      <th>rsID</th>\n",
       "      <th>filter</th>\n",
       "      <th>AF</th>\n",
       "      <th>AFR_AF</th>\n",
       "      <th>EAS_AF</th>\n",
       "      <th>EUR_AF</th>\n",
       "      <th>SAS_AF</th>\n",
       "      <th>TopLD_presence</th>\n",
       "      <th>MAFs</th>\n",
       "      <th>LDV_presence</th>\n",
       "    </tr>\n",
       "  </thead>\n",
       "  <tbody>\n",
       "    <tr>\n",
       "      <th>0</th>\n",
       "      <td>chr1</td>\n",
       "      <td>817186</td>\n",
       "      <td>G</td>\n",
       "      <td>A</td>\n",
       "      <td>rs3094315</td>\n",
       "      <td>PASS</td>\n",
       "      <td>0.711754</td>\n",
       "      <td>0.43591</td>\n",
       "      <td>0.888097</td>\n",
       "      <td>0.825775</td>\n",
       "      <td>0.791286</td>\n",
       "      <td>NaN</td>\n",
       "      <td>NaN</td>\n",
       "      <td>NaN</td>\n",
       "    </tr>\n",
       "    <tr>\n",
       "      <th>1</th>\n",
       "      <td>chr1</td>\n",
       "      <td>841166</td>\n",
       "      <td>A</td>\n",
       "      <td>G</td>\n",
       "      <td>rs12124819</td>\n",
       "      <td>PASS</td>\n",
       "      <td>0.172173</td>\n",
       "      <td>0.045892</td>\n",
       "      <td>0.001348</td>\n",
       "      <td>0.272795</td>\n",
       "      <td>0.082884</td>\n",
       "      <td>AFR,EAS,EUR,SAS</td>\n",
       "      <td>0.013,0.001,0.25,0.071</td>\n",
       "      <td>AFR,EAS,EUR,SAS</td>\n",
       "    </tr>\n",
       "    <tr>\n",
       "      <th>2</th>\n",
       "      <td>chr1</td>\n",
       "      <td>897538</td>\n",
       "      <td>T</td>\n",
       "      <td>C</td>\n",
       "      <td>rs28765502</td>\n",
       "      <td>PASS</td>\n",
       "      <td>0.367279</td>\n",
       "      <td>0.548491</td>\n",
       "      <td>0.16017</td>\n",
       "      <td>0.292576</td>\n",
       "      <td>0.232684</td>\n",
       "      <td>AFR,EAS,EUR,SAS</td>\n",
       "      <td>0.398,0.145,0.292,0.222</td>\n",
       "      <td>AFR,EAS,EUR,SAS</td>\n",
       "    </tr>\n",
       "    <tr>\n",
       "      <th>3</th>\n",
       "      <td>chr1</td>\n",
       "      <td>906633</td>\n",
       "      <td>T</td>\n",
       "      <td>G</td>\n",
       "      <td>rs7419119</td>\n",
       "      <td>PASS</td>\n",
       "      <td>0.19111</td>\n",
       "      <td>0.139017</td>\n",
       "      <td>0.132745</td>\n",
       "      <td>0.208938</td>\n",
       "      <td>0.214076</td>\n",
       "      <td>AFR,EAS,EUR,SAS</td>\n",
       "      <td>0.126,0.13,0.217,0.197</td>\n",
       "      <td>AFR,EAS,EUR,SAS</td>\n",
       "    </tr>\n",
       "    <tr>\n",
       "      <th>4</th>\n",
       "      <td>chr1</td>\n",
       "      <td>911484</td>\n",
       "      <td>G</td>\n",
       "      <td>C</td>\n",
       "      <td>rs950122</td>\n",
       "      <td>PASS</td>\n",
       "      <td>0.217983</td>\n",
       "      <td>0.27126</td>\n",
       "      <td>0.103475</td>\n",
       "      <td>0.192926</td>\n",
       "      <td>0.248652</td>\n",
       "      <td>AFR,EAS,EUR,SAS</td>\n",
       "      <td>0.274,0.107,0.195,0.274</td>\n",
       "      <td>AFR,EAS,EUR,SAS</td>\n",
       "    </tr>\n",
       "  </tbody>\n",
       "</table>\n",
       "</div>"
      ],
      "text/plain": [
       "    chr     pos ref alt        rsID filter        AF    AFR_AF    EAS_AF  \\\n",
       "0  chr1  817186   G   A   rs3094315   PASS  0.711754   0.43591  0.888097   \n",
       "1  chr1  841166   A   G  rs12124819   PASS  0.172173  0.045892  0.001348   \n",
       "2  chr1  897538   T   C  rs28765502   PASS  0.367279  0.548491   0.16017   \n",
       "3  chr1  906633   T   G   rs7419119   PASS   0.19111  0.139017  0.132745   \n",
       "4  chr1  911484   G   C    rs950122   PASS  0.217983   0.27126  0.103475   \n",
       "\n",
       "     EUR_AF    SAS_AF   TopLD_presence                     MAFs  \\\n",
       "0  0.825775  0.791286              NaN                      NaN   \n",
       "1  0.272795  0.082884  AFR,EAS,EUR,SAS   0.013,0.001,0.25,0.071   \n",
       "2  0.292576  0.232684  AFR,EAS,EUR,SAS  0.398,0.145,0.292,0.222   \n",
       "3  0.208938  0.214076  AFR,EAS,EUR,SAS   0.126,0.13,0.217,0.197   \n",
       "4  0.192926  0.248652  AFR,EAS,EUR,SAS  0.274,0.107,0.195,0.274   \n",
       "\n",
       "      LDV_presence  \n",
       "0              NaN  \n",
       "1  AFR,EAS,EUR,SAS  \n",
       "2  AFR,EAS,EUR,SAS  \n",
       "3  AFR,EAS,EUR,SAS  \n",
       "4  AFR,EAS,EUR,SAS  "
      ]
     },
     "execution_count": 53,
     "metadata": {},
     "output_type": "execute_result"
    }
   ],
   "source": [
    "AGVs = pd.read_csv('/wynton/group/capra/projects/ancient_genotyped_variants_proxy_catalog/data/AGVs/AGVs_hg38_annotated.txt.gz', sep = '\\t', header = 0, compression = 'gzip')\n",
    "AGVs.head(5)"
   ]
  },
  {
   "cell_type": "code",
   "execution_count": 54,
   "id": "497166ac-073e-40c0-8947-0673926047ab",
   "metadata": {},
   "outputs": [
    {
     "data": {
      "text/plain": [
       "1232486"
      ]
     },
     "execution_count": 54,
     "metadata": {},
     "output_type": "execute_result"
    }
   ],
   "source": [
    "N_AGVs = len(AGVs)\n",
    "N_AGVs"
   ]
  },
  {
   "cell_type": "markdown",
   "id": "7c39bcb0-9f50-4f70-a600-741cae1f0cd2",
   "metadata": {},
   "source": [
    "How many are absent from and present in TopLD?"
   ]
  },
  {
   "cell_type": "code",
   "execution_count": 55,
   "id": "cb9bc097-091a-4193-b559-14379147d5af",
   "metadata": {},
   "outputs": [
    {
     "data": {
      "text/plain": [
       "69890"
      ]
     },
     "execution_count": 55,
     "metadata": {},
     "output_type": "execute_result"
    }
   ],
   "source": [
    "N_AGVs_TopLD_absent = AGVs['TopLD_presence'].isna().sum()\n",
    "N_AGVs_TopLD_absent"
   ]
  },
  {
   "cell_type": "code",
   "execution_count": 56,
   "id": "9a96938d-b72a-4920-943c-e249847f1383",
   "metadata": {},
   "outputs": [
    {
     "data": {
      "text/plain": [
       "0.05670652648387081"
      ]
     },
     "execution_count": 56,
     "metadata": {},
     "output_type": "execute_result"
    }
   ],
   "source": [
    "N_AGVs_TopLD_absent / N_AGVs"
   ]
  },
  {
   "cell_type": "code",
   "execution_count": 57,
   "id": "5b233fe7-ceb0-48ee-9058-b758d80f11be",
   "metadata": {},
   "outputs": [
    {
     "data": {
      "text/plain": [
       "1162596"
      ]
     },
     "execution_count": 57,
     "metadata": {},
     "output_type": "execute_result"
    }
   ],
   "source": [
    "N_AGVs_TopLD_present = N_AGVs - N_AGVs_TopLD_absent\n",
    "N_AGVs_TopLD_present"
   ]
  },
  {
   "cell_type": "code",
   "execution_count": 58,
   "id": "92980c8c-0577-4eda-9b28-acd1cf8d0c50",
   "metadata": {},
   "outputs": [
    {
     "data": {
      "text/plain": [
       "0.9432934735161292"
      ]
     },
     "execution_count": 58,
     "metadata": {},
     "output_type": "execute_result"
    }
   ],
   "source": [
    "N_AGVs_TopLD_present / N_AGVs"
   ]
  },
  {
   "cell_type": "markdown",
   "id": "c739266f-cbcc-4246-9cf2-fbda4e20f7a2",
   "metadata": {},
   "source": [
    "What are the allele frequencies of these two categories? Are they significantly different?"
   ]
  },
  {
   "cell_type": "code",
   "execution_count": 59,
   "id": "c9571a07-a5c8-4259-9df3-2439bc026b8f",
   "metadata": {},
   "outputs": [
    {
     "data": {
      "text/html": [
       "<div>\n",
       "<style scoped>\n",
       "    .dataframe tbody tr th:only-of-type {\n",
       "        vertical-align: middle;\n",
       "    }\n",
       "\n",
       "    .dataframe tbody tr th {\n",
       "        vertical-align: top;\n",
       "    }\n",
       "\n",
       "    .dataframe thead th {\n",
       "        text-align: right;\n",
       "    }\n",
       "</style>\n",
       "<table border=\"1\" class=\"dataframe\">\n",
       "  <thead>\n",
       "    <tr style=\"text-align: right;\">\n",
       "      <th></th>\n",
       "      <th>AF</th>\n",
       "    </tr>\n",
       "  </thead>\n",
       "  <tbody>\n",
       "    <tr>\n",
       "      <th>0</th>\n",
       "      <td>0.711754</td>\n",
       "    </tr>\n",
       "    <tr>\n",
       "      <th>7</th>\n",
       "      <td>0.876354</td>\n",
       "    </tr>\n",
       "    <tr>\n",
       "      <th>48</th>\n",
       "      <td>0.000033</td>\n",
       "    </tr>\n",
       "    <tr>\n",
       "      <th>77</th>\n",
       "      <td>0.000046</td>\n",
       "    </tr>\n",
       "    <tr>\n",
       "      <th>112</th>\n",
       "      <td>0.000190</td>\n",
       "    </tr>\n",
       "  </tbody>\n",
       "</table>\n",
       "</div>"
      ],
      "text/plain": [
       "           AF\n",
       "0    0.711754\n",
       "7    0.876354\n",
       "48   0.000033\n",
       "77   0.000046\n",
       "112  0.000190"
      ]
     },
     "execution_count": 59,
     "metadata": {},
     "output_type": "execute_result"
    }
   ],
   "source": [
    "AGVs_TopLD_absent_AFs = AGVs[AGVs['TopLD_presence'].isna() & AGVs['AF'].notna()][['AF']]\n",
    "AGVs_TopLD_absent_AFs= AGVs_TopLD_absent_AFs[AGVs_TopLD_absent_AFs['AF'] != '.']\n",
    "AGVs_TopLD_absent_AFs['AF'] = pd.to_numeric(AGVs_TopLD_absent_AFs['AF'], errors='coerce')\n",
    "AGVs_TopLD_absent_AFs.head(5)"
   ]
  },
  {
   "cell_type": "code",
   "execution_count": 60,
   "id": "09697517-a9fc-4569-b262-12c6675599e1",
   "metadata": {},
   "outputs": [
    {
     "data": {
      "text/plain": [
       "21794"
      ]
     },
     "execution_count": 60,
     "metadata": {},
     "output_type": "execute_result"
    }
   ],
   "source": [
    "len(AGVs_TopLD_absent_AFs)"
   ]
  },
  {
   "cell_type": "code",
   "execution_count": 61,
   "id": "255ab758-ad6d-4c3d-aa66-c7b548259fbb",
   "metadata": {},
   "outputs": [
    {
     "data": {
      "text/html": [
       "<div>\n",
       "<style scoped>\n",
       "    .dataframe tbody tr th:only-of-type {\n",
       "        vertical-align: middle;\n",
       "    }\n",
       "\n",
       "    .dataframe tbody tr th {\n",
       "        vertical-align: top;\n",
       "    }\n",
       "\n",
       "    .dataframe thead th {\n",
       "        text-align: right;\n",
       "    }\n",
       "</style>\n",
       "<table border=\"1\" class=\"dataframe\">\n",
       "  <thead>\n",
       "    <tr style=\"text-align: right;\">\n",
       "      <th></th>\n",
       "      <th>AF</th>\n",
       "    </tr>\n",
       "  </thead>\n",
       "  <tbody>\n",
       "    <tr>\n",
       "      <th>1</th>\n",
       "      <td>0.172173</td>\n",
       "    </tr>\n",
       "    <tr>\n",
       "      <th>2</th>\n",
       "      <td>0.367279</td>\n",
       "    </tr>\n",
       "    <tr>\n",
       "      <th>3</th>\n",
       "      <td>0.191110</td>\n",
       "    </tr>\n",
       "    <tr>\n",
       "      <th>4</th>\n",
       "      <td>0.217983</td>\n",
       "    </tr>\n",
       "    <tr>\n",
       "      <th>5</th>\n",
       "      <td>0.074330</td>\n",
       "    </tr>\n",
       "  </tbody>\n",
       "</table>\n",
       "</div>"
      ],
      "text/plain": [
       "         AF\n",
       "1  0.172173\n",
       "2  0.367279\n",
       "3  0.191110\n",
       "4  0.217983\n",
       "5  0.074330"
      ]
     },
     "execution_count": 61,
     "metadata": {},
     "output_type": "execute_result"
    }
   ],
   "source": [
    "AGVs_TopLD_present_AFs = AGVs[AGVs['TopLD_presence'].notna() & AGVs['AF'].notna()][['AF']]\n",
    "AGVs_TopLD_present_AFs= AGVs_TopLD_present_AFs[AGVs_TopLD_present_AFs['AF'] != '.']\n",
    "AGVs_TopLD_present_AFs['AF'] = pd.to_numeric(AGVs_TopLD_present_AFs['AF'], errors='coerce')\n",
    "AGVs_TopLD_present_AFs.head(5)"
   ]
  },
  {
   "cell_type": "code",
   "execution_count": 62,
   "id": "7f81d1f9-e1d0-4792-a308-112063dfe21f",
   "metadata": {},
   "outputs": [
    {
     "data": {
      "text/plain": [
       "1162237"
      ]
     },
     "execution_count": 62,
     "metadata": {},
     "output_type": "execute_result"
    }
   ],
   "source": [
    "len(AGVs_TopLD_present_AFs)"
   ]
  },
  {
   "cell_type": "code",
   "execution_count": 63,
   "id": "239075e2-6182-447f-9d21-3a0f5722de9a",
   "metadata": {},
   "outputs": [
    {
     "data": {
      "text/plain": [
       "3.93786e-05"
      ]
     },
     "execution_count": 63,
     "metadata": {},
     "output_type": "execute_result"
    }
   ],
   "source": [
    "AGVs_TopLD_absent_AFs['AF'].median()"
   ]
  },
  {
   "cell_type": "code",
   "execution_count": 64,
   "id": "b6ab05f6-8577-4aa7-86f3-d7204cee0cea",
   "metadata": {},
   "outputs": [
    {
     "data": {
      "text/plain": [
       "0.237322"
      ]
     },
     "execution_count": 64,
     "metadata": {},
     "output_type": "execute_result"
    }
   ],
   "source": [
    "AGVs_TopLD_present_AFs['AF'].median()"
   ]
  },
  {
   "cell_type": "code",
   "execution_count": 65,
   "id": "88c21c6b-5fb5-4637-827d-05e501074288",
   "metadata": {},
   "outputs": [
    {
     "data": {
      "text/plain": [
       "MannwhitneyuResult(statistic=1983228367.5, pvalue=0.0)"
      ]
     },
     "execution_count": 65,
     "metadata": {},
     "output_type": "execute_result"
    }
   ],
   "source": [
    "mannwhitneyu(AGVs_TopLD_absent_AFs['AF'], AGVs_TopLD_present_AFs['AF'])"
   ]
  },
  {
   "cell_type": "markdown",
   "id": "fb18bf17-59a6-46ae-80fb-040b62edff6a",
   "metadata": {},
   "source": [
    "What about the distribution of AGVs among different ancestry groups?"
   ]
  },
  {
   "cell_type": "code",
   "execution_count": 66,
   "id": "2526b1d4-a4f6-493b-9de7-d7b36ae6cdca",
   "metadata": {},
   "outputs": [
    {
     "data": {
      "text/plain": [
       "TopLD_presence\n",
       "AFR                 25725\n",
       "AFR,EAS              1125\n",
       "AFR,EAS,EUR         10260\n",
       "AFR,EAS,EUR,SAS    944223\n",
       "AFR,EAS,SAS         11392\n",
       "AFR,EUR            110863\n",
       "AFR,EUR,SAS         44651\n",
       "AFR,SAS               766\n",
       "EAS                  3175\n",
       "EAS,EUR              1442\n",
       "EAS,EUR,SAS          1874\n",
       "EAS,SAS               811\n",
       "EUR                  4795\n",
       "EUR,SAS               891\n",
       "SAS                   603\n",
       "dtype: int64"
      ]
     },
     "execution_count": 66,
     "metadata": {},
     "output_type": "execute_result"
    }
   ],
   "source": [
    "AGVs.groupby('TopLD_presence').size()"
   ]
  },
  {
   "cell_type": "markdown",
   "id": "d0c8f50e-ce34-4f9d-aaeb-0fa6e6fcc4f3",
   "metadata": {},
   "source": [
    "Let's also take a quick peek at the gnomAD filtering."
   ]
  },
  {
   "cell_type": "code",
   "execution_count": 67,
   "id": "e7aff74b-1615-4b9c-9534-863e5d2cdb69",
   "metadata": {
    "scrolled": true
   },
   "outputs": [
    {
     "data": {
      "text/html": [
       "<div>\n",
       "<style scoped>\n",
       "    .dataframe tbody tr th:only-of-type {\n",
       "        vertical-align: middle;\n",
       "    }\n",
       "\n",
       "    .dataframe tbody tr th {\n",
       "        vertical-align: top;\n",
       "    }\n",
       "\n",
       "    .dataframe thead th {\n",
       "        text-align: right;\n",
       "    }\n",
       "</style>\n",
       "<table border=\"1\" class=\"dataframe\">\n",
       "  <thead>\n",
       "    <tr style=\"text-align: right;\">\n",
       "      <th></th>\n",
       "      <th>N</th>\n",
       "    </tr>\n",
       "    <tr>\n",
       "      <th>filter</th>\n",
       "      <th></th>\n",
       "    </tr>\n",
       "  </thead>\n",
       "  <tbody>\n",
       "    <tr>\n",
       "      <th>AC0</th>\n",
       "      <td>67</td>\n",
       "    </tr>\n",
       "    <tr>\n",
       "      <th>AC0;AS_VQSR</th>\n",
       "      <td>107</td>\n",
       "    </tr>\n",
       "    <tr>\n",
       "      <th>AS_VQSR</th>\n",
       "      <td>567</td>\n",
       "    </tr>\n",
       "    <tr>\n",
       "      <th>AS_VQSR;InbreedingCoeff</th>\n",
       "      <td>9</td>\n",
       "    </tr>\n",
       "    <tr>\n",
       "      <th>InbreedingCoeff</th>\n",
       "      <td>8952</td>\n",
       "    </tr>\n",
       "    <tr>\n",
       "      <th>PASS</th>\n",
       "      <td>1174353</td>\n",
       "    </tr>\n",
       "  </tbody>\n",
       "</table>\n",
       "</div>"
      ],
      "text/plain": [
       "                               N\n",
       "filter                          \n",
       "AC0                           67\n",
       "AC0;AS_VQSR                  107\n",
       "AS_VQSR                      567\n",
       "AS_VQSR;InbreedingCoeff        9\n",
       "InbreedingCoeff             8952\n",
       "PASS                     1174353"
      ]
     },
     "execution_count": 67,
     "metadata": {},
     "output_type": "execute_result"
    }
   ],
   "source": [
    "AGVs.groupby('filter').size().to_frame('N')"
   ]
  },
  {
   "cell_type": "code",
   "execution_count": 68,
   "id": "36b5d942-8ef9-48e3-acf3-b8296179d3c7",
   "metadata": {},
   "outputs": [
    {
     "data": {
      "text/plain": [
       "9702"
      ]
     },
     "execution_count": 68,
     "metadata": {},
     "output_type": "execute_result"
    }
   ],
   "source": [
    "67+107+567+9+8952"
   ]
  },
  {
   "cell_type": "code",
   "execution_count": 69,
   "id": "438525ce-175a-40f8-824d-ae7ec6829e42",
   "metadata": {},
   "outputs": [
    {
     "data": {
      "text/plain": [
       "0.00787189469089304"
      ]
     },
     "execution_count": 69,
     "metadata": {},
     "output_type": "execute_result"
    }
   ],
   "source": [
    "(67+107+567+9+8952)/N_AGVs"
   ]
  },
  {
   "cell_type": "markdown",
   "id": "666e5b42-063d-44d0-95ae-f33c14ff78ea",
   "metadata": {},
   "source": [
    "## AGV Age Estimates <a class = 'anchor' id = 'agvageestimates'></a>"
   ]
  },
  {
   "cell_type": "markdown",
   "id": "c256b3d0-6455-4b6a-9ed8-279ee67e5bea",
   "metadata": {},
   "source": [
    "Let's look at the estimated ages of AGVs present in the Human Genome Dating project."
   ]
  },
  {
   "cell_type": "code",
   "execution_count": 70,
   "id": "98b5db69-dfec-4a6d-9d4e-2ee997c6bab8",
   "metadata": {},
   "outputs": [
    {
     "data": {
      "text/html": [
       "<div>\n",
       "<style scoped>\n",
       "    .dataframe tbody tr th:only-of-type {\n",
       "        vertical-align: middle;\n",
       "    }\n",
       "\n",
       "    .dataframe tbody tr th {\n",
       "        vertical-align: top;\n",
       "    }\n",
       "\n",
       "    .dataframe thead th {\n",
       "        text-align: right;\n",
       "    }\n",
       "</style>\n",
       "<table border=\"1\" class=\"dataframe\">\n",
       "  <thead>\n",
       "    <tr style=\"text-align: right;\">\n",
       "      <th></th>\n",
       "      <th>VariantID</th>\n",
       "      <th>Chromosome</th>\n",
       "      <th>Position</th>\n",
       "      <th>AlleleRef</th>\n",
       "      <th>AlleleAlt</th>\n",
       "      <th>AlleleAnc</th>\n",
       "      <th>DataSource</th>\n",
       "      <th>NumConcordant</th>\n",
       "      <th>NumDiscordant</th>\n",
       "      <th>AgeMode_Mut</th>\n",
       "      <th>AgeMean_Mut</th>\n",
       "      <th>AgeMedian_Mut</th>\n",
       "      <th>AgeCI95Lower_Mut</th>\n",
       "      <th>AgeCI95Upper_Mut</th>\n",
       "      <th>QualScore_Mut</th>\n",
       "      <th>AgeMode_Rec</th>\n",
       "      <th>AgeMean_Rec</th>\n",
       "      <th>AgeMedian_Rec</th>\n",
       "      <th>AgeCI95Lower_Rec</th>\n",
       "      <th>AgeCI95Upper_Rec</th>\n",
       "      <th>QualScore_Rec</th>\n",
       "      <th>AgeMode_Jnt</th>\n",
       "      <th>AgeMean_Jnt</th>\n",
       "      <th>AgeMedian_Jnt</th>\n",
       "      <th>AgeCI95Lower_Jnt</th>\n",
       "      <th>AgeCI95Upper_Jnt</th>\n",
       "      <th>QualScore_Jnt</th>\n",
       "      <th>gnomAD_AF</th>\n",
       "    </tr>\n",
       "  </thead>\n",
       "  <tbody>\n",
       "    <tr>\n",
       "      <th>0</th>\n",
       "      <td>rs3094315</td>\n",
       "      <td>1</td>\n",
       "      <td>752566</td>\n",
       "      <td>G</td>\n",
       "      <td>A</td>\n",
       "      <td>.</td>\n",
       "      <td>TGP</td>\n",
       "      <td>500</td>\n",
       "      <td>499</td>\n",
       "      <td>16898.80</td>\n",
       "      <td>16901.90</td>\n",
       "      <td>16881.00</td>\n",
       "      <td>15435.50</td>\n",
       "      <td>18423.00</td>\n",
       "      <td>0.810</td>\n",
       "      <td>35562.10</td>\n",
       "      <td>35560.90</td>\n",
       "      <td>35534.60</td>\n",
       "      <td>33318.00</td>\n",
       "      <td>37869.20</td>\n",
       "      <td>0.756</td>\n",
       "      <td>38695.60</td>\n",
       "      <td>38693.70</td>\n",
       "      <td>38660.20</td>\n",
       "      <td>35801.40</td>\n",
       "      <td>41671.00</td>\n",
       "      <td>0.756</td>\n",
       "      <td>0.706299</td>\n",
       "    </tr>\n",
       "    <tr>\n",
       "      <th>1</th>\n",
       "      <td>rs12124819</td>\n",
       "      <td>1</td>\n",
       "      <td>776546</td>\n",
       "      <td>A</td>\n",
       "      <td>G</td>\n",
       "      <td>.</td>\n",
       "      <td>TGP</td>\n",
       "      <td>500</td>\n",
       "      <td>500</td>\n",
       "      <td>3174.73</td>\n",
       "      <td>3175.03</td>\n",
       "      <td>3172.09</td>\n",
       "      <td>2955.65</td>\n",
       "      <td>3404.37</td>\n",
       "      <td>0.920</td>\n",
       "      <td>3719.57</td>\n",
       "      <td>3719.47</td>\n",
       "      <td>3716.17</td>\n",
       "      <td>3447.67</td>\n",
       "      <td>4001.91</td>\n",
       "      <td>0.900</td>\n",
       "      <td>3076.93</td>\n",
       "      <td>3076.79</td>\n",
       "      <td>3074.46</td>\n",
       "      <td>2873.75</td>\n",
       "      <td>3286.54</td>\n",
       "      <td>0.892</td>\n",
       "      <td>0.189643</td>\n",
       "    </tr>\n",
       "    <tr>\n",
       "      <th>2</th>\n",
       "      <td>rs28765502</td>\n",
       "      <td>1</td>\n",
       "      <td>832918</td>\n",
       "      <td>T</td>\n",
       "      <td>C</td>\n",
       "      <td>.</td>\n",
       "      <td>TGP</td>\n",
       "      <td>500</td>\n",
       "      <td>500</td>\n",
       "      <td>20220.90</td>\n",
       "      <td>20221.90</td>\n",
       "      <td>20200.80</td>\n",
       "      <td>18613.90</td>\n",
       "      <td>21879.20</td>\n",
       "      <td>0.902</td>\n",
       "      <td>22108.40</td>\n",
       "      <td>22107.50</td>\n",
       "      <td>22089.40</td>\n",
       "      <td>20533.80</td>\n",
       "      <td>23742.50</td>\n",
       "      <td>0.902</td>\n",
       "      <td>25899.00</td>\n",
       "      <td>25908.10</td>\n",
       "      <td>25874.60</td>\n",
       "      <td>23905.60</td>\n",
       "      <td>27979.50</td>\n",
       "      <td>0.902</td>\n",
       "      <td>0.372510</td>\n",
       "    </tr>\n",
       "    <tr>\n",
       "      <th>3</th>\n",
       "      <td>rs7419119</td>\n",
       "      <td>1</td>\n",
       "      <td>842013</td>\n",
       "      <td>T</td>\n",
       "      <td>G</td>\n",
       "      <td>T</td>\n",
       "      <td>TGP</td>\n",
       "      <td>500</td>\n",
       "      <td>493</td>\n",
       "      <td>15138.10</td>\n",
       "      <td>15159.60</td>\n",
       "      <td>15138.10</td>\n",
       "      <td>13728.00</td>\n",
       "      <td>16693.00</td>\n",
       "      <td>0.773</td>\n",
       "      <td>19752.30</td>\n",
       "      <td>19759.40</td>\n",
       "      <td>19726.60</td>\n",
       "      <td>17682.10</td>\n",
       "      <td>21921.70</td>\n",
       "      <td>0.773</td>\n",
       "      <td>24929.90</td>\n",
       "      <td>24912.10</td>\n",
       "      <td>24859.60</td>\n",
       "      <td>22045.40</td>\n",
       "      <td>27875.00</td>\n",
       "      <td>0.773</td>\n",
       "      <td>0.189768</td>\n",
       "    </tr>\n",
       "    <tr>\n",
       "      <th>4</th>\n",
       "      <td>rs950122</td>\n",
       "      <td>1</td>\n",
       "      <td>846864</td>\n",
       "      <td>G</td>\n",
       "      <td>C</td>\n",
       "      <td>G</td>\n",
       "      <td>Combined</td>\n",
       "      <td>600</td>\n",
       "      <td>598</td>\n",
       "      <td>22844.60</td>\n",
       "      <td>22866.00</td>\n",
       "      <td>22844.60</td>\n",
       "      <td>20741.40</td>\n",
       "      <td>25075.50</td>\n",
       "      <td>0.478</td>\n",
       "      <td>36578.70</td>\n",
       "      <td>36594.70</td>\n",
       "      <td>36547.30</td>\n",
       "      <td>34031.90</td>\n",
       "      <td>39214.90</td>\n",
       "      <td>0.478</td>\n",
       "      <td>42263.00</td>\n",
       "      <td>42278.60</td>\n",
       "      <td>42226.70</td>\n",
       "      <td>39253.00</td>\n",
       "      <td>45386.80</td>\n",
       "      <td>0.478</td>\n",
       "      <td>0.206207</td>\n",
       "    </tr>\n",
       "  </tbody>\n",
       "</table>\n",
       "</div>"
      ],
      "text/plain": [
       "    VariantID  Chromosome  Position AlleleRef AlleleAlt AlleleAnc DataSource  \\\n",
       "0   rs3094315           1    752566         G         A         .        TGP   \n",
       "1  rs12124819           1    776546         A         G         .        TGP   \n",
       "2  rs28765502           1    832918         T         C         .        TGP   \n",
       "3   rs7419119           1    842013         T         G         T        TGP   \n",
       "4    rs950122           1    846864         G         C         G   Combined   \n",
       "\n",
       "   NumConcordant  NumDiscordant  AgeMode_Mut  AgeMean_Mut  AgeMedian_Mut  \\\n",
       "0            500            499     16898.80     16901.90       16881.00   \n",
       "1            500            500      3174.73      3175.03        3172.09   \n",
       "2            500            500     20220.90     20221.90       20200.80   \n",
       "3            500            493     15138.10     15159.60       15138.10   \n",
       "4            600            598     22844.60     22866.00       22844.60   \n",
       "\n",
       "   AgeCI95Lower_Mut  AgeCI95Upper_Mut  QualScore_Mut  AgeMode_Rec  \\\n",
       "0          15435.50          18423.00          0.810     35562.10   \n",
       "1           2955.65           3404.37          0.920      3719.57   \n",
       "2          18613.90          21879.20          0.902     22108.40   \n",
       "3          13728.00          16693.00          0.773     19752.30   \n",
       "4          20741.40          25075.50          0.478     36578.70   \n",
       "\n",
       "   AgeMean_Rec  AgeMedian_Rec  AgeCI95Lower_Rec  AgeCI95Upper_Rec  \\\n",
       "0     35560.90       35534.60          33318.00          37869.20   \n",
       "1      3719.47        3716.17           3447.67           4001.91   \n",
       "2     22107.50       22089.40          20533.80          23742.50   \n",
       "3     19759.40       19726.60          17682.10          21921.70   \n",
       "4     36594.70       36547.30          34031.90          39214.90   \n",
       "\n",
       "   QualScore_Rec  AgeMode_Jnt  AgeMean_Jnt  AgeMedian_Jnt  AgeCI95Lower_Jnt  \\\n",
       "0          0.756     38695.60     38693.70       38660.20          35801.40   \n",
       "1          0.900      3076.93      3076.79        3074.46           2873.75   \n",
       "2          0.902     25899.00     25908.10       25874.60          23905.60   \n",
       "3          0.773     24929.90     24912.10       24859.60          22045.40   \n",
       "4          0.478     42263.00     42278.60       42226.70          39253.00   \n",
       "\n",
       "   AgeCI95Upper_Jnt  QualScore_Jnt  gnomAD_AF  \n",
       "0          41671.00          0.756   0.706299  \n",
       "1           3286.54          0.892   0.189643  \n",
       "2          27979.50          0.902   0.372510  \n",
       "3          27875.00          0.773   0.189768  \n",
       "4          45386.80          0.478   0.206207  "
      ]
     },
     "execution_count": 70,
     "metadata": {},
     "output_type": "execute_result"
    }
   ],
   "source": [
    "AGV_age_estimates = pd.read_csv('/wynton/group/capra/projects/ancient_genotyped_variants_proxy_catalog/data/AGV_age_estimates/AGVs_with_age_estimates_and_AFs.txt.gz', sep = '\\t', header = 0, index_col = None, compression = 'gzip')\n",
    "AGV_age_estimates.head(5)"
   ]
  },
  {
   "cell_type": "markdown",
   "id": "4b458e4a-3846-472f-a5a1-c7e8525eac4a",
   "metadata": {},
   "source": [
    "How many age estimates are there total?"
   ]
  },
  {
   "cell_type": "code",
   "execution_count": 71,
   "id": "f67eeb9d-809d-4f45-8a28-05ecdf92aa27",
   "metadata": {},
   "outputs": [
    {
     "data": {
      "text/plain": [
       "3126750"
      ]
     },
     "execution_count": 71,
     "metadata": {},
     "output_type": "execute_result"
    }
   ],
   "source": [
    "len(AGV_age_estimates)"
   ]
  },
  {
   "cell_type": "markdown",
   "id": "92d0f5fc-1b5d-4fd8-9954-3f75790b6c16",
   "metadata": {},
   "source": [
    "How many unique AGVs are there?"
   ]
  },
  {
   "cell_type": "code",
   "execution_count": 72,
   "id": "400adad0-9256-455a-b585-7e545c90c903",
   "metadata": {},
   "outputs": [
    {
     "data": {
      "text/plain": [
       "1117110"
      ]
     },
     "execution_count": 72,
     "metadata": {},
     "output_type": "execute_result"
    }
   ],
   "source": [
    "len(AGV_age_estimates['VariantID'].unique())"
   ]
  },
  {
   "cell_type": "markdown",
   "id": "8ef190ab-3243-496c-8633-b1e64f9e2962",
   "metadata": {},
   "source": [
    "What is the distribution of data sources among unique variants?"
   ]
  },
  {
   "cell_type": "code",
   "execution_count": 73,
   "id": "59f26810-62fd-4683-b517-3daa8440104f",
   "metadata": {},
   "outputs": [
    {
     "data": {
      "text/html": [
       "<div>\n",
       "<style scoped>\n",
       "    .dataframe tbody tr th:only-of-type {\n",
       "        vertical-align: middle;\n",
       "    }\n",
       "\n",
       "    .dataframe tbody tr th {\n",
       "        vertical-align: top;\n",
       "    }\n",
       "\n",
       "    .dataframe thead th {\n",
       "        text-align: right;\n",
       "    }\n",
       "</style>\n",
       "<table border=\"1\" class=\"dataframe\">\n",
       "  <thead>\n",
       "    <tr style=\"text-align: right;\">\n",
       "      <th></th>\n",
       "      <th>VariantID</th>\n",
       "      <th>Chromosome</th>\n",
       "      <th>Position</th>\n",
       "      <th>AlleleRef</th>\n",
       "      <th>AlleleAlt</th>\n",
       "      <th>AlleleAnc</th>\n",
       "      <th>DataSource</th>\n",
       "      <th>NumConcordant</th>\n",
       "      <th>NumDiscordant</th>\n",
       "      <th>AgeMode_Mut</th>\n",
       "      <th>AgeMean_Mut</th>\n",
       "      <th>AgeMedian_Mut</th>\n",
       "      <th>AgeCI95Lower_Mut</th>\n",
       "      <th>AgeCI95Upper_Mut</th>\n",
       "      <th>QualScore_Mut</th>\n",
       "      <th>AgeMode_Rec</th>\n",
       "      <th>AgeMean_Rec</th>\n",
       "      <th>AgeMedian_Rec</th>\n",
       "      <th>AgeCI95Lower_Rec</th>\n",
       "      <th>AgeCI95Upper_Rec</th>\n",
       "      <th>QualScore_Rec</th>\n",
       "      <th>AgeMode_Jnt</th>\n",
       "      <th>AgeMean_Jnt</th>\n",
       "      <th>AgeMedian_Jnt</th>\n",
       "      <th>AgeCI95Lower_Jnt</th>\n",
       "      <th>AgeCI95Upper_Jnt</th>\n",
       "      <th>QualScore_Jnt</th>\n",
       "      <th>gnomAD_AF</th>\n",
       "      <th>DataSources</th>\n",
       "    </tr>\n",
       "  </thead>\n",
       "  <tbody>\n",
       "    <tr>\n",
       "      <th>0</th>\n",
       "      <td>rs3094315</td>\n",
       "      <td>1</td>\n",
       "      <td>752566</td>\n",
       "      <td>G</td>\n",
       "      <td>A</td>\n",
       "      <td>.</td>\n",
       "      <td>TGP</td>\n",
       "      <td>500</td>\n",
       "      <td>499</td>\n",
       "      <td>16898.80</td>\n",
       "      <td>16901.90</td>\n",
       "      <td>16881.00</td>\n",
       "      <td>15435.50</td>\n",
       "      <td>18423.00</td>\n",
       "      <td>0.810</td>\n",
       "      <td>35562.10</td>\n",
       "      <td>35560.90</td>\n",
       "      <td>35534.60</td>\n",
       "      <td>33318.00</td>\n",
       "      <td>37869.20</td>\n",
       "      <td>0.756</td>\n",
       "      <td>38695.60</td>\n",
       "      <td>38693.70</td>\n",
       "      <td>38660.20</td>\n",
       "      <td>35801.40</td>\n",
       "      <td>41671.00</td>\n",
       "      <td>0.756</td>\n",
       "      <td>0.706299</td>\n",
       "      <td>TGP</td>\n",
       "    </tr>\n",
       "    <tr>\n",
       "      <th>1</th>\n",
       "      <td>rs12124819</td>\n",
       "      <td>1</td>\n",
       "      <td>776546</td>\n",
       "      <td>A</td>\n",
       "      <td>G</td>\n",
       "      <td>.</td>\n",
       "      <td>TGP</td>\n",
       "      <td>500</td>\n",
       "      <td>500</td>\n",
       "      <td>3174.73</td>\n",
       "      <td>3175.03</td>\n",
       "      <td>3172.09</td>\n",
       "      <td>2955.65</td>\n",
       "      <td>3404.37</td>\n",
       "      <td>0.920</td>\n",
       "      <td>3719.57</td>\n",
       "      <td>3719.47</td>\n",
       "      <td>3716.17</td>\n",
       "      <td>3447.67</td>\n",
       "      <td>4001.91</td>\n",
       "      <td>0.900</td>\n",
       "      <td>3076.93</td>\n",
       "      <td>3076.79</td>\n",
       "      <td>3074.46</td>\n",
       "      <td>2873.75</td>\n",
       "      <td>3286.54</td>\n",
       "      <td>0.892</td>\n",
       "      <td>0.189643</td>\n",
       "      <td>TGP</td>\n",
       "    </tr>\n",
       "    <tr>\n",
       "      <th>2</th>\n",
       "      <td>rs28765502</td>\n",
       "      <td>1</td>\n",
       "      <td>832918</td>\n",
       "      <td>T</td>\n",
       "      <td>C</td>\n",
       "      <td>.</td>\n",
       "      <td>TGP</td>\n",
       "      <td>500</td>\n",
       "      <td>500</td>\n",
       "      <td>20220.90</td>\n",
       "      <td>20221.90</td>\n",
       "      <td>20200.80</td>\n",
       "      <td>18613.90</td>\n",
       "      <td>21879.20</td>\n",
       "      <td>0.902</td>\n",
       "      <td>22108.40</td>\n",
       "      <td>22107.50</td>\n",
       "      <td>22089.40</td>\n",
       "      <td>20533.80</td>\n",
       "      <td>23742.50</td>\n",
       "      <td>0.902</td>\n",
       "      <td>25899.00</td>\n",
       "      <td>25908.10</td>\n",
       "      <td>25874.60</td>\n",
       "      <td>23905.60</td>\n",
       "      <td>27979.50</td>\n",
       "      <td>0.902</td>\n",
       "      <td>0.372510</td>\n",
       "      <td>TGP</td>\n",
       "    </tr>\n",
       "    <tr>\n",
       "      <th>3</th>\n",
       "      <td>rs7419119</td>\n",
       "      <td>1</td>\n",
       "      <td>842013</td>\n",
       "      <td>T</td>\n",
       "      <td>G</td>\n",
       "      <td>T</td>\n",
       "      <td>TGP</td>\n",
       "      <td>500</td>\n",
       "      <td>493</td>\n",
       "      <td>15138.10</td>\n",
       "      <td>15159.60</td>\n",
       "      <td>15138.10</td>\n",
       "      <td>13728.00</td>\n",
       "      <td>16693.00</td>\n",
       "      <td>0.773</td>\n",
       "      <td>19752.30</td>\n",
       "      <td>19759.40</td>\n",
       "      <td>19726.60</td>\n",
       "      <td>17682.10</td>\n",
       "      <td>21921.70</td>\n",
       "      <td>0.773</td>\n",
       "      <td>24929.90</td>\n",
       "      <td>24912.10</td>\n",
       "      <td>24859.60</td>\n",
       "      <td>22045.40</td>\n",
       "      <td>27875.00</td>\n",
       "      <td>0.773</td>\n",
       "      <td>0.189768</td>\n",
       "      <td>TGP</td>\n",
       "    </tr>\n",
       "    <tr>\n",
       "      <th>4</th>\n",
       "      <td>rs950122</td>\n",
       "      <td>1</td>\n",
       "      <td>846864</td>\n",
       "      <td>G</td>\n",
       "      <td>C</td>\n",
       "      <td>G</td>\n",
       "      <td>Combined</td>\n",
       "      <td>600</td>\n",
       "      <td>598</td>\n",
       "      <td>22844.60</td>\n",
       "      <td>22866.00</td>\n",
       "      <td>22844.60</td>\n",
       "      <td>20741.40</td>\n",
       "      <td>25075.50</td>\n",
       "      <td>0.478</td>\n",
       "      <td>36578.70</td>\n",
       "      <td>36594.70</td>\n",
       "      <td>36547.30</td>\n",
       "      <td>34031.90</td>\n",
       "      <td>39214.90</td>\n",
       "      <td>0.478</td>\n",
       "      <td>42263.00</td>\n",
       "      <td>42278.60</td>\n",
       "      <td>42226.70</td>\n",
       "      <td>39253.00</td>\n",
       "      <td>45386.80</td>\n",
       "      <td>0.478</td>\n",
       "      <td>0.206207</td>\n",
       "      <td>Combined &amp; SGDP &amp; TGP</td>\n",
       "    </tr>\n",
       "  </tbody>\n",
       "</table>\n",
       "</div>"
      ],
      "text/plain": [
       "    VariantID  Chromosome  Position AlleleRef AlleleAlt AlleleAnc DataSource  \\\n",
       "0   rs3094315           1    752566         G         A         .        TGP   \n",
       "1  rs12124819           1    776546         A         G         .        TGP   \n",
       "2  rs28765502           1    832918         T         C         .        TGP   \n",
       "3   rs7419119           1    842013         T         G         T        TGP   \n",
       "4    rs950122           1    846864         G         C         G   Combined   \n",
       "\n",
       "   NumConcordant  NumDiscordant  AgeMode_Mut  AgeMean_Mut  AgeMedian_Mut  \\\n",
       "0            500            499     16898.80     16901.90       16881.00   \n",
       "1            500            500      3174.73      3175.03        3172.09   \n",
       "2            500            500     20220.90     20221.90       20200.80   \n",
       "3            500            493     15138.10     15159.60       15138.10   \n",
       "4            600            598     22844.60     22866.00       22844.60   \n",
       "\n",
       "   AgeCI95Lower_Mut  AgeCI95Upper_Mut  QualScore_Mut  AgeMode_Rec  \\\n",
       "0          15435.50          18423.00          0.810     35562.10   \n",
       "1           2955.65           3404.37          0.920      3719.57   \n",
       "2          18613.90          21879.20          0.902     22108.40   \n",
       "3          13728.00          16693.00          0.773     19752.30   \n",
       "4          20741.40          25075.50          0.478     36578.70   \n",
       "\n",
       "   AgeMean_Rec  AgeMedian_Rec  AgeCI95Lower_Rec  AgeCI95Upper_Rec  \\\n",
       "0     35560.90       35534.60          33318.00          37869.20   \n",
       "1      3719.47        3716.17           3447.67           4001.91   \n",
       "2     22107.50       22089.40          20533.80          23742.50   \n",
       "3     19759.40       19726.60          17682.10          21921.70   \n",
       "4     36594.70       36547.30          34031.90          39214.90   \n",
       "\n",
       "   QualScore_Rec  AgeMode_Jnt  AgeMean_Jnt  AgeMedian_Jnt  AgeCI95Lower_Jnt  \\\n",
       "0          0.756     38695.60     38693.70       38660.20          35801.40   \n",
       "1          0.900      3076.93      3076.79        3074.46           2873.75   \n",
       "2          0.902     25899.00     25908.10       25874.60          23905.60   \n",
       "3          0.773     24929.90     24912.10       24859.60          22045.40   \n",
       "4          0.478     42263.00     42278.60       42226.70          39253.00   \n",
       "\n",
       "   AgeCI95Upper_Jnt  QualScore_Jnt  gnomAD_AF            DataSources  \n",
       "0          41671.00          0.756   0.706299                    TGP  \n",
       "1           3286.54          0.892   0.189643                    TGP  \n",
       "2          27979.50          0.902   0.372510                    TGP  \n",
       "3          27875.00          0.773   0.189768                    TGP  \n",
       "4          45386.80          0.478   0.206207  Combined & SGDP & TGP  "
      ]
     },
     "execution_count": 73,
     "metadata": {},
     "output_type": "execute_result"
    }
   ],
   "source": [
    "AGV_age_estimates_grouped = AGV_age_estimates.groupby('VariantID')['DataSource'].apply(lambda x: sorted(x.unique())).reset_index()\n",
    "AGV_age_estimates_grouped['DataSources'] = AGV_age_estimates_grouped['DataSource'].apply(lambda x: ' & '.join(x))\n",
    "AGV_age_estimates = pd.merge(AGV_age_estimates, AGV_age_estimates_grouped[['VariantID', 'DataSources']], on = 'VariantID')\n",
    "AGV_age_estimates.head()"
   ]
  },
  {
   "cell_type": "code",
   "execution_count": 74,
   "id": "7ebdef5f-ae45-427b-8871-7fbeb94080f1",
   "metadata": {},
   "outputs": [
    {
     "data": {
      "text/html": [
       "<div>\n",
       "<style scoped>\n",
       "    .dataframe tbody tr th:only-of-type {\n",
       "        vertical-align: middle;\n",
       "    }\n",
       "\n",
       "    .dataframe tbody tr th {\n",
       "        vertical-align: top;\n",
       "    }\n",
       "\n",
       "    .dataframe thead th {\n",
       "        text-align: right;\n",
       "    }\n",
       "</style>\n",
       "<table border=\"1\" class=\"dataframe\">\n",
       "  <thead>\n",
       "    <tr style=\"text-align: right;\">\n",
       "      <th></th>\n",
       "      <th>N</th>\n",
       "    </tr>\n",
       "    <tr>\n",
       "      <th>DataSources</th>\n",
       "      <th></th>\n",
       "    </tr>\n",
       "  </thead>\n",
       "  <tbody>\n",
       "    <tr>\n",
       "      <th>Combined &amp; SGDP &amp; TGP</th>\n",
       "      <td>1004811</td>\n",
       "    </tr>\n",
       "    <tr>\n",
       "      <th>Combined &amp; TGP</th>\n",
       "      <td>2</td>\n",
       "    </tr>\n",
       "    <tr>\n",
       "      <th>SGDP</th>\n",
       "      <td>22750</td>\n",
       "    </tr>\n",
       "    <tr>\n",
       "      <th>SGDP &amp; TGP</th>\n",
       "      <td>16</td>\n",
       "    </tr>\n",
       "    <tr>\n",
       "      <th>TGP</th>\n",
       "      <td>89531</td>\n",
       "    </tr>\n",
       "  </tbody>\n",
       "</table>\n",
       "</div>"
      ],
      "text/plain": [
       "                             N\n",
       "DataSources                   \n",
       "Combined & SGDP & TGP  1004811\n",
       "Combined & TGP               2\n",
       "SGDP                     22750\n",
       "SGDP & TGP                  16\n",
       "TGP                      89531"
      ]
     },
     "execution_count": 74,
     "metadata": {},
     "output_type": "execute_result"
    }
   ],
   "source": [
    "AGV_age_estimates.drop_duplicates(subset = 'VariantID').groupby('DataSources').size().to_frame('N')"
   ]
  },
  {
   "cell_type": "markdown",
   "id": "26e19cf1-786f-4670-8aca-65ddb7f476c8",
   "metadata": {},
   "source": [
    "As expected, most variants have age estimates across all three data sources. Let take a quick peak at the 18 unexpected (Combined & TGP and SGDP & TGP)."
   ]
  },
  {
   "cell_type": "code",
   "execution_count": 75,
   "id": "8116f303-6ed7-4d41-8c86-3eff21088071",
   "metadata": {},
   "outputs": [
    {
     "data": {
      "text/html": [
       "<div>\n",
       "<style scoped>\n",
       "    .dataframe tbody tr th:only-of-type {\n",
       "        vertical-align: middle;\n",
       "    }\n",
       "\n",
       "    .dataframe tbody tr th {\n",
       "        vertical-align: top;\n",
       "    }\n",
       "\n",
       "    .dataframe thead th {\n",
       "        text-align: right;\n",
       "    }\n",
       "</style>\n",
       "<table border=\"1\" class=\"dataframe\">\n",
       "  <thead>\n",
       "    <tr style=\"text-align: right;\">\n",
       "      <th></th>\n",
       "      <th>VariantID</th>\n",
       "      <th>DataSource</th>\n",
       "      <th>DataSources</th>\n",
       "    </tr>\n",
       "  </thead>\n",
       "  <tbody>\n",
       "    <tr>\n",
       "      <th>200776</th>\n",
       "      <td>rs12111549</td>\n",
       "      <td>[SGDP, TGP]</td>\n",
       "      <td>SGDP &amp; TGP</td>\n",
       "    </tr>\n",
       "    <tr>\n",
       "      <th>217224</th>\n",
       "      <td>rs12352784</td>\n",
       "      <td>[SGDP, TGP]</td>\n",
       "      <td>SGDP &amp; TGP</td>\n",
       "    </tr>\n",
       "    <tr>\n",
       "      <th>239518</th>\n",
       "      <td>rs12624589</td>\n",
       "      <td>[SGDP, TGP]</td>\n",
       "      <td>SGDP &amp; TGP</td>\n",
       "    </tr>\n",
       "    <tr>\n",
       "      <th>257107</th>\n",
       "      <td>rs12938057</td>\n",
       "      <td>[SGDP, TGP]</td>\n",
       "      <td>SGDP &amp; TGP</td>\n",
       "    </tr>\n",
       "    <tr>\n",
       "      <th>266365</th>\n",
       "      <td>rs13113099</td>\n",
       "      <td>[SGDP, TGP]</td>\n",
       "      <td>SGDP &amp; TGP</td>\n",
       "    </tr>\n",
       "    <tr>\n",
       "      <th>326281</th>\n",
       "      <td>rs148548299</td>\n",
       "      <td>[SGDP, TGP]</td>\n",
       "      <td>SGDP &amp; TGP</td>\n",
       "    </tr>\n",
       "    <tr>\n",
       "      <th>551410</th>\n",
       "      <td>rs2813487</td>\n",
       "      <td>[SGDP, TGP]</td>\n",
       "      <td>SGDP &amp; TGP</td>\n",
       "    </tr>\n",
       "    <tr>\n",
       "      <th>558529</th>\n",
       "      <td>rs2843160</td>\n",
       "      <td>[SGDP, TGP]</td>\n",
       "      <td>SGDP &amp; TGP</td>\n",
       "    </tr>\n",
       "    <tr>\n",
       "      <th>641457</th>\n",
       "      <td>rs425535</td>\n",
       "      <td>[SGDP, TGP]</td>\n",
       "      <td>SGDP &amp; TGP</td>\n",
       "    </tr>\n",
       "    <tr>\n",
       "      <th>646109</th>\n",
       "      <td>rs4324999</td>\n",
       "      <td>[SGDP, TGP]</td>\n",
       "      <td>SGDP &amp; TGP</td>\n",
       "    </tr>\n",
       "    <tr>\n",
       "      <th>649366</th>\n",
       "      <td>rs437441</td>\n",
       "      <td>[SGDP, TGP]</td>\n",
       "      <td>SGDP &amp; TGP</td>\n",
       "    </tr>\n",
       "    <tr>\n",
       "      <th>680382</th>\n",
       "      <td>rs4738301</td>\n",
       "      <td>[SGDP, TGP]</td>\n",
       "      <td>SGDP &amp; TGP</td>\n",
       "    </tr>\n",
       "    <tr>\n",
       "      <th>846313</th>\n",
       "      <td>rs6991301</td>\n",
       "      <td>[SGDP, TGP]</td>\n",
       "      <td>SGDP &amp; TGP</td>\n",
       "    </tr>\n",
       "    <tr>\n",
       "      <th>909076</th>\n",
       "      <td>rs73777660</td>\n",
       "      <td>[SGDP, TGP]</td>\n",
       "      <td>SGDP &amp; TGP</td>\n",
       "    </tr>\n",
       "    <tr>\n",
       "      <th>919440</th>\n",
       "      <td>rs745665</td>\n",
       "      <td>[SGDP, TGP]</td>\n",
       "      <td>SGDP &amp; TGP</td>\n",
       "    </tr>\n",
       "    <tr>\n",
       "      <th>955999</th>\n",
       "      <td>rs7665274</td>\n",
       "      <td>[SGDP, TGP]</td>\n",
       "      <td>SGDP &amp; TGP</td>\n",
       "    </tr>\n",
       "  </tbody>\n",
       "</table>\n",
       "</div>"
      ],
      "text/plain": [
       "          VariantID   DataSource DataSources\n",
       "200776   rs12111549  [SGDP, TGP]  SGDP & TGP\n",
       "217224   rs12352784  [SGDP, TGP]  SGDP & TGP\n",
       "239518   rs12624589  [SGDP, TGP]  SGDP & TGP\n",
       "257107   rs12938057  [SGDP, TGP]  SGDP & TGP\n",
       "266365   rs13113099  [SGDP, TGP]  SGDP & TGP\n",
       "326281  rs148548299  [SGDP, TGP]  SGDP & TGP\n",
       "551410    rs2813487  [SGDP, TGP]  SGDP & TGP\n",
       "558529    rs2843160  [SGDP, TGP]  SGDP & TGP\n",
       "641457     rs425535  [SGDP, TGP]  SGDP & TGP\n",
       "646109    rs4324999  [SGDP, TGP]  SGDP & TGP\n",
       "649366     rs437441  [SGDP, TGP]  SGDP & TGP\n",
       "680382    rs4738301  [SGDP, TGP]  SGDP & TGP\n",
       "846313    rs6991301  [SGDP, TGP]  SGDP & TGP\n",
       "909076   rs73777660  [SGDP, TGP]  SGDP & TGP\n",
       "919440     rs745665  [SGDP, TGP]  SGDP & TGP\n",
       "955999    rs7665274  [SGDP, TGP]  SGDP & TGP"
      ]
     },
     "execution_count": 75,
     "metadata": {},
     "output_type": "execute_result"
    }
   ],
   "source": [
    "AGV_age_estimates_grouped[AGV_age_estimates_grouped['DataSources'] == 'SGDP & TGP']"
   ]
  },
  {
   "cell_type": "code",
   "execution_count": 76,
   "id": "acb84592-d590-4a9a-90bd-3536505a5244",
   "metadata": {},
   "outputs": [
    {
     "data": {
      "text/html": [
       "<div>\n",
       "<style scoped>\n",
       "    .dataframe tbody tr th:only-of-type {\n",
       "        vertical-align: middle;\n",
       "    }\n",
       "\n",
       "    .dataframe tbody tr th {\n",
       "        vertical-align: top;\n",
       "    }\n",
       "\n",
       "    .dataframe thead th {\n",
       "        text-align: right;\n",
       "    }\n",
       "</style>\n",
       "<table border=\"1\" class=\"dataframe\">\n",
       "  <thead>\n",
       "    <tr style=\"text-align: right;\">\n",
       "      <th></th>\n",
       "      <th>VariantID</th>\n",
       "      <th>Chromosome</th>\n",
       "      <th>Position</th>\n",
       "      <th>AlleleRef</th>\n",
       "      <th>AlleleAlt</th>\n",
       "      <th>AlleleAnc</th>\n",
       "      <th>DataSource</th>\n",
       "      <th>NumConcordant</th>\n",
       "      <th>NumDiscordant</th>\n",
       "      <th>AgeMode_Mut</th>\n",
       "      <th>AgeMean_Mut</th>\n",
       "      <th>AgeMedian_Mut</th>\n",
       "      <th>AgeCI95Lower_Mut</th>\n",
       "      <th>AgeCI95Upper_Mut</th>\n",
       "      <th>QualScore_Mut</th>\n",
       "      <th>AgeMode_Rec</th>\n",
       "      <th>AgeMean_Rec</th>\n",
       "      <th>AgeMedian_Rec</th>\n",
       "      <th>AgeCI95Lower_Rec</th>\n",
       "      <th>AgeCI95Upper_Rec</th>\n",
       "      <th>QualScore_Rec</th>\n",
       "      <th>AgeMode_Jnt</th>\n",
       "      <th>AgeMean_Jnt</th>\n",
       "      <th>AgeMedian_Jnt</th>\n",
       "      <th>AgeCI95Lower_Jnt</th>\n",
       "      <th>AgeCI95Upper_Jnt</th>\n",
       "      <th>QualScore_Jnt</th>\n",
       "      <th>gnomAD_AF</th>\n",
       "      <th>DataSources</th>\n",
       "    </tr>\n",
       "  </thead>\n",
       "  <tbody>\n",
       "    <tr>\n",
       "      <th>1202866</th>\n",
       "      <td>rs12111549</td>\n",
       "      <td>6</td>\n",
       "      <td>40631704</td>\n",
       "      <td>C</td>\n",
       "      <td>A</td>\n",
       "      <td>A</td>\n",
       "      <td>SGDP</td>\n",
       "      <td>99</td>\n",
       "      <td>96</td>\n",
       "      <td>21873.1</td>\n",
       "      <td>21931.4</td>\n",
       "      <td>21832.6</td>\n",
       "      <td>18749.0</td>\n",
       "      <td>25423.2</td>\n",
       "      <td>0.875</td>\n",
       "      <td>34200.2</td>\n",
       "      <td>34226.3</td>\n",
       "      <td>34133.9</td>\n",
       "      <td>28944.9</td>\n",
       "      <td>39864.7</td>\n",
       "      <td>0.875</td>\n",
       "      <td>38814.8</td>\n",
       "      <td>38822.4</td>\n",
       "      <td>38658.1</td>\n",
       "      <td>32484.6</td>\n",
       "      <td>45541.8</td>\n",
       "      <td>0.875</td>\n",
       "      <td>0.107841</td>\n",
       "      <td>SGDP &amp; TGP</td>\n",
       "    </tr>\n",
       "    <tr>\n",
       "      <th>1202867</th>\n",
       "      <td>rs12111549</td>\n",
       "      <td>6</td>\n",
       "      <td>40631704</td>\n",
       "      <td>C</td>\n",
       "      <td>A</td>\n",
       "      <td>A</td>\n",
       "      <td>TGP</td>\n",
       "      <td>500</td>\n",
       "      <td>499</td>\n",
       "      <td>24887.8</td>\n",
       "      <td>24903.6</td>\n",
       "      <td>24865.8</td>\n",
       "      <td>23142.2</td>\n",
       "      <td>26741.4</td>\n",
       "      <td>0.537</td>\n",
       "      <td>39534.6</td>\n",
       "      <td>39540.8</td>\n",
       "      <td>39495.2</td>\n",
       "      <td>36392.7</td>\n",
       "      <td>42776.8</td>\n",
       "      <td>0.535</td>\n",
       "      <td>44875.2</td>\n",
       "      <td>44872.2</td>\n",
       "      <td>44830.5</td>\n",
       "      <td>41185.4</td>\n",
       "      <td>48652.4</td>\n",
       "      <td>0.535</td>\n",
       "      <td>0.107841</td>\n",
       "      <td>SGDP &amp; TGP</td>\n",
       "    </tr>\n",
       "  </tbody>\n",
       "</table>\n",
       "</div>"
      ],
      "text/plain": [
       "          VariantID  Chromosome  Position AlleleRef AlleleAlt AlleleAnc  \\\n",
       "1202866  rs12111549           6  40631704         C         A         A   \n",
       "1202867  rs12111549           6  40631704         C         A         A   \n",
       "\n",
       "        DataSource  NumConcordant  NumDiscordant  AgeMode_Mut  AgeMean_Mut  \\\n",
       "1202866       SGDP             99             96      21873.1      21931.4   \n",
       "1202867        TGP            500            499      24887.8      24903.6   \n",
       "\n",
       "         AgeMedian_Mut  AgeCI95Lower_Mut  AgeCI95Upper_Mut  QualScore_Mut  \\\n",
       "1202866        21832.6           18749.0           25423.2          0.875   \n",
       "1202867        24865.8           23142.2           26741.4          0.537   \n",
       "\n",
       "         AgeMode_Rec  AgeMean_Rec  AgeMedian_Rec  AgeCI95Lower_Rec  \\\n",
       "1202866      34200.2      34226.3        34133.9           28944.9   \n",
       "1202867      39534.6      39540.8        39495.2           36392.7   \n",
       "\n",
       "         AgeCI95Upper_Rec  QualScore_Rec  AgeMode_Jnt  AgeMean_Jnt  \\\n",
       "1202866           39864.7          0.875      38814.8      38822.4   \n",
       "1202867           42776.8          0.535      44875.2      44872.2   \n",
       "\n",
       "         AgeMedian_Jnt  AgeCI95Lower_Jnt  AgeCI95Upper_Jnt  QualScore_Jnt  \\\n",
       "1202866        38658.1           32484.6           45541.8          0.875   \n",
       "1202867        44830.5           41185.4           48652.4          0.535   \n",
       "\n",
       "         gnomAD_AF DataSources  \n",
       "1202866   0.107841  SGDP & TGP  \n",
       "1202867   0.107841  SGDP & TGP  "
      ]
     },
     "execution_count": 76,
     "metadata": {},
     "output_type": "execute_result"
    }
   ],
   "source": [
    "AGV_age_estimates[AGV_age_estimates['VariantID'] == 'rs12111549']"
   ]
  },
  {
   "cell_type": "code",
   "execution_count": 77,
   "id": "02ffa3e9-3afb-4050-bd7b-44c304e12979",
   "metadata": {},
   "outputs": [
    {
     "data": {
      "text/html": [
       "<div>\n",
       "<style scoped>\n",
       "    .dataframe tbody tr th:only-of-type {\n",
       "        vertical-align: middle;\n",
       "    }\n",
       "\n",
       "    .dataframe tbody tr th {\n",
       "        vertical-align: top;\n",
       "    }\n",
       "\n",
       "    .dataframe thead th {\n",
       "        text-align: right;\n",
       "    }\n",
       "</style>\n",
       "<table border=\"1\" class=\"dataframe\">\n",
       "  <thead>\n",
       "    <tr style=\"text-align: right;\">\n",
       "      <th></th>\n",
       "      <th>VariantID</th>\n",
       "      <th>DataSource</th>\n",
       "      <th>DataSources</th>\n",
       "    </tr>\n",
       "  </thead>\n",
       "  <tbody>\n",
       "    <tr>\n",
       "      <th>116384</th>\n",
       "      <td>rs111928103</td>\n",
       "      <td>[Combined, TGP]</td>\n",
       "      <td>Combined &amp; TGP</td>\n",
       "    </tr>\n",
       "    <tr>\n",
       "      <th>133787</th>\n",
       "      <td>rs113573293</td>\n",
       "      <td>[Combined, TGP]</td>\n",
       "      <td>Combined &amp; TGP</td>\n",
       "    </tr>\n",
       "  </tbody>\n",
       "</table>\n",
       "</div>"
      ],
      "text/plain": [
       "          VariantID       DataSource     DataSources\n",
       "116384  rs111928103  [Combined, TGP]  Combined & TGP\n",
       "133787  rs113573293  [Combined, TGP]  Combined & TGP"
      ]
     },
     "execution_count": 77,
     "metadata": {},
     "output_type": "execute_result"
    }
   ],
   "source": [
    "AGV_age_estimates_grouped[AGV_age_estimates_grouped['DataSources'] == 'Combined & TGP']"
   ]
  },
  {
   "cell_type": "code",
   "execution_count": 78,
   "id": "b16f3c88-48c0-495b-80fa-1cf5eb47c75d",
   "metadata": {},
   "outputs": [
    {
     "data": {
      "text/html": [
       "<div>\n",
       "<style scoped>\n",
       "    .dataframe tbody tr th:only-of-type {\n",
       "        vertical-align: middle;\n",
       "    }\n",
       "\n",
       "    .dataframe tbody tr th {\n",
       "        vertical-align: top;\n",
       "    }\n",
       "\n",
       "    .dataframe thead th {\n",
       "        text-align: right;\n",
       "    }\n",
       "</style>\n",
       "<table border=\"1\" class=\"dataframe\">\n",
       "  <thead>\n",
       "    <tr style=\"text-align: right;\">\n",
       "      <th></th>\n",
       "      <th>VariantID</th>\n",
       "      <th>Chromosome</th>\n",
       "      <th>Position</th>\n",
       "      <th>AlleleRef</th>\n",
       "      <th>AlleleAlt</th>\n",
       "      <th>AlleleAnc</th>\n",
       "      <th>DataSource</th>\n",
       "      <th>NumConcordant</th>\n",
       "      <th>NumDiscordant</th>\n",
       "      <th>AgeMode_Mut</th>\n",
       "      <th>AgeMean_Mut</th>\n",
       "      <th>AgeMedian_Mut</th>\n",
       "      <th>AgeCI95Lower_Mut</th>\n",
       "      <th>AgeCI95Upper_Mut</th>\n",
       "      <th>QualScore_Mut</th>\n",
       "      <th>AgeMode_Rec</th>\n",
       "      <th>AgeMean_Rec</th>\n",
       "      <th>AgeMedian_Rec</th>\n",
       "      <th>AgeCI95Lower_Rec</th>\n",
       "      <th>AgeCI95Upper_Rec</th>\n",
       "      <th>QualScore_Rec</th>\n",
       "      <th>AgeMode_Jnt</th>\n",
       "      <th>AgeMean_Jnt</th>\n",
       "      <th>AgeMedian_Jnt</th>\n",
       "      <th>AgeCI95Lower_Jnt</th>\n",
       "      <th>AgeCI95Upper_Jnt</th>\n",
       "      <th>QualScore_Jnt</th>\n",
       "      <th>gnomAD_AF</th>\n",
       "      <th>DataSources</th>\n",
       "    </tr>\n",
       "  </thead>\n",
       "  <tbody>\n",
       "    <tr>\n",
       "      <th>2607317</th>\n",
       "      <td>rs111928103</td>\n",
       "      <td>15</td>\n",
       "      <td>88747448</td>\n",
       "      <td>G</td>\n",
       "      <td>T</td>\n",
       "      <td>G</td>\n",
       "      <td>Combined</td>\n",
       "      <td>7</td>\n",
       "      <td>587</td>\n",
       "      <td>4426.93</td>\n",
       "      <td>4412.65</td>\n",
       "      <td>4390.65</td>\n",
       "      <td>3458.29</td>\n",
       "      <td>5438.40</td>\n",
       "      <td>1.0</td>\n",
       "      <td>232.682</td>\n",
       "      <td>230.840</td>\n",
       "      <td>224.169</td>\n",
       "      <td>123.469</td>\n",
       "      <td>363.937</td>\n",
       "      <td>0.571</td>\n",
       "      <td>1222.52</td>\n",
       "      <td>1269.17</td>\n",
       "      <td>1228.02</td>\n",
       "      <td>726.229</td>\n",
       "      <td>2003.27</td>\n",
       "      <td>0.571</td>\n",
       "      <td>0.000414</td>\n",
       "      <td>Combined &amp; TGP</td>\n",
       "    </tr>\n",
       "    <tr>\n",
       "      <th>2607318</th>\n",
       "      <td>rs111928103</td>\n",
       "      <td>15</td>\n",
       "      <td>88747448</td>\n",
       "      <td>G</td>\n",
       "      <td>T</td>\n",
       "      <td>G</td>\n",
       "      <td>TGP</td>\n",
       "      <td>6</td>\n",
       "      <td>494</td>\n",
       "      <td>4720.79</td>\n",
       "      <td>4710.96</td>\n",
       "      <td>4677.42</td>\n",
       "      <td>3657.01</td>\n",
       "      <td>5855.11</td>\n",
       "      <td>1.0</td>\n",
       "      <td>241.995</td>\n",
       "      <td>239.848</td>\n",
       "      <td>232.882</td>\n",
       "      <td>114.924</td>\n",
       "      <td>401.652</td>\n",
       "      <td>0.500</td>\n",
       "      <td>2838.21</td>\n",
       "      <td>2819.17</td>\n",
       "      <td>2815.18</td>\n",
       "      <td>2296.360</td>\n",
       "      <td>3340.54</td>\n",
       "      <td>1.000</td>\n",
       "      <td>0.000414</td>\n",
       "      <td>Combined &amp; TGP</td>\n",
       "    </tr>\n",
       "  </tbody>\n",
       "</table>\n",
       "</div>"
      ],
      "text/plain": [
       "           VariantID  Chromosome  Position AlleleRef AlleleAlt AlleleAnc  \\\n",
       "2607317  rs111928103          15  88747448         G         T         G   \n",
       "2607318  rs111928103          15  88747448         G         T         G   \n",
       "\n",
       "        DataSource  NumConcordant  NumDiscordant  AgeMode_Mut  AgeMean_Mut  \\\n",
       "2607317   Combined              7            587      4426.93      4412.65   \n",
       "2607318        TGP              6            494      4720.79      4710.96   \n",
       "\n",
       "         AgeMedian_Mut  AgeCI95Lower_Mut  AgeCI95Upper_Mut  QualScore_Mut  \\\n",
       "2607317        4390.65           3458.29           5438.40            1.0   \n",
       "2607318        4677.42           3657.01           5855.11            1.0   \n",
       "\n",
       "         AgeMode_Rec  AgeMean_Rec  AgeMedian_Rec  AgeCI95Lower_Rec  \\\n",
       "2607317      232.682      230.840        224.169           123.469   \n",
       "2607318      241.995      239.848        232.882           114.924   \n",
       "\n",
       "         AgeCI95Upper_Rec  QualScore_Rec  AgeMode_Jnt  AgeMean_Jnt  \\\n",
       "2607317           363.937          0.571      1222.52      1269.17   \n",
       "2607318           401.652          0.500      2838.21      2819.17   \n",
       "\n",
       "         AgeMedian_Jnt  AgeCI95Lower_Jnt  AgeCI95Upper_Jnt  QualScore_Jnt  \\\n",
       "2607317        1228.02           726.229           2003.27          0.571   \n",
       "2607318        2815.18          2296.360           3340.54          1.000   \n",
       "\n",
       "         gnomAD_AF     DataSources  \n",
       "2607317   0.000414  Combined & TGP  \n",
       "2607318   0.000414  Combined & TGP  "
      ]
     },
     "execution_count": 78,
     "metadata": {},
     "output_type": "execute_result"
    }
   ],
   "source": [
    "AGV_age_estimates[AGV_age_estimates['VariantID'] == 'rs111928103']"
   ]
  },
  {
   "cell_type": "code",
   "execution_count": 79,
   "id": "dc0b8652-404c-4e30-9677-b5be11e2e133",
   "metadata": {},
   "outputs": [
    {
     "data": {
      "text/html": [
       "<div>\n",
       "<style scoped>\n",
       "    .dataframe tbody tr th:only-of-type {\n",
       "        vertical-align: middle;\n",
       "    }\n",
       "\n",
       "    .dataframe tbody tr th {\n",
       "        vertical-align: top;\n",
       "    }\n",
       "\n",
       "    .dataframe thead th {\n",
       "        text-align: right;\n",
       "    }\n",
       "</style>\n",
       "<table border=\"1\" class=\"dataframe\">\n",
       "  <thead>\n",
       "    <tr style=\"text-align: right;\">\n",
       "      <th></th>\n",
       "      <th>VariantID</th>\n",
       "      <th>Chromosome</th>\n",
       "      <th>Position</th>\n",
       "      <th>AlleleRef</th>\n",
       "      <th>AlleleAlt</th>\n",
       "      <th>AlleleAnc</th>\n",
       "      <th>DataSource</th>\n",
       "      <th>NumConcordant</th>\n",
       "      <th>NumDiscordant</th>\n",
       "      <th>AgeMode_Mut</th>\n",
       "      <th>AgeMean_Mut</th>\n",
       "      <th>AgeMedian_Mut</th>\n",
       "      <th>AgeCI95Lower_Mut</th>\n",
       "      <th>AgeCI95Upper_Mut</th>\n",
       "      <th>QualScore_Mut</th>\n",
       "      <th>AgeMode_Rec</th>\n",
       "      <th>AgeMean_Rec</th>\n",
       "      <th>AgeMedian_Rec</th>\n",
       "      <th>AgeCI95Lower_Rec</th>\n",
       "      <th>AgeCI95Upper_Rec</th>\n",
       "      <th>QualScore_Rec</th>\n",
       "      <th>AgeMode_Jnt</th>\n",
       "      <th>AgeMean_Jnt</th>\n",
       "      <th>AgeMedian_Jnt</th>\n",
       "      <th>AgeCI95Lower_Jnt</th>\n",
       "      <th>AgeCI95Upper_Jnt</th>\n",
       "      <th>QualScore_Jnt</th>\n",
       "      <th>gnomAD_AF</th>\n",
       "      <th>DataSources</th>\n",
       "    </tr>\n",
       "  </thead>\n",
       "  <tbody>\n",
       "    <tr>\n",
       "      <th>947032</th>\n",
       "      <td>rs113573293</td>\n",
       "      <td>5</td>\n",
       "      <td>7706068</td>\n",
       "      <td>G</td>\n",
       "      <td>A</td>\n",
       "      <td>G</td>\n",
       "      <td>Combined</td>\n",
       "      <td>24</td>\n",
       "      <td>584</td>\n",
       "      <td>601.94</td>\n",
       "      <td>599.402</td>\n",
       "      <td>596.956</td>\n",
       "      <td>475.605</td>\n",
       "      <td>730.812</td>\n",
       "      <td>0.750</td>\n",
       "      <td>18.441</td>\n",
       "      <td>16.698</td>\n",
       "      <td>16.226</td>\n",
       "      <td>5.057</td>\n",
       "      <td>30.62</td>\n",
       "      <td>0.042</td>\n",
       "      <td>382.383</td>\n",
       "      <td>380.091</td>\n",
       "      <td>379.259</td>\n",
       "      <td>317.935</td>\n",
       "      <td>443.227</td>\n",
       "      <td>0.792</td>\n",
       "      <td>0.000956</td>\n",
       "      <td>Combined &amp; TGP</td>\n",
       "    </tr>\n",
       "    <tr>\n",
       "      <th>947033</th>\n",
       "      <td>rs113573293</td>\n",
       "      <td>5</td>\n",
       "      <td>7706068</td>\n",
       "      <td>G</td>\n",
       "      <td>A</td>\n",
       "      <td>G</td>\n",
       "      <td>TGP</td>\n",
       "      <td>21</td>\n",
       "      <td>489</td>\n",
       "      <td>601.94</td>\n",
       "      <td>600.029</td>\n",
       "      <td>596.956</td>\n",
       "      <td>476.925</td>\n",
       "      <td>732.840</td>\n",
       "      <td>0.857</td>\n",
       "      <td>18.441</td>\n",
       "      <td>16.699</td>\n",
       "      <td>16.226</td>\n",
       "      <td>5.057</td>\n",
       "      <td>30.62</td>\n",
       "      <td>0.048</td>\n",
       "      <td>389.787</td>\n",
       "      <td>387.790</td>\n",
       "      <td>387.428</td>\n",
       "      <td>324.900</td>\n",
       "      <td>450.909</td>\n",
       "      <td>0.952</td>\n",
       "      <td>0.000956</td>\n",
       "      <td>Combined &amp; TGP</td>\n",
       "    </tr>\n",
       "  </tbody>\n",
       "</table>\n",
       "</div>"
      ],
      "text/plain": [
       "          VariantID  Chromosome  Position AlleleRef AlleleAlt AlleleAnc  \\\n",
       "947032  rs113573293           5   7706068         G         A         G   \n",
       "947033  rs113573293           5   7706068         G         A         G   \n",
       "\n",
       "       DataSource  NumConcordant  NumDiscordant  AgeMode_Mut  AgeMean_Mut  \\\n",
       "947032   Combined             24            584       601.94      599.402   \n",
       "947033        TGP             21            489       601.94      600.029   \n",
       "\n",
       "        AgeMedian_Mut  AgeCI95Lower_Mut  AgeCI95Upper_Mut  QualScore_Mut  \\\n",
       "947032        596.956           475.605           730.812          0.750   \n",
       "947033        596.956           476.925           732.840          0.857   \n",
       "\n",
       "        AgeMode_Rec  AgeMean_Rec  AgeMedian_Rec  AgeCI95Lower_Rec  \\\n",
       "947032       18.441       16.698         16.226             5.057   \n",
       "947033       18.441       16.699         16.226             5.057   \n",
       "\n",
       "        AgeCI95Upper_Rec  QualScore_Rec  AgeMode_Jnt  AgeMean_Jnt  \\\n",
       "947032             30.62          0.042      382.383      380.091   \n",
       "947033             30.62          0.048      389.787      387.790   \n",
       "\n",
       "        AgeMedian_Jnt  AgeCI95Lower_Jnt  AgeCI95Upper_Jnt  QualScore_Jnt  \\\n",
       "947032        379.259           317.935           443.227          0.792   \n",
       "947033        387.428           324.900           450.909          0.952   \n",
       "\n",
       "        gnomAD_AF     DataSources  \n",
       "947032   0.000956  Combined & TGP  \n",
       "947033   0.000956  Combined & TGP  "
      ]
     },
     "execution_count": 79,
     "metadata": {},
     "output_type": "execute_result"
    }
   ],
   "source": [
    "AGV_age_estimates[AGV_age_estimates['VariantID'] == 'rs113573293']"
   ]
  },
  {
   "cell_type": "markdown",
   "id": "d4eafc55-cf05-4f00-b3e9-a6796de4fac3",
   "metadata": {},
   "source": [
    "Now let's compare the age estimates across data sources for high quality variants with estimates from all three data sources. First, subset high quality estimates."
   ]
  },
  {
   "cell_type": "code",
   "execution_count": 80,
   "id": "e478b5b3-cb7b-4bc8-9e19-e202094bd975",
   "metadata": {},
   "outputs": [
    {
     "data": {
      "text/html": [
       "<div>\n",
       "<style scoped>\n",
       "    .dataframe tbody tr th:only-of-type {\n",
       "        vertical-align: middle;\n",
       "    }\n",
       "\n",
       "    .dataframe tbody tr th {\n",
       "        vertical-align: top;\n",
       "    }\n",
       "\n",
       "    .dataframe thead th {\n",
       "        text-align: right;\n",
       "    }\n",
       "</style>\n",
       "<table border=\"1\" class=\"dataframe\">\n",
       "  <thead>\n",
       "    <tr style=\"text-align: right;\">\n",
       "      <th></th>\n",
       "      <th>VariantID</th>\n",
       "      <th>Chromosome</th>\n",
       "      <th>Position</th>\n",
       "      <th>AlleleRef</th>\n",
       "      <th>AlleleAlt</th>\n",
       "      <th>AlleleAnc</th>\n",
       "      <th>DataSource</th>\n",
       "      <th>NumConcordant</th>\n",
       "      <th>NumDiscordant</th>\n",
       "      <th>AgeMode_Mut</th>\n",
       "      <th>AgeMean_Mut</th>\n",
       "      <th>AgeMedian_Mut</th>\n",
       "      <th>AgeCI95Lower_Mut</th>\n",
       "      <th>AgeCI95Upper_Mut</th>\n",
       "      <th>QualScore_Mut</th>\n",
       "      <th>AgeMode_Rec</th>\n",
       "      <th>AgeMean_Rec</th>\n",
       "      <th>AgeMedian_Rec</th>\n",
       "      <th>AgeCI95Lower_Rec</th>\n",
       "      <th>AgeCI95Upper_Rec</th>\n",
       "      <th>QualScore_Rec</th>\n",
       "      <th>AgeMode_Jnt</th>\n",
       "      <th>AgeMean_Jnt</th>\n",
       "      <th>AgeMedian_Jnt</th>\n",
       "      <th>AgeCI95Lower_Jnt</th>\n",
       "      <th>AgeCI95Upper_Jnt</th>\n",
       "      <th>QualScore_Jnt</th>\n",
       "      <th>gnomAD_AF</th>\n",
       "      <th>DataSources</th>\n",
       "    </tr>\n",
       "  </thead>\n",
       "  <tbody>\n",
       "    <tr>\n",
       "      <th>0</th>\n",
       "      <td>rs3094315</td>\n",
       "      <td>1</td>\n",
       "      <td>752566</td>\n",
       "      <td>G</td>\n",
       "      <td>A</td>\n",
       "      <td>.</td>\n",
       "      <td>TGP</td>\n",
       "      <td>500</td>\n",
       "      <td>499</td>\n",
       "      <td>16898.80</td>\n",
       "      <td>16901.90</td>\n",
       "      <td>16881.00</td>\n",
       "      <td>15435.50</td>\n",
       "      <td>18423.00</td>\n",
       "      <td>0.810</td>\n",
       "      <td>35562.10</td>\n",
       "      <td>35560.90</td>\n",
       "      <td>35534.60</td>\n",
       "      <td>33318.00</td>\n",
       "      <td>37869.20</td>\n",
       "      <td>0.756</td>\n",
       "      <td>38695.60</td>\n",
       "      <td>38693.70</td>\n",
       "      <td>38660.20</td>\n",
       "      <td>35801.40</td>\n",
       "      <td>41671.00</td>\n",
       "      <td>0.756</td>\n",
       "      <td>0.706299</td>\n",
       "      <td>TGP</td>\n",
       "    </tr>\n",
       "    <tr>\n",
       "      <th>1</th>\n",
       "      <td>rs12124819</td>\n",
       "      <td>1</td>\n",
       "      <td>776546</td>\n",
       "      <td>A</td>\n",
       "      <td>G</td>\n",
       "      <td>.</td>\n",
       "      <td>TGP</td>\n",
       "      <td>500</td>\n",
       "      <td>500</td>\n",
       "      <td>3174.73</td>\n",
       "      <td>3175.03</td>\n",
       "      <td>3172.09</td>\n",
       "      <td>2955.65</td>\n",
       "      <td>3404.37</td>\n",
       "      <td>0.920</td>\n",
       "      <td>3719.57</td>\n",
       "      <td>3719.47</td>\n",
       "      <td>3716.17</td>\n",
       "      <td>3447.67</td>\n",
       "      <td>4001.91</td>\n",
       "      <td>0.900</td>\n",
       "      <td>3076.93</td>\n",
       "      <td>3076.79</td>\n",
       "      <td>3074.46</td>\n",
       "      <td>2873.75</td>\n",
       "      <td>3286.54</td>\n",
       "      <td>0.892</td>\n",
       "      <td>0.189643</td>\n",
       "      <td>TGP</td>\n",
       "    </tr>\n",
       "    <tr>\n",
       "      <th>2</th>\n",
       "      <td>rs28765502</td>\n",
       "      <td>1</td>\n",
       "      <td>832918</td>\n",
       "      <td>T</td>\n",
       "      <td>C</td>\n",
       "      <td>.</td>\n",
       "      <td>TGP</td>\n",
       "      <td>500</td>\n",
       "      <td>500</td>\n",
       "      <td>20220.90</td>\n",
       "      <td>20221.90</td>\n",
       "      <td>20200.80</td>\n",
       "      <td>18613.90</td>\n",
       "      <td>21879.20</td>\n",
       "      <td>0.902</td>\n",
       "      <td>22108.40</td>\n",
       "      <td>22107.50</td>\n",
       "      <td>22089.40</td>\n",
       "      <td>20533.80</td>\n",
       "      <td>23742.50</td>\n",
       "      <td>0.902</td>\n",
       "      <td>25899.00</td>\n",
       "      <td>25908.10</td>\n",
       "      <td>25874.60</td>\n",
       "      <td>23905.60</td>\n",
       "      <td>27979.50</td>\n",
       "      <td>0.902</td>\n",
       "      <td>0.372510</td>\n",
       "      <td>TGP</td>\n",
       "    </tr>\n",
       "    <tr>\n",
       "      <th>3</th>\n",
       "      <td>rs7419119</td>\n",
       "      <td>1</td>\n",
       "      <td>842013</td>\n",
       "      <td>T</td>\n",
       "      <td>G</td>\n",
       "      <td>T</td>\n",
       "      <td>TGP</td>\n",
       "      <td>500</td>\n",
       "      <td>493</td>\n",
       "      <td>15138.10</td>\n",
       "      <td>15159.60</td>\n",
       "      <td>15138.10</td>\n",
       "      <td>13728.00</td>\n",
       "      <td>16693.00</td>\n",
       "      <td>0.773</td>\n",
       "      <td>19752.30</td>\n",
       "      <td>19759.40</td>\n",
       "      <td>19726.60</td>\n",
       "      <td>17682.10</td>\n",
       "      <td>21921.70</td>\n",
       "      <td>0.773</td>\n",
       "      <td>24929.90</td>\n",
       "      <td>24912.10</td>\n",
       "      <td>24859.60</td>\n",
       "      <td>22045.40</td>\n",
       "      <td>27875.00</td>\n",
       "      <td>0.773</td>\n",
       "      <td>0.189768</td>\n",
       "      <td>TGP</td>\n",
       "    </tr>\n",
       "    <tr>\n",
       "      <th>5</th>\n",
       "      <td>rs950122</td>\n",
       "      <td>1</td>\n",
       "      <td>846864</td>\n",
       "      <td>G</td>\n",
       "      <td>C</td>\n",
       "      <td>G</td>\n",
       "      <td>SGDP</td>\n",
       "      <td>100</td>\n",
       "      <td>100</td>\n",
       "      <td>18216.30</td>\n",
       "      <td>18234.10</td>\n",
       "      <td>18130.70</td>\n",
       "      <td>14875.70</td>\n",
       "      <td>21942.40</td>\n",
       "      <td>0.980</td>\n",
       "      <td>21629.60</td>\n",
       "      <td>21638.30</td>\n",
       "      <td>21519.60</td>\n",
       "      <td>17504.10</td>\n",
       "      <td>26187.70</td>\n",
       "      <td>0.980</td>\n",
       "      <td>27726.30</td>\n",
       "      <td>27725.10</td>\n",
       "      <td>27591.40</td>\n",
       "      <td>22370.90</td>\n",
       "      <td>33617.60</td>\n",
       "      <td>0.980</td>\n",
       "      <td>0.206207</td>\n",
       "      <td>Combined &amp; SGDP &amp; TGP</td>\n",
       "    </tr>\n",
       "  </tbody>\n",
       "</table>\n",
       "</div>"
      ],
      "text/plain": [
       "    VariantID  Chromosome  Position AlleleRef AlleleAlt AlleleAnc DataSource  \\\n",
       "0   rs3094315           1    752566         G         A         .        TGP   \n",
       "1  rs12124819           1    776546         A         G         .        TGP   \n",
       "2  rs28765502           1    832918         T         C         .        TGP   \n",
       "3   rs7419119           1    842013         T         G         T        TGP   \n",
       "5    rs950122           1    846864         G         C         G       SGDP   \n",
       "\n",
       "   NumConcordant  NumDiscordant  AgeMode_Mut  AgeMean_Mut  AgeMedian_Mut  \\\n",
       "0            500            499     16898.80     16901.90       16881.00   \n",
       "1            500            500      3174.73      3175.03        3172.09   \n",
       "2            500            500     20220.90     20221.90       20200.80   \n",
       "3            500            493     15138.10     15159.60       15138.10   \n",
       "5            100            100     18216.30     18234.10       18130.70   \n",
       "\n",
       "   AgeCI95Lower_Mut  AgeCI95Upper_Mut  QualScore_Mut  AgeMode_Rec  \\\n",
       "0          15435.50          18423.00          0.810     35562.10   \n",
       "1           2955.65           3404.37          0.920      3719.57   \n",
       "2          18613.90          21879.20          0.902     22108.40   \n",
       "3          13728.00          16693.00          0.773     19752.30   \n",
       "5          14875.70          21942.40          0.980     21629.60   \n",
       "\n",
       "   AgeMean_Rec  AgeMedian_Rec  AgeCI95Lower_Rec  AgeCI95Upper_Rec  \\\n",
       "0     35560.90       35534.60          33318.00          37869.20   \n",
       "1      3719.47        3716.17           3447.67           4001.91   \n",
       "2     22107.50       22089.40          20533.80          23742.50   \n",
       "3     19759.40       19726.60          17682.10          21921.70   \n",
       "5     21638.30       21519.60          17504.10          26187.70   \n",
       "\n",
       "   QualScore_Rec  AgeMode_Jnt  AgeMean_Jnt  AgeMedian_Jnt  AgeCI95Lower_Jnt  \\\n",
       "0          0.756     38695.60     38693.70       38660.20          35801.40   \n",
       "1          0.900      3076.93      3076.79        3074.46           2873.75   \n",
       "2          0.902     25899.00     25908.10       25874.60          23905.60   \n",
       "3          0.773     24929.90     24912.10       24859.60          22045.40   \n",
       "5          0.980     27726.30     27725.10       27591.40          22370.90   \n",
       "\n",
       "   AgeCI95Upper_Jnt  QualScore_Jnt  gnomAD_AF            DataSources  \n",
       "0          41671.00          0.756   0.706299                    TGP  \n",
       "1           3286.54          0.892   0.189643                    TGP  \n",
       "2          27979.50          0.902   0.372510                    TGP  \n",
       "3          27875.00          0.773   0.189768                    TGP  \n",
       "5          33617.60          0.980   0.206207  Combined & SGDP & TGP  "
      ]
     },
     "execution_count": 80,
     "metadata": {},
     "output_type": "execute_result"
    }
   ],
   "source": [
    "high_quality_AGV_age_estimates = AGV_age_estimates[AGV_age_estimates['QualScore_Jnt'] >= 0.5]\n",
    "high_quality_AGV_age_estimates.head()"
   ]
  },
  {
   "cell_type": "code",
   "execution_count": 81,
   "id": "952b76d3-2604-4ada-ad7e-808bca7ecb57",
   "metadata": {},
   "outputs": [
    {
     "data": {
      "text/html": [
       "<div>\n",
       "<style scoped>\n",
       "    .dataframe tbody tr th:only-of-type {\n",
       "        vertical-align: middle;\n",
       "    }\n",
       "\n",
       "    .dataframe tbody tr th {\n",
       "        vertical-align: top;\n",
       "    }\n",
       "\n",
       "    .dataframe thead th {\n",
       "        text-align: right;\n",
       "    }\n",
       "</style>\n",
       "<table border=\"1\" class=\"dataframe\">\n",
       "  <thead>\n",
       "    <tr style=\"text-align: right;\">\n",
       "      <th></th>\n",
       "      <th>VariantID</th>\n",
       "      <th>Chromosome</th>\n",
       "      <th>Position</th>\n",
       "      <th>AlleleRef</th>\n",
       "      <th>AlleleAlt</th>\n",
       "      <th>AlleleAnc</th>\n",
       "      <th>DataSource</th>\n",
       "      <th>NumConcordant</th>\n",
       "      <th>NumDiscordant</th>\n",
       "      <th>AgeMode_Mut</th>\n",
       "      <th>AgeMean_Mut</th>\n",
       "      <th>AgeMedian_Mut</th>\n",
       "      <th>AgeCI95Lower_Mut</th>\n",
       "      <th>AgeCI95Upper_Mut</th>\n",
       "      <th>QualScore_Mut</th>\n",
       "      <th>AgeMode_Rec</th>\n",
       "      <th>AgeMean_Rec</th>\n",
       "      <th>AgeMedian_Rec</th>\n",
       "      <th>AgeCI95Lower_Rec</th>\n",
       "      <th>AgeCI95Upper_Rec</th>\n",
       "      <th>QualScore_Rec</th>\n",
       "      <th>AgeMode_Jnt</th>\n",
       "      <th>AgeMean_Jnt</th>\n",
       "      <th>AgeMedian_Jnt</th>\n",
       "      <th>AgeCI95Lower_Jnt</th>\n",
       "      <th>AgeCI95Upper_Jnt</th>\n",
       "      <th>QualScore_Jnt</th>\n",
       "      <th>gnomAD_AF</th>\n",
       "      <th>DataSources</th>\n",
       "    </tr>\n",
       "  </thead>\n",
       "  <tbody>\n",
       "  </tbody>\n",
       "</table>\n",
       "</div>"
      ],
      "text/plain": [
       "Empty DataFrame\n",
       "Columns: [VariantID, Chromosome, Position, AlleleRef, AlleleAlt, AlleleAnc, DataSource, NumConcordant, NumDiscordant, AgeMode_Mut, AgeMean_Mut, AgeMedian_Mut, AgeCI95Lower_Mut, AgeCI95Upper_Mut, QualScore_Mut, AgeMode_Rec, AgeMean_Rec, AgeMedian_Rec, AgeCI95Lower_Rec, AgeCI95Upper_Rec, QualScore_Rec, AgeMode_Jnt, AgeMean_Jnt, AgeMedian_Jnt, AgeCI95Lower_Jnt, AgeCI95Upper_Jnt, QualScore_Jnt, gnomAD_AF, DataSources]\n",
       "Index: []"
      ]
     },
     "execution_count": 81,
     "metadata": {},
     "output_type": "execute_result"
    }
   ],
   "source": [
    "high_quality_AGV_age_estimates[high_quality_AGV_age_estimates['VariantID'] == 'rs182549']"
   ]
  },
  {
   "cell_type": "code",
   "execution_count": 82,
   "id": "1acad907-0a16-4bb9-b16e-de9f0f29162e",
   "metadata": {},
   "outputs": [
    {
     "data": {
      "text/plain": [
       "2294708"
      ]
     },
     "execution_count": 82,
     "metadata": {},
     "output_type": "execute_result"
    }
   ],
   "source": [
    "len(high_quality_AGV_age_estimates)"
   ]
  },
  {
   "cell_type": "code",
   "execution_count": 83,
   "id": "99fbf07d-bac3-4d60-a5d7-031eb9bacf10",
   "metadata": {
    "scrolled": true
   },
   "outputs": [
    {
     "data": {
      "text/plain": [
       "954794"
      ]
     },
     "execution_count": 83,
     "metadata": {},
     "output_type": "execute_result"
    }
   ],
   "source": [
    "len(high_quality_AGV_age_estimates['VariantID'].unique())"
   ]
  },
  {
   "cell_type": "markdown",
   "id": "094cc207-3389-488c-b54b-216791dfab68",
   "metadata": {},
   "source": [
    "Let's take a look at the distribution of data sources for these variants. We will drop the old data sources column and create a new one."
   ]
  },
  {
   "cell_type": "code",
   "execution_count": 84,
   "id": "297d2f77-ef16-42ea-878b-799b017023da",
   "metadata": {},
   "outputs": [
    {
     "data": {
      "text/html": [
       "<div>\n",
       "<style scoped>\n",
       "    .dataframe tbody tr th:only-of-type {\n",
       "        vertical-align: middle;\n",
       "    }\n",
       "\n",
       "    .dataframe tbody tr th {\n",
       "        vertical-align: top;\n",
       "    }\n",
       "\n",
       "    .dataframe thead th {\n",
       "        text-align: right;\n",
       "    }\n",
       "</style>\n",
       "<table border=\"1\" class=\"dataframe\">\n",
       "  <thead>\n",
       "    <tr style=\"text-align: right;\">\n",
       "      <th></th>\n",
       "      <th>VariantID</th>\n",
       "      <th>Chromosome</th>\n",
       "      <th>Position</th>\n",
       "      <th>AlleleRef</th>\n",
       "      <th>AlleleAlt</th>\n",
       "      <th>AlleleAnc</th>\n",
       "      <th>DataSource</th>\n",
       "      <th>NumConcordant</th>\n",
       "      <th>NumDiscordant</th>\n",
       "      <th>AgeMode_Mut</th>\n",
       "      <th>AgeMean_Mut</th>\n",
       "      <th>AgeMedian_Mut</th>\n",
       "      <th>AgeCI95Lower_Mut</th>\n",
       "      <th>AgeCI95Upper_Mut</th>\n",
       "      <th>QualScore_Mut</th>\n",
       "      <th>AgeMode_Rec</th>\n",
       "      <th>AgeMean_Rec</th>\n",
       "      <th>AgeMedian_Rec</th>\n",
       "      <th>AgeCI95Lower_Rec</th>\n",
       "      <th>AgeCI95Upper_Rec</th>\n",
       "      <th>QualScore_Rec</th>\n",
       "      <th>AgeMode_Jnt</th>\n",
       "      <th>AgeMean_Jnt</th>\n",
       "      <th>AgeMedian_Jnt</th>\n",
       "      <th>AgeCI95Lower_Jnt</th>\n",
       "      <th>AgeCI95Upper_Jnt</th>\n",
       "      <th>QualScore_Jnt</th>\n",
       "      <th>gnomAD_AF</th>\n",
       "      <th>DataSources</th>\n",
       "    </tr>\n",
       "  </thead>\n",
       "  <tbody>\n",
       "    <tr>\n",
       "      <th>0</th>\n",
       "      <td>rs3094315</td>\n",
       "      <td>1</td>\n",
       "      <td>752566</td>\n",
       "      <td>G</td>\n",
       "      <td>A</td>\n",
       "      <td>.</td>\n",
       "      <td>TGP</td>\n",
       "      <td>500</td>\n",
       "      <td>499</td>\n",
       "      <td>16898.80</td>\n",
       "      <td>16901.90</td>\n",
       "      <td>16881.00</td>\n",
       "      <td>15435.50</td>\n",
       "      <td>18423.00</td>\n",
       "      <td>0.810</td>\n",
       "      <td>35562.10</td>\n",
       "      <td>35560.90</td>\n",
       "      <td>35534.60</td>\n",
       "      <td>33318.00</td>\n",
       "      <td>37869.20</td>\n",
       "      <td>0.756</td>\n",
       "      <td>38695.60</td>\n",
       "      <td>38693.70</td>\n",
       "      <td>38660.20</td>\n",
       "      <td>35801.40</td>\n",
       "      <td>41671.00</td>\n",
       "      <td>0.756</td>\n",
       "      <td>0.706299</td>\n",
       "      <td>TGP</td>\n",
       "    </tr>\n",
       "    <tr>\n",
       "      <th>1</th>\n",
       "      <td>rs12124819</td>\n",
       "      <td>1</td>\n",
       "      <td>776546</td>\n",
       "      <td>A</td>\n",
       "      <td>G</td>\n",
       "      <td>.</td>\n",
       "      <td>TGP</td>\n",
       "      <td>500</td>\n",
       "      <td>500</td>\n",
       "      <td>3174.73</td>\n",
       "      <td>3175.03</td>\n",
       "      <td>3172.09</td>\n",
       "      <td>2955.65</td>\n",
       "      <td>3404.37</td>\n",
       "      <td>0.920</td>\n",
       "      <td>3719.57</td>\n",
       "      <td>3719.47</td>\n",
       "      <td>3716.17</td>\n",
       "      <td>3447.67</td>\n",
       "      <td>4001.91</td>\n",
       "      <td>0.900</td>\n",
       "      <td>3076.93</td>\n",
       "      <td>3076.79</td>\n",
       "      <td>3074.46</td>\n",
       "      <td>2873.75</td>\n",
       "      <td>3286.54</td>\n",
       "      <td>0.892</td>\n",
       "      <td>0.189643</td>\n",
       "      <td>TGP</td>\n",
       "    </tr>\n",
       "    <tr>\n",
       "      <th>2</th>\n",
       "      <td>rs28765502</td>\n",
       "      <td>1</td>\n",
       "      <td>832918</td>\n",
       "      <td>T</td>\n",
       "      <td>C</td>\n",
       "      <td>.</td>\n",
       "      <td>TGP</td>\n",
       "      <td>500</td>\n",
       "      <td>500</td>\n",
       "      <td>20220.90</td>\n",
       "      <td>20221.90</td>\n",
       "      <td>20200.80</td>\n",
       "      <td>18613.90</td>\n",
       "      <td>21879.20</td>\n",
       "      <td>0.902</td>\n",
       "      <td>22108.40</td>\n",
       "      <td>22107.50</td>\n",
       "      <td>22089.40</td>\n",
       "      <td>20533.80</td>\n",
       "      <td>23742.50</td>\n",
       "      <td>0.902</td>\n",
       "      <td>25899.00</td>\n",
       "      <td>25908.10</td>\n",
       "      <td>25874.60</td>\n",
       "      <td>23905.60</td>\n",
       "      <td>27979.50</td>\n",
       "      <td>0.902</td>\n",
       "      <td>0.372510</td>\n",
       "      <td>TGP</td>\n",
       "    </tr>\n",
       "    <tr>\n",
       "      <th>3</th>\n",
       "      <td>rs7419119</td>\n",
       "      <td>1</td>\n",
       "      <td>842013</td>\n",
       "      <td>T</td>\n",
       "      <td>G</td>\n",
       "      <td>T</td>\n",
       "      <td>TGP</td>\n",
       "      <td>500</td>\n",
       "      <td>493</td>\n",
       "      <td>15138.10</td>\n",
       "      <td>15159.60</td>\n",
       "      <td>15138.10</td>\n",
       "      <td>13728.00</td>\n",
       "      <td>16693.00</td>\n",
       "      <td>0.773</td>\n",
       "      <td>19752.30</td>\n",
       "      <td>19759.40</td>\n",
       "      <td>19726.60</td>\n",
       "      <td>17682.10</td>\n",
       "      <td>21921.70</td>\n",
       "      <td>0.773</td>\n",
       "      <td>24929.90</td>\n",
       "      <td>24912.10</td>\n",
       "      <td>24859.60</td>\n",
       "      <td>22045.40</td>\n",
       "      <td>27875.00</td>\n",
       "      <td>0.773</td>\n",
       "      <td>0.189768</td>\n",
       "      <td>TGP</td>\n",
       "    </tr>\n",
       "    <tr>\n",
       "      <th>4</th>\n",
       "      <td>rs950122</td>\n",
       "      <td>1</td>\n",
       "      <td>846864</td>\n",
       "      <td>G</td>\n",
       "      <td>C</td>\n",
       "      <td>G</td>\n",
       "      <td>SGDP</td>\n",
       "      <td>100</td>\n",
       "      <td>100</td>\n",
       "      <td>18216.30</td>\n",
       "      <td>18234.10</td>\n",
       "      <td>18130.70</td>\n",
       "      <td>14875.70</td>\n",
       "      <td>21942.40</td>\n",
       "      <td>0.980</td>\n",
       "      <td>21629.60</td>\n",
       "      <td>21638.30</td>\n",
       "      <td>21519.60</td>\n",
       "      <td>17504.10</td>\n",
       "      <td>26187.70</td>\n",
       "      <td>0.980</td>\n",
       "      <td>27726.30</td>\n",
       "      <td>27725.10</td>\n",
       "      <td>27591.40</td>\n",
       "      <td>22370.90</td>\n",
       "      <td>33617.60</td>\n",
       "      <td>0.980</td>\n",
       "      <td>0.206207</td>\n",
       "      <td>SGDP</td>\n",
       "    </tr>\n",
       "  </tbody>\n",
       "</table>\n",
       "</div>"
      ],
      "text/plain": [
       "    VariantID  Chromosome  Position AlleleRef AlleleAlt AlleleAnc DataSource  \\\n",
       "0   rs3094315           1    752566         G         A         .        TGP   \n",
       "1  rs12124819           1    776546         A         G         .        TGP   \n",
       "2  rs28765502           1    832918         T         C         .        TGP   \n",
       "3   rs7419119           1    842013         T         G         T        TGP   \n",
       "4    rs950122           1    846864         G         C         G       SGDP   \n",
       "\n",
       "   NumConcordant  NumDiscordant  AgeMode_Mut  AgeMean_Mut  AgeMedian_Mut  \\\n",
       "0            500            499     16898.80     16901.90       16881.00   \n",
       "1            500            500      3174.73      3175.03        3172.09   \n",
       "2            500            500     20220.90     20221.90       20200.80   \n",
       "3            500            493     15138.10     15159.60       15138.10   \n",
       "4            100            100     18216.30     18234.10       18130.70   \n",
       "\n",
       "   AgeCI95Lower_Mut  AgeCI95Upper_Mut  QualScore_Mut  AgeMode_Rec  \\\n",
       "0          15435.50          18423.00          0.810     35562.10   \n",
       "1           2955.65           3404.37          0.920      3719.57   \n",
       "2          18613.90          21879.20          0.902     22108.40   \n",
       "3          13728.00          16693.00          0.773     19752.30   \n",
       "4          14875.70          21942.40          0.980     21629.60   \n",
       "\n",
       "   AgeMean_Rec  AgeMedian_Rec  AgeCI95Lower_Rec  AgeCI95Upper_Rec  \\\n",
       "0     35560.90       35534.60          33318.00          37869.20   \n",
       "1      3719.47        3716.17           3447.67           4001.91   \n",
       "2     22107.50       22089.40          20533.80          23742.50   \n",
       "3     19759.40       19726.60          17682.10          21921.70   \n",
       "4     21638.30       21519.60          17504.10          26187.70   \n",
       "\n",
       "   QualScore_Rec  AgeMode_Jnt  AgeMean_Jnt  AgeMedian_Jnt  AgeCI95Lower_Jnt  \\\n",
       "0          0.756     38695.60     38693.70       38660.20          35801.40   \n",
       "1          0.900      3076.93      3076.79        3074.46           2873.75   \n",
       "2          0.902     25899.00     25908.10       25874.60          23905.60   \n",
       "3          0.773     24929.90     24912.10       24859.60          22045.40   \n",
       "4          0.980     27726.30     27725.10       27591.40          22370.90   \n",
       "\n",
       "   AgeCI95Upper_Jnt  QualScore_Jnt  gnomAD_AF DataSources  \n",
       "0          41671.00          0.756   0.706299         TGP  \n",
       "1           3286.54          0.892   0.189643         TGP  \n",
       "2          27979.50          0.902   0.372510         TGP  \n",
       "3          27875.00          0.773   0.189768         TGP  \n",
       "4          33617.60          0.980   0.206207        SGDP  "
      ]
     },
     "execution_count": 84,
     "metadata": {},
     "output_type": "execute_result"
    }
   ],
   "source": [
    "high_quality_AGV_age_estimates = high_quality_AGV_age_estimates.drop('DataSources', axis = 1)\n",
    "high_quality_AGV_age_estimates_grouped = high_quality_AGV_age_estimates.groupby('VariantID')['DataSource'].apply(lambda x: sorted(x.unique())).reset_index()\n",
    "high_quality_AGV_age_estimates_grouped['DataSources'] = high_quality_AGV_age_estimates_grouped['DataSource'].apply(lambda x: ' & '.join(x))\n",
    "high_quality_AGV_age_estimates = pd.merge(high_quality_AGV_age_estimates, high_quality_AGV_age_estimates_grouped[['VariantID', 'DataSources']], on = 'VariantID')\n",
    "high_quality_AGV_age_estimates.head()"
   ]
  },
  {
   "cell_type": "code",
   "execution_count": 85,
   "id": "bc8471b5-1c25-46c0-b324-1acb208d797c",
   "metadata": {},
   "outputs": [
    {
     "data": {
      "text/html": [
       "<div>\n",
       "<style scoped>\n",
       "    .dataframe tbody tr th:only-of-type {\n",
       "        vertical-align: middle;\n",
       "    }\n",
       "\n",
       "    .dataframe tbody tr th {\n",
       "        vertical-align: top;\n",
       "    }\n",
       "\n",
       "    .dataframe thead th {\n",
       "        text-align: right;\n",
       "    }\n",
       "</style>\n",
       "<table border=\"1\" class=\"dataframe\">\n",
       "  <thead>\n",
       "    <tr style=\"text-align: right;\">\n",
       "      <th></th>\n",
       "      <th>N</th>\n",
       "    </tr>\n",
       "    <tr>\n",
       "      <th>DataSources</th>\n",
       "      <th></th>\n",
       "    </tr>\n",
       "  </thead>\n",
       "  <tbody>\n",
       "    <tr>\n",
       "      <th>Combined</th>\n",
       "      <td>351</td>\n",
       "    </tr>\n",
       "    <tr>\n",
       "      <th>Combined &amp; SGDP</th>\n",
       "      <td>39949</td>\n",
       "    </tr>\n",
       "    <tr>\n",
       "      <th>Combined &amp; SGDP &amp; TGP</th>\n",
       "      <td>637502</td>\n",
       "    </tr>\n",
       "    <tr>\n",
       "      <th>Combined &amp; TGP</th>\n",
       "      <td>20330</td>\n",
       "    </tr>\n",
       "    <tr>\n",
       "      <th>SGDP</th>\n",
       "      <td>185931</td>\n",
       "    </tr>\n",
       "    <tr>\n",
       "      <th>SGDP &amp; TGP</th>\n",
       "      <td>4631</td>\n",
       "    </tr>\n",
       "    <tr>\n",
       "      <th>TGP</th>\n",
       "      <td>66100</td>\n",
       "    </tr>\n",
       "  </tbody>\n",
       "</table>\n",
       "</div>"
      ],
      "text/plain": [
       "                            N\n",
       "DataSources                  \n",
       "Combined                  351\n",
       "Combined & SGDP         39949\n",
       "Combined & SGDP & TGP  637502\n",
       "Combined & TGP          20330\n",
       "SGDP                   185931\n",
       "SGDP & TGP               4631\n",
       "TGP                     66100"
      ]
     },
     "execution_count": 85,
     "metadata": {},
     "output_type": "execute_result"
    }
   ],
   "source": [
    "high_quality_AGV_age_estimates.drop_duplicates(subset = 'VariantID').groupby('DataSources').size().to_frame('N')"
   ]
  },
  {
   "cell_type": "markdown",
   "id": "ce90e66d-f338-4214-a09d-1ce099957b9b",
   "metadata": {},
   "source": [
    "Now let's subset the variants with all three data sources."
   ]
  },
  {
   "cell_type": "code",
   "execution_count": 86,
   "id": "060b260a-ae83-401b-a3d0-e9fc35cf7b3e",
   "metadata": {},
   "outputs": [],
   "source": [
    "high_quality_AGV_age_estimates_with_three_estimates = high_quality_AGV_age_estimates.groupby('VariantID').filter(lambda x: len(x) == 3)"
   ]
  },
  {
   "cell_type": "code",
   "execution_count": 87,
   "id": "131239ba-449b-4d46-952e-3bdd8bacac56",
   "metadata": {},
   "outputs": [
    {
     "data": {
      "text/plain": [
       "637502.0"
      ]
     },
     "execution_count": 87,
     "metadata": {},
     "output_type": "execute_result"
    }
   ],
   "source": [
    "len(high_quality_AGV_age_estimates_with_three_estimates)/3"
   ]
  },
  {
   "cell_type": "markdown",
   "id": "aaee776c-ad34-4640-a613-9e1dd3cab65e",
   "metadata": {},
   "source": [
    "What are the differences in age estimate across data sources?"
   ]
  },
  {
   "cell_type": "code",
   "execution_count": 88,
   "id": "3ee4ac59-bfc8-4862-aeb3-57c3566f4333",
   "metadata": {},
   "outputs": [
    {
     "data": {
      "text/html": [
       "<div>\n",
       "<style scoped>\n",
       "    .dataframe tbody tr th:only-of-type {\n",
       "        vertical-align: middle;\n",
       "    }\n",
       "\n",
       "    .dataframe tbody tr th {\n",
       "        vertical-align: top;\n",
       "    }\n",
       "\n",
       "    .dataframe thead th {\n",
       "        text-align: right;\n",
       "    }\n",
       "</style>\n",
       "<table border=\"1\" class=\"dataframe\">\n",
       "  <thead>\n",
       "    <tr style=\"text-align: right;\">\n",
       "      <th></th>\n",
       "      <th>Median</th>\n",
       "    </tr>\n",
       "    <tr>\n",
       "      <th>DataSource</th>\n",
       "      <th></th>\n",
       "    </tr>\n",
       "  </thead>\n",
       "  <tbody>\n",
       "    <tr>\n",
       "      <th>Combined</th>\n",
       "      <td>23192.3</td>\n",
       "    </tr>\n",
       "    <tr>\n",
       "      <th>SGDP</th>\n",
       "      <td>21051.2</td>\n",
       "    </tr>\n",
       "    <tr>\n",
       "      <th>TGP</th>\n",
       "      <td>23307.0</td>\n",
       "    </tr>\n",
       "  </tbody>\n",
       "</table>\n",
       "</div>"
      ],
      "text/plain": [
       "             Median\n",
       "DataSource         \n",
       "Combined    23192.3\n",
       "SGDP        21051.2\n",
       "TGP         23307.0"
      ]
     },
     "execution_count": 88,
     "metadata": {},
     "output_type": "execute_result"
    }
   ],
   "source": [
    "high_quality_AGV_age_estimates_with_three_estimates.groupby('DataSource')['AgeMode_Jnt'].median().to_frame('Median')"
   ]
  },
  {
   "cell_type": "code",
   "execution_count": 89,
   "id": "8fb19268-cf53-4181-ba29-257f04e4251e",
   "metadata": {},
   "outputs": [
    {
     "data": {
      "text/html": [
       "<div>\n",
       "<style scoped>\n",
       "    .dataframe tbody tr th:only-of-type {\n",
       "        vertical-align: middle;\n",
       "    }\n",
       "\n",
       "    .dataframe tbody tr th {\n",
       "        vertical-align: top;\n",
       "    }\n",
       "\n",
       "    .dataframe thead th {\n",
       "        text-align: right;\n",
       "    }\n",
       "</style>\n",
       "<table border=\"1\" class=\"dataframe\">\n",
       "  <thead>\n",
       "    <tr style=\"text-align: right;\">\n",
       "      <th></th>\n",
       "      <th>Mean</th>\n",
       "    </tr>\n",
       "    <tr>\n",
       "      <th>DataSource</th>\n",
       "      <th></th>\n",
       "    </tr>\n",
       "  </thead>\n",
       "  <tbody>\n",
       "    <tr>\n",
       "      <th>Combined</th>\n",
       "      <td>23841.758098</td>\n",
       "    </tr>\n",
       "    <tr>\n",
       "      <th>SGDP</th>\n",
       "      <td>22026.792095</td>\n",
       "    </tr>\n",
       "    <tr>\n",
       "      <th>TGP</th>\n",
       "      <td>24045.819944</td>\n",
       "    </tr>\n",
       "  </tbody>\n",
       "</table>\n",
       "</div>"
      ],
      "text/plain": [
       "                    Mean\n",
       "DataSource              \n",
       "Combined    23841.758098\n",
       "SGDP        22026.792095\n",
       "TGP         24045.819944"
      ]
     },
     "execution_count": 89,
     "metadata": {},
     "output_type": "execute_result"
    }
   ],
   "source": [
    "high_quality_AGV_age_estimates_with_three_estimates.groupby('DataSource')['AgeMode_Jnt'].mean().to_frame('Mean')"
   ]
  },
  {
   "cell_type": "code",
   "execution_count": 90,
   "id": "d97c169e-d5dc-43f6-903d-3efa6fb91234",
   "metadata": {},
   "outputs": [
    {
     "data": {
      "text/plain": [
       "691410.984842"
      ]
     },
     "execution_count": 90,
     "metadata": {},
     "output_type": "execute_result"
    }
   ],
   "source": [
    "23841.758098*29"
   ]
  },
  {
   "cell_type": "code",
   "execution_count": 91,
   "id": "09016295-1084-4ddc-ad3c-b5aca29c97ed",
   "metadata": {},
   "outputs": [
    {
     "data": {
      "text/plain": [
       "638776.970755"
      ]
     },
     "execution_count": 91,
     "metadata": {},
     "output_type": "execute_result"
    }
   ],
   "source": [
    "22026.792095*29"
   ]
  },
  {
   "cell_type": "code",
   "execution_count": 92,
   "id": "442c18ca-4ed7-4b96-93c8-fce0a1f16571",
   "metadata": {},
   "outputs": [
    {
     "data": {
      "text/plain": [
       "697328.778376"
      ]
     },
     "execution_count": 92,
     "metadata": {},
     "output_type": "execute_result"
    }
   ],
   "source": [
    "24045.819944*29"
   ]
  },
  {
   "cell_type": "code",
   "execution_count": 93,
   "id": "eefef677-6dd8-40ea-ac0c-584a54e02443",
   "metadata": {},
   "outputs": [],
   "source": [
    "high_quality_AGV_age_estimates_with_three_estimates_combined_estimates = high_quality_AGV_age_estimates_with_three_estimates[high_quality_AGV_age_estimates_with_three_estimates['DataSource'] == 'Combined']['AgeMode_Jnt']\n",
    "high_quality_AGV_age_estimates_with_three_estimates_SGDP_estimates = high_quality_AGV_age_estimates_with_three_estimates[high_quality_AGV_age_estimates_with_three_estimates['DataSource'] == 'SGDP']['AgeMode_Jnt']\n",
    "high_quality_AGV_age_estimates_with_three_estimates_TGP_estimates = high_quality_AGV_age_estimates_with_three_estimates[high_quality_AGV_age_estimates_with_three_estimates['DataSource'] == 'TGP']['AgeMode_Jnt']"
   ]
  },
  {
   "cell_type": "code",
   "execution_count": 94,
   "id": "ef31bb75-b294-47dc-8b46-742fdfcf51e5",
   "metadata": {},
   "outputs": [
    {
     "data": {
      "text/plain": [
       "KruskalResult(statistic=4066.3380326820334, pvalue=0.0)"
      ]
     },
     "execution_count": 94,
     "metadata": {},
     "output_type": "execute_result"
    }
   ],
   "source": [
    "kruskal(high_quality_AGV_age_estimates_with_three_estimates_combined_estimates, high_quality_AGV_age_estimates_with_three_estimates_SGDP_estimates, high_quality_AGV_age_estimates_with_three_estimates_TGP_estimates)"
   ]
  },
  {
   "cell_type": "markdown",
   "id": "fd1d7128-f204-403e-895e-8e11572961cd",
   "metadata": {},
   "source": [
    "Now, let's get a single age estimate per variant. We will default to using the Combined estimates for variants where possible and SGDP/TGP estimates for variants private to those datasets. Write a function to do the filtering. Let's save the output so that we can reload because the function will take a while to run."
   ]
  },
  {
   "cell_type": "code",
   "execution_count": 95,
   "id": "ca44ae1f-c12d-49ae-9544-3df2c3a80eb8",
   "metadata": {},
   "outputs": [],
   "source": [
    "def retrieve_one_age_estimate_per_variant(variant):    \n",
    "    if 'Combined' in variant['DataSource'].values:\n",
    "        return variant[variant['DataSource'] == 'Combined'].iloc[0]\n",
    "    elif 'TGP' in variant['DataSource'].values and 'SGDP' in variant['DataSource'].values:\n",
    "        return variant[variant['DataSource'] == 'TGP'].iloc[0]\n",
    "    else:\n",
    "        return variant.iloc[0]"
   ]
  },
  {
   "cell_type": "code",
   "execution_count": 96,
   "id": "c1ccfd06-caab-436f-ad0e-07b674f0ef2f",
   "metadata": {},
   "outputs": [],
   "source": [
    "#high_quality_AGV_age_estimates_single_estimate_per_variant = high_quality_AGV_age_estimates.groupby('VariantID').apply(retrieve_one_age_estimate_per_variant).reset_index(drop = True)\n",
    "#high_quality_AGV_age_estimates_single_estimate_per_variant.head()"
   ]
  },
  {
   "cell_type": "code",
   "execution_count": 97,
   "id": "892eb6b5-fe9d-4110-a1b7-928637887f62",
   "metadata": {},
   "outputs": [],
   "source": [
    "#high_quality_AGV_age_estimates_single_estimate_per_variant.to_csv('/wynton/group/capra/projects/ancient_genotyped_variants_proxy_catalog/data/AGV_age_estimates/high_quality_AGV_age_estimates_single_estimate_per_variant.txt.gz', sep = '\\t', header = True, index = False, compression = 'gzip')"
   ]
  },
  {
   "cell_type": "markdown",
   "id": "17932d5e-5eef-4f7a-a7fc-9288d8c2deed",
   "metadata": {},
   "source": [
    "Let's read in the previously generated dataframe to speed this notebook up."
   ]
  },
  {
   "cell_type": "code",
   "execution_count": 98,
   "id": "fe9f50f7-51d7-4325-82f9-9e45903a927d",
   "metadata": {},
   "outputs": [],
   "source": [
    "high_quality_AGV_age_estimates_single_estimate_per_variant = pd.read_csv('/wynton/group/capra/projects/ancient_genotyped_variants_proxy_catalog/data/AGV_age_estimates/high_quality_AGV_age_estimates_single_estimate_per_variant.txt.gz', sep='\\t', header = 0, compression = 'gzip')"
   ]
  },
  {
   "cell_type": "code",
   "execution_count": 99,
   "id": "a72958cd-c97d-4866-9bb1-2ab8cf67cab1",
   "metadata": {},
   "outputs": [
    {
     "data": {
      "text/plain": [
       "954794"
      ]
     },
     "execution_count": 99,
     "metadata": {},
     "output_type": "execute_result"
    }
   ],
   "source": [
    "len(high_quality_AGV_age_estimates_single_estimate_per_variant)"
   ]
  },
  {
   "cell_type": "code",
   "execution_count": 100,
   "id": "a156a10c-470a-44a7-8652-6cc131fbb0de",
   "metadata": {},
   "outputs": [
    {
     "data": {
      "text/plain": [
       "625.936"
      ]
     },
     "execution_count": 100,
     "metadata": {},
     "output_type": "execute_result"
    }
   ],
   "source": [
    "high_quality_AGV_age_estimates_single_estimate_per_variant['AgeMode_Jnt'].min()*29"
   ]
  },
  {
   "cell_type": "code",
   "execution_count": 101,
   "id": "8e2b0520-4c11-4239-9956-60a2dbe5ba71",
   "metadata": {},
   "outputs": [
    {
     "data": {
      "text/plain": [
       "695106.8"
      ]
     },
     "execution_count": 101,
     "metadata": {},
     "output_type": "execute_result"
    }
   ],
   "source": [
    "high_quality_AGV_age_estimates_single_estimate_per_variant['AgeMode_Jnt'].median()*29"
   ]
  },
  {
   "cell_type": "code",
   "execution_count": 102,
   "id": "56586ff6-02e7-4d88-9bd6-803009d687c6",
   "metadata": {},
   "outputs": [
    {
     "data": {
      "text/plain": [
       "706343.1755468794"
      ]
     },
     "execution_count": 102,
     "metadata": {},
     "output_type": "execute_result"
    }
   ],
   "source": [
    "high_quality_AGV_age_estimates_single_estimate_per_variant['AgeMode_Jnt'].mean()*29"
   ]
  },
  {
   "cell_type": "code",
   "execution_count": 103,
   "id": "807e6ad1-f8b3-4c36-b070-4e14724ba51a",
   "metadata": {},
   "outputs": [
    {
     "data": {
      "text/plain": [
       "2192115.8"
      ]
     },
     "execution_count": 103,
     "metadata": {},
     "output_type": "execute_result"
    }
   ],
   "source": [
    "high_quality_AGV_age_estimates_single_estimate_per_variant['AgeMode_Jnt'].max()*29"
   ]
  },
  {
   "cell_type": "markdown",
   "id": "808840f3-7f60-4f87-9ccf-9153bddfb0af",
   "metadata": {},
   "source": [
    "How many of these variants are predicted to be young (< 60,000 years old)."
   ]
  },
  {
   "cell_type": "code",
   "execution_count": 104,
   "id": "b0849b96-ae5e-4e77-8c16-0b10d4f2e670",
   "metadata": {},
   "outputs": [
    {
     "data": {
      "text/plain": [
       "77686"
      ]
     },
     "execution_count": 104,
     "metadata": {},
     "output_type": "execute_result"
    }
   ],
   "source": [
    "len(high_quality_AGV_age_estimates_single_estimate_per_variant[high_quality_AGV_age_estimates_single_estimate_per_variant['AgeMode_Jnt'] < (60000/29)])"
   ]
  },
  {
   "cell_type": "code",
   "execution_count": 105,
   "id": "0448befe-639c-4a45-8336-425db9916c9e",
   "metadata": {},
   "outputs": [
    {
     "data": {
      "text/plain": [
       "0.0813641476590762"
      ]
     },
     "execution_count": 105,
     "metadata": {},
     "output_type": "execute_result"
    }
   ],
   "source": [
    "77686/954794"
   ]
  },
  {
   "cell_type": "code",
   "execution_count": 106,
   "id": "932d7b19-fc79-449b-a608-6ab936dcb150",
   "metadata": {},
   "outputs": [
    {
     "data": {
      "text/plain": [
       "2192115.8"
      ]
     },
     "execution_count": 106,
     "metadata": {},
     "output_type": "execute_result"
    }
   ],
   "source": [
    "high_quality_AGV_age_estimates_single_estimate_per_variant['AgeMode_Jnt'].max()*29"
   ]
  },
  {
   "cell_type": "markdown",
   "id": "cd1f6ef8-f4cc-4ec7-8116-62fd7cc517b9",
   "metadata": {},
   "source": [
    "Now let's consider AGV ages from Wohns et al. 2022."
   ]
  },
  {
   "cell_type": "code",
   "execution_count": 107,
   "id": "21f3fc07-97d5-4e59-ab42-6e5c9e86fbfc",
   "metadata": {},
   "outputs": [
    {
     "data": {
      "text/html": [
       "<div>\n",
       "<style scoped>\n",
       "    .dataframe tbody tr th:only-of-type {\n",
       "        vertical-align: middle;\n",
       "    }\n",
       "\n",
       "    .dataframe tbody tr th {\n",
       "        vertical-align: top;\n",
       "    }\n",
       "\n",
       "    .dataframe thead th {\n",
       "        text-align: right;\n",
       "    }\n",
       "</style>\n",
       "<table border=\"1\" class=\"dataframe\">\n",
       "  <thead>\n",
       "    <tr style=\"text-align: right;\">\n",
       "      <th></th>\n",
       "      <th>chr</th>\n",
       "      <th>pos</th>\n",
       "      <th>age</th>\n",
       "    </tr>\n",
       "  </thead>\n",
       "  <tbody>\n",
       "    <tr>\n",
       "      <th>6</th>\n",
       "      <td>chr1</td>\n",
       "      <td>955641</td>\n",
       "      <td>7700.00</td>\n",
       "    </tr>\n",
       "    <tr>\n",
       "      <th>8</th>\n",
       "      <td>chr1</td>\n",
       "      <td>960891</td>\n",
       "      <td>1750.00</td>\n",
       "    </tr>\n",
       "    <tr>\n",
       "      <th>14</th>\n",
       "      <td>chr1</td>\n",
       "      <td>1083324</td>\n",
       "      <td>1580.00</td>\n",
       "    </tr>\n",
       "    <tr>\n",
       "      <th>15</th>\n",
       "      <td>chr1</td>\n",
       "      <td>1086035</td>\n",
       "      <td>1580.00</td>\n",
       "    </tr>\n",
       "    <tr>\n",
       "      <th>16</th>\n",
       "      <td>chr1</td>\n",
       "      <td>1086278</td>\n",
       "      <td>4400.04</td>\n",
       "    </tr>\n",
       "  </tbody>\n",
       "</table>\n",
       "</div>"
      ],
      "text/plain": [
       "     chr      pos      age\n",
       "6   chr1   955641  7700.00\n",
       "8   chr1   960891  1750.00\n",
       "14  chr1  1083324  1580.00\n",
       "15  chr1  1086035  1580.00\n",
       "16  chr1  1086278  4400.04"
      ]
     },
     "execution_count": 107,
     "metadata": {},
     "output_type": "execute_result"
    }
   ],
   "source": [
    "AGV_tree_sequence_ages = pd.read_csv('/wynton/group/capra/projects/ancient_genotyped_variants_proxy_catalog/data/AGV_age_estimates/AGV_tree_sequence_age_estimates.txt.gz', sep='\\t', header=None, names=['chr','pos','age'], compression='gzip')\n",
    "AGV_tree_sequence_ages = AGV_tree_sequence_ages.dropna()\n",
    "AGV_tree_sequence_ages.head(5)"
   ]
  },
  {
   "cell_type": "code",
   "execution_count": 108,
   "id": "f770eca2-e6d4-442b-b5e7-788a6fd62f02",
   "metadata": {},
   "outputs": [
    {
     "data": {
      "text/plain": [
       "1065214"
      ]
     },
     "execution_count": 108,
     "metadata": {},
     "output_type": "execute_result"
    }
   ],
   "source": [
    "len(AGV_tree_sequence_ages)"
   ]
  },
  {
   "cell_type": "code",
   "execution_count": 109,
   "id": "e364a24b-f28f-40e2-915f-2a885f320fbb",
   "metadata": {},
   "outputs": [
    {
     "data": {
      "text/plain": [
       "0.0"
      ]
     },
     "execution_count": 109,
     "metadata": {},
     "output_type": "execute_result"
    }
   ],
   "source": [
    "AGV_tree_sequence_ages['age'].min()*29"
   ]
  },
  {
   "cell_type": "code",
   "execution_count": 110,
   "id": "543919c7-89ea-458e-8458-9c6174ea8662",
   "metadata": {},
   "outputs": [
    {
     "data": {
      "text/plain": [
       "2369909.0"
      ]
     },
     "execution_count": 110,
     "metadata": {},
     "output_type": "execute_result"
    }
   ],
   "source": [
    "AGV_tree_sequence_ages['age'].max()*29"
   ]
  },
  {
   "cell_type": "code",
   "execution_count": 111,
   "id": "e188e769-4bab-4e06-8f61-baab5e2040ed",
   "metadata": {},
   "outputs": [
    {
     "data": {
      "text/plain": [
       "323060.0"
      ]
     },
     "execution_count": 111,
     "metadata": {},
     "output_type": "execute_result"
    }
   ],
   "source": [
    "AGV_tree_sequence_ages['age'].median()*29"
   ]
  },
  {
   "cell_type": "code",
   "execution_count": 112,
   "id": "46520297-4884-4b69-951b-5c3d3ec30c0a",
   "metadata": {},
   "outputs": [
    {
     "data": {
      "text/plain": [
       "416430.88678864506"
      ]
     },
     "execution_count": 112,
     "metadata": {},
     "output_type": "execute_result"
    }
   ],
   "source": [
    "AGV_tree_sequence_ages['age'].mean()*29"
   ]
  },
  {
   "cell_type": "code",
   "execution_count": 113,
   "id": "8ed21006-30df-49fb-b8f1-f335a1135dd1",
   "metadata": {},
   "outputs": [
    {
     "data": {
      "text/plain": [
       "78881"
      ]
     },
     "execution_count": 113,
     "metadata": {},
     "output_type": "execute_result"
    }
   ],
   "source": [
    "len(AGV_tree_sequence_ages[AGV_tree_sequence_ages['age'] < (60000/29)])"
   ]
  },
  {
   "cell_type": "code",
   "execution_count": 114,
   "id": "efb7f7d7-ac1e-4a8c-abb4-5ea9f8d8ab1e",
   "metadata": {},
   "outputs": [
    {
     "data": {
      "text/plain": [
       "0.07405178677711709"
      ]
     },
     "execution_count": 114,
     "metadata": {},
     "output_type": "execute_result"
    }
   ],
   "source": [
    "78881/1065214"
   ]
  },
  {
   "cell_type": "markdown",
   "id": "dcaa3683-7072-4a95-b752-be5fe131b2ea",
   "metadata": {},
   "source": [
    "## Selection GWAS Loci Allele Frequency Trajectories <a class = 'anchor' id = 'gwastrajectories'></a>"
   ]
  },
  {
   "cell_type": "markdown",
   "id": "7dbe8f58-ae09-4a08-9a63-78e5f70be28b",
   "metadata": {},
   "source": [
    "Let's assess the allele frequency trajectories of top effect alleles from GWAS loci under putative directional selection. We've already prepared the directional selection and GWAS loci datasets. First, let's perform the intersection."
   ]
  },
  {
   "cell_type": "code",
   "execution_count": 115,
   "id": "464c29fe-118e-42bc-a453-559574a7ea53",
   "metadata": {},
   "outputs": [],
   "source": [
    "Akbari_et_al_2024_selection_loci = pybedtools.BedTool('/wynton/group/capra/projects/ancient_genotyped_variants_proxy_catalog/data/selection_GWAS_loci_allele_frequency_trajectories/Akbari_et_al_2024_directional_selection_loci_hg38.bed')\n",
    "Irving_Pease_et_al_2024_selection_loci = pybedtools.BedTool('/wynton/group/capra/projects/ancient_genotyped_variants_proxy_catalog/data/selection_GWAS_loci_allele_frequency_trajectories/Irving_Pease_et_al_2024_directional_selection_loci_hg38.bed')"
   ]
  },
  {
   "cell_type": "code",
   "execution_count": 116,
   "id": "d8a96b61-f16d-4477-95a4-fef67a13dbe2",
   "metadata": {},
   "outputs": [],
   "source": [
    "BMI_GWAS_significant_loci = pybedtools.BedTool('/wynton/group/capra/projects/ancient_genotyped_variants_proxy_catalog/data/selection_GWAS_loci_allele_frequency_trajectories/Koskeridis_et_al_2022_GCST90179150_BMI_significant_loci_hg38_betas_and_AFs.bed')\n",
    "height_GWAS_significant_loci = pybedtools.BedTool('/wynton/group/capra/projects/ancient_genotyped_variants_proxy_catalog/data/selection_GWAS_loci_allele_frequency_trajectories/Yengo_et_al_2022_GCST90245992_significant_loci_hg38_betas_and_AFs.bed')"
   ]
  },
  {
   "cell_type": "code",
   "execution_count": 117,
   "id": "7ea31e93-9c40-4c3e-b726-980285337145",
   "metadata": {},
   "outputs": [
    {
     "data": {
      "text/html": [
       "<div>\n",
       "<style scoped>\n",
       "    .dataframe tbody tr th:only-of-type {\n",
       "        vertical-align: middle;\n",
       "    }\n",
       "\n",
       "    .dataframe tbody tr th {\n",
       "        vertical-align: top;\n",
       "    }\n",
       "\n",
       "    .dataframe thead th {\n",
       "        text-align: right;\n",
       "    }\n",
       "</style>\n",
       "<table border=\"1\" class=\"dataframe\">\n",
       "  <thead>\n",
       "    <tr style=\"text-align: right;\">\n",
       "      <th></th>\n",
       "      <th>selection_chr</th>\n",
       "      <th>selection_start</th>\n",
       "      <th>selection_end</th>\n",
       "      <th>GWAS_chr</th>\n",
       "      <th>GWAS_start</th>\n",
       "      <th>GWAS_end</th>\n",
       "      <th>GWAS_effect_allele</th>\n",
       "      <th>GWAS_other_allele</th>\n",
       "      <th>GWAS_rsID</th>\n",
       "      <th>GWAS_beta</th>\n",
       "      <th>GWAS_effect_allele_AF</th>\n",
       "    </tr>\n",
       "  </thead>\n",
       "  <tbody>\n",
       "    <tr>\n",
       "      <th>0</th>\n",
       "      <td>chr1</td>\n",
       "      <td>155166365</td>\n",
       "      <td>155166366</td>\n",
       "      <td>chr1</td>\n",
       "      <td>155166365</td>\n",
       "      <td>155166366</td>\n",
       "      <td>A</td>\n",
       "      <td>G</td>\n",
       "      <td>rs75925257</td>\n",
       "      <td>0.020390</td>\n",
       "      <td>0.1136</td>\n",
       "    </tr>\n",
       "    <tr>\n",
       "      <th>1</th>\n",
       "      <td>chr1</td>\n",
       "      <td>155489363</td>\n",
       "      <td>155489364</td>\n",
       "      <td>chr1</td>\n",
       "      <td>155489363</td>\n",
       "      <td>155489364</td>\n",
       "      <td>T</td>\n",
       "      <td>C</td>\n",
       "      <td>rs61812092</td>\n",
       "      <td>0.019621</td>\n",
       "      <td>0.1941</td>\n",
       "    </tr>\n",
       "    <tr>\n",
       "      <th>2</th>\n",
       "      <td>chr1</td>\n",
       "      <td>155852837</td>\n",
       "      <td>155852838</td>\n",
       "      <td>chr1</td>\n",
       "      <td>155852837</td>\n",
       "      <td>155852838</td>\n",
       "      <td>A</td>\n",
       "      <td>C</td>\n",
       "      <td>rs112685832</td>\n",
       "      <td>0.022516</td>\n",
       "      <td>0.1116</td>\n",
       "    </tr>\n",
       "    <tr>\n",
       "      <th>3</th>\n",
       "      <td>chr2</td>\n",
       "      <td>134840057</td>\n",
       "      <td>134840058</td>\n",
       "      <td>chr2</td>\n",
       "      <td>134840057</td>\n",
       "      <td>134840058</td>\n",
       "      <td>G</td>\n",
       "      <td>T</td>\n",
       "      <td>rs10496731</td>\n",
       "      <td>-0.010265</td>\n",
       "      <td>0.3830</td>\n",
       "    </tr>\n",
       "    <tr>\n",
       "      <th>4</th>\n",
       "      <td>chr2</td>\n",
       "      <td>134841836</td>\n",
       "      <td>134841837</td>\n",
       "      <td>chr2</td>\n",
       "      <td>134841836</td>\n",
       "      <td>134841837</td>\n",
       "      <td>C</td>\n",
       "      <td>T</td>\n",
       "      <td>rs3739029</td>\n",
       "      <td>-0.009542</td>\n",
       "      <td>0.3841</td>\n",
       "    </tr>\n",
       "  </tbody>\n",
       "</table>\n",
       "</div>"
      ],
      "text/plain": [
       "  selection_chr selection_start selection_end GWAS_chr GWAS_start   GWAS_end  \\\n",
       "0          chr1       155166365     155166366     chr1  155166365  155166366   \n",
       "1          chr1       155489363     155489364     chr1  155489363  155489364   \n",
       "2          chr1       155852837     155852838     chr1  155852837  155852838   \n",
       "3          chr2       134840057     134840058     chr2  134840057  134840058   \n",
       "4          chr2       134841836     134841837     chr2  134841836  134841837   \n",
       "\n",
       "  GWAS_effect_allele GWAS_other_allele    GWAS_rsID  GWAS_beta  \\\n",
       "0                  A                 G   rs75925257   0.020390   \n",
       "1                  T                 C   rs61812092   0.019621   \n",
       "2                  A                 C  rs112685832   0.022516   \n",
       "3                  G                 T   rs10496731  -0.010265   \n",
       "4                  C                 T    rs3739029  -0.009542   \n",
       "\n",
       "   GWAS_effect_allele_AF  \n",
       "0                 0.1136  \n",
       "1                 0.1941  \n",
       "2                 0.1116  \n",
       "3                 0.3830  \n",
       "4                 0.3841  "
      ]
     },
     "execution_count": 117,
     "metadata": {},
     "output_type": "execute_result"
    }
   ],
   "source": [
    "Akbari_et_al_2024_selection_BMI_GWAS_loci_intersection = pd.DataFrame([iv.fields for iv in Akbari_et_al_2024_selection_loci.intersect(BMI_GWAS_significant_loci, wb=True)], columns = ['selection_chr','selection_start','selection_end','GWAS_chr','GWAS_start','GWAS_end','GWAS_effect_allele','GWAS_other_allele','GWAS_rsID','GWAS_beta','GWAS_effect_allele_AF'])\n",
    "Akbari_et_al_2024_selection_BMI_GWAS_loci_intersection['GWAS_beta'] = pd.to_numeric(Akbari_et_al_2024_selection_BMI_GWAS_loci_intersection['GWAS_beta'], errors='coerce')\n",
    "Akbari_et_al_2024_selection_BMI_GWAS_loci_intersection['GWAS_effect_allele_AF'] = pd.to_numeric(Akbari_et_al_2024_selection_BMI_GWAS_loci_intersection['GWAS_effect_allele_AF'], errors='coerce')\n",
    "Akbari_et_al_2024_selection_BMI_GWAS_loci_intersection.head(5)"
   ]
  },
  {
   "cell_type": "code",
   "execution_count": 118,
   "id": "461f8855-acdd-4e4d-8f79-a8b19fe4223e",
   "metadata": {},
   "outputs": [
    {
     "data": {
      "text/html": [
       "<div>\n",
       "<style scoped>\n",
       "    .dataframe tbody tr th:only-of-type {\n",
       "        vertical-align: middle;\n",
       "    }\n",
       "\n",
       "    .dataframe tbody tr th {\n",
       "        vertical-align: top;\n",
       "    }\n",
       "\n",
       "    .dataframe thead th {\n",
       "        text-align: right;\n",
       "    }\n",
       "</style>\n",
       "<table border=\"1\" class=\"dataframe\">\n",
       "  <thead>\n",
       "    <tr style=\"text-align: right;\">\n",
       "      <th></th>\n",
       "      <th>selection_chr</th>\n",
       "      <th>selection_start</th>\n",
       "      <th>selection_end</th>\n",
       "      <th>GWAS_chr</th>\n",
       "      <th>GWAS_start</th>\n",
       "      <th>GWAS_end</th>\n",
       "      <th>GWAS_effect_allele</th>\n",
       "      <th>GWAS_other_allele</th>\n",
       "      <th>GWAS_rsID</th>\n",
       "      <th>GWAS_beta</th>\n",
       "      <th>GWAS_effect_allele_AF</th>\n",
       "    </tr>\n",
       "  </thead>\n",
       "  <tbody>\n",
       "    <tr>\n",
       "      <th>0</th>\n",
       "      <td>chr1</td>\n",
       "      <td>1055036</td>\n",
       "      <td>1055037</td>\n",
       "      <td>chr1</td>\n",
       "      <td>1055036</td>\n",
       "      <td>1055037</td>\n",
       "      <td>C</td>\n",
       "      <td>T</td>\n",
       "      <td>rs2465136</td>\n",
       "      <td>0.010319</td>\n",
       "      <td>0.296</td>\n",
       "    </tr>\n",
       "    <tr>\n",
       "      <th>1</th>\n",
       "      <td>chr1</td>\n",
       "      <td>1070425</td>\n",
       "      <td>1070426</td>\n",
       "      <td>chr1</td>\n",
       "      <td>1070425</td>\n",
       "      <td>1070426</td>\n",
       "      <td>T</td>\n",
       "      <td>C</td>\n",
       "      <td>rs3934834</td>\n",
       "      <td>0.008759</td>\n",
       "      <td>0.150</td>\n",
       "    </tr>\n",
       "    <tr>\n",
       "      <th>2</th>\n",
       "      <td>chr1</td>\n",
       "      <td>56450147</td>\n",
       "      <td>56450148</td>\n",
       "      <td>chr1</td>\n",
       "      <td>56450147</td>\n",
       "      <td>56450148</td>\n",
       "      <td>A</td>\n",
       "      <td>G</td>\n",
       "      <td>rs1889145</td>\n",
       "      <td>0.007985</td>\n",
       "      <td>0.776</td>\n",
       "    </tr>\n",
       "    <tr>\n",
       "      <th>3</th>\n",
       "      <td>chr1</td>\n",
       "      <td>151872173</td>\n",
       "      <td>151872174</td>\n",
       "      <td>chr1</td>\n",
       "      <td>151872173</td>\n",
       "      <td>151872174</td>\n",
       "      <td>A</td>\n",
       "      <td>G</td>\n",
       "      <td>rs6684312</td>\n",
       "      <td>0.007609</td>\n",
       "      <td>0.287</td>\n",
       "    </tr>\n",
       "    <tr>\n",
       "      <th>4</th>\n",
       "      <td>chr1</td>\n",
       "      <td>151934696</td>\n",
       "      <td>151934697</td>\n",
       "      <td>chr1</td>\n",
       "      <td>151934696</td>\n",
       "      <td>151934697</td>\n",
       "      <td>G</td>\n",
       "      <td>A</td>\n",
       "      <td>rs10494270</td>\n",
       "      <td>0.007365</td>\n",
       "      <td>0.286</td>\n",
       "    </tr>\n",
       "  </tbody>\n",
       "</table>\n",
       "</div>"
      ],
      "text/plain": [
       "  selection_chr selection_start selection_end GWAS_chr GWAS_start   GWAS_end  \\\n",
       "0          chr1         1055036       1055037     chr1    1055036    1055037   \n",
       "1          chr1         1070425       1070426     chr1    1070425    1070426   \n",
       "2          chr1        56450147      56450148     chr1   56450147   56450148   \n",
       "3          chr1       151872173     151872174     chr1  151872173  151872174   \n",
       "4          chr1       151934696     151934697     chr1  151934696  151934697   \n",
       "\n",
       "  GWAS_effect_allele GWAS_other_allele   GWAS_rsID  GWAS_beta  \\\n",
       "0                  C                 T   rs2465136   0.010319   \n",
       "1                  T                 C   rs3934834   0.008759   \n",
       "2                  A                 G   rs1889145   0.007985   \n",
       "3                  A                 G   rs6684312   0.007609   \n",
       "4                  G                 A  rs10494270   0.007365   \n",
       "\n",
       "   GWAS_effect_allele_AF  \n",
       "0                  0.296  \n",
       "1                  0.150  \n",
       "2                  0.776  \n",
       "3                  0.287  \n",
       "4                  0.286  "
      ]
     },
     "execution_count": 118,
     "metadata": {},
     "output_type": "execute_result"
    }
   ],
   "source": [
    "Akbari_et_al_2024_selection_height_GWAS_loci_intersection = pd.DataFrame([iv.fields for iv in Akbari_et_al_2024_selection_loci.intersect(height_GWAS_significant_loci, wb=True)], columns = ['selection_chr','selection_start','selection_end','GWAS_chr','GWAS_start','GWAS_end','GWAS_effect_allele','GWAS_other_allele','GWAS_rsID','GWAS_beta','GWAS_effect_allele_AF'])\n",
    "Akbari_et_al_2024_selection_height_GWAS_loci_intersection['GWAS_beta'] = pd.to_numeric(Akbari_et_al_2024_selection_height_GWAS_loci_intersection['GWAS_beta'], errors='coerce')\n",
    "Akbari_et_al_2024_selection_height_GWAS_loci_intersection['GWAS_effect_allele_AF'] = pd.to_numeric(Akbari_et_al_2024_selection_height_GWAS_loci_intersection['GWAS_effect_allele_AF'], errors='coerce')\n",
    "Akbari_et_al_2024_selection_height_GWAS_loci_intersection.head(5)"
   ]
  },
  {
   "cell_type": "code",
   "execution_count": 119,
   "id": "d3d2445b-aa73-414a-8067-53be185d726b",
   "metadata": {},
   "outputs": [
    {
     "data": {
      "text/html": [
       "<div>\n",
       "<style scoped>\n",
       "    .dataframe tbody tr th:only-of-type {\n",
       "        vertical-align: middle;\n",
       "    }\n",
       "\n",
       "    .dataframe tbody tr th {\n",
       "        vertical-align: top;\n",
       "    }\n",
       "\n",
       "    .dataframe thead th {\n",
       "        text-align: right;\n",
       "    }\n",
       "</style>\n",
       "<table border=\"1\" class=\"dataframe\">\n",
       "  <thead>\n",
       "    <tr style=\"text-align: right;\">\n",
       "      <th></th>\n",
       "      <th>selection_chr</th>\n",
       "      <th>selection_start</th>\n",
       "      <th>selection_end</th>\n",
       "      <th>GWAS_chr</th>\n",
       "      <th>GWAS_start</th>\n",
       "      <th>GWAS_end</th>\n",
       "      <th>GWAS_effect_allele</th>\n",
       "      <th>GWAS_other_allele</th>\n",
       "      <th>GWAS_rsID</th>\n",
       "      <th>GWAS_beta</th>\n",
       "      <th>GWAS_effect_allele_AF</th>\n",
       "    </tr>\n",
       "  </thead>\n",
       "  <tbody>\n",
       "    <tr>\n",
       "      <th>0</th>\n",
       "      <td>chr11</td>\n",
       "      <td>27673287</td>\n",
       "      <td>27673288</td>\n",
       "      <td>chr11</td>\n",
       "      <td>27673287</td>\n",
       "      <td>27673288</td>\n",
       "      <td>G</td>\n",
       "      <td>A</td>\n",
       "      <td>rs11030107</td>\n",
       "      <td>0.027193</td>\n",
       "      <td>0.2685</td>\n",
       "    </tr>\n",
       "    <tr>\n",
       "      <th>1</th>\n",
       "      <td>chr11</td>\n",
       "      <td>27673916</td>\n",
       "      <td>27673917</td>\n",
       "      <td>chr11</td>\n",
       "      <td>27673916</td>\n",
       "      <td>27673917</td>\n",
       "      <td>G</td>\n",
       "      <td>A</td>\n",
       "      <td>rs11030108</td>\n",
       "      <td>-0.028736</td>\n",
       "      <td>0.6687</td>\n",
       "    </tr>\n",
       "    <tr>\n",
       "      <th>2</th>\n",
       "      <td>chr11</td>\n",
       "      <td>27723311</td>\n",
       "      <td>27723312</td>\n",
       "      <td>chr11</td>\n",
       "      <td>27723311</td>\n",
       "      <td>27723312</td>\n",
       "      <td>C</td>\n",
       "      <td>T</td>\n",
       "      <td>rs12273363</td>\n",
       "      <td>0.027519</td>\n",
       "      <td>0.1978</td>\n",
       "    </tr>\n",
       "    <tr>\n",
       "      <th>3</th>\n",
       "      <td>chr11</td>\n",
       "      <td>27880404</td>\n",
       "      <td>27880405</td>\n",
       "      <td>chr11</td>\n",
       "      <td>27880404</td>\n",
       "      <td>27880405</td>\n",
       "      <td>T</td>\n",
       "      <td>C</td>\n",
       "      <td>rs61890097</td>\n",
       "      <td>-0.020278</td>\n",
       "      <td>0.0908</td>\n",
       "    </tr>\n",
       "    <tr>\n",
       "      <th>4</th>\n",
       "      <td>chr11</td>\n",
       "      <td>43843390</td>\n",
       "      <td>43843391</td>\n",
       "      <td>chr11</td>\n",
       "      <td>43843390</td>\n",
       "      <td>43843391</td>\n",
       "      <td>A</td>\n",
       "      <td>C</td>\n",
       "      <td>rs117242440</td>\n",
       "      <td>0.022236</td>\n",
       "      <td>0.0902</td>\n",
       "    </tr>\n",
       "  </tbody>\n",
       "</table>\n",
       "</div>"
      ],
      "text/plain": [
       "  selection_chr selection_start selection_end GWAS_chr GWAS_start  GWAS_end  \\\n",
       "0         chr11        27673287      27673288    chr11   27673287  27673288   \n",
       "1         chr11        27673916      27673917    chr11   27673916  27673917   \n",
       "2         chr11        27723311      27723312    chr11   27723311  27723312   \n",
       "3         chr11        27880404      27880405    chr11   27880404  27880405   \n",
       "4         chr11        43843390      43843391    chr11   43843390  43843391   \n",
       "\n",
       "  GWAS_effect_allele GWAS_other_allele    GWAS_rsID  GWAS_beta  \\\n",
       "0                  G                 A   rs11030107   0.027193   \n",
       "1                  G                 A   rs11030108  -0.028736   \n",
       "2                  C                 T   rs12273363   0.027519   \n",
       "3                  T                 C   rs61890097  -0.020278   \n",
       "4                  A                 C  rs117242440   0.022236   \n",
       "\n",
       "   GWAS_effect_allele_AF  \n",
       "0                 0.2685  \n",
       "1                 0.6687  \n",
       "2                 0.1978  \n",
       "3                 0.0908  \n",
       "4                 0.0902  "
      ]
     },
     "execution_count": 119,
     "metadata": {},
     "output_type": "execute_result"
    }
   ],
   "source": [
    "Irving_Pease_et_al_2024_selection_BMI_GWAS_loci_intersection = pd.DataFrame([iv.fields for iv in Irving_Pease_et_al_2024_selection_loci.intersect(BMI_GWAS_significant_loci, wb=True)], columns = ['selection_chr','selection_start','selection_end','GWAS_chr','GWAS_start','GWAS_end','GWAS_effect_allele','GWAS_other_allele','GWAS_rsID','GWAS_beta','GWAS_effect_allele_AF'])\n",
    "Irving_Pease_et_al_2024_selection_BMI_GWAS_loci_intersection['GWAS_beta'] = pd.to_numeric(Irving_Pease_et_al_2024_selection_BMI_GWAS_loci_intersection['GWAS_beta'], errors='coerce')\n",
    "Irving_Pease_et_al_2024_selection_BMI_GWAS_loci_intersection['GWAS_effect_allele_AF'] = pd.to_numeric(Irving_Pease_et_al_2024_selection_BMI_GWAS_loci_intersection['GWAS_effect_allele_AF'], errors='coerce')\n",
    "Irving_Pease_et_al_2024_selection_BMI_GWAS_loci_intersection.head(5)"
   ]
  },
  {
   "cell_type": "code",
   "execution_count": 120,
   "id": "25ca5fd3-75c8-47fb-8777-b76502c8774a",
   "metadata": {},
   "outputs": [
    {
     "data": {
      "text/html": [
       "<div>\n",
       "<style scoped>\n",
       "    .dataframe tbody tr th:only-of-type {\n",
       "        vertical-align: middle;\n",
       "    }\n",
       "\n",
       "    .dataframe tbody tr th {\n",
       "        vertical-align: top;\n",
       "    }\n",
       "\n",
       "    .dataframe thead th {\n",
       "        text-align: right;\n",
       "    }\n",
       "</style>\n",
       "<table border=\"1\" class=\"dataframe\">\n",
       "  <thead>\n",
       "    <tr style=\"text-align: right;\">\n",
       "      <th></th>\n",
       "      <th>selection_chr</th>\n",
       "      <th>selection_start</th>\n",
       "      <th>selection_end</th>\n",
       "      <th>GWAS_chr</th>\n",
       "      <th>GWAS_start</th>\n",
       "      <th>GWAS_end</th>\n",
       "      <th>GWAS_effect_allele</th>\n",
       "      <th>GWAS_other_allele</th>\n",
       "      <th>GWAS_rsID</th>\n",
       "      <th>GWAS_beta</th>\n",
       "      <th>GWAS_effect_allele_AF</th>\n",
       "    </tr>\n",
       "  </thead>\n",
       "  <tbody>\n",
       "    <tr>\n",
       "      <th>0</th>\n",
       "      <td>chr10</td>\n",
       "      <td>17114151</td>\n",
       "      <td>17114152</td>\n",
       "      <td>chr10</td>\n",
       "      <td>17114151</td>\n",
       "      <td>17114152</td>\n",
       "      <td>G</td>\n",
       "      <td>A</td>\n",
       "      <td>rs1801222</td>\n",
       "      <td>0.008188</td>\n",
       "      <td>0.643</td>\n",
       "    </tr>\n",
       "    <tr>\n",
       "      <th>1</th>\n",
       "      <td>chr10</td>\n",
       "      <td>24889934</td>\n",
       "      <td>24889935</td>\n",
       "      <td>chr10</td>\n",
       "      <td>24889934</td>\n",
       "      <td>24889935</td>\n",
       "      <td>A</td>\n",
       "      <td>G</td>\n",
       "      <td>rs11014285</td>\n",
       "      <td>0.022590</td>\n",
       "      <td>0.151</td>\n",
       "    </tr>\n",
       "    <tr>\n",
       "      <th>2</th>\n",
       "      <td>chr11</td>\n",
       "      <td>1995677</td>\n",
       "      <td>1995678</td>\n",
       "      <td>chr11</td>\n",
       "      <td>1995677</td>\n",
       "      <td>1995678</td>\n",
       "      <td>A</td>\n",
       "      <td>G</td>\n",
       "      <td>rs217727</td>\n",
       "      <td>-0.009386</td>\n",
       "      <td>0.184</td>\n",
       "    </tr>\n",
       "    <tr>\n",
       "      <th>3</th>\n",
       "      <td>chr11</td>\n",
       "      <td>2129213</td>\n",
       "      <td>2129214</td>\n",
       "      <td>chr11</td>\n",
       "      <td>2129213</td>\n",
       "      <td>2129214</td>\n",
       "      <td>C</td>\n",
       "      <td>T</td>\n",
       "      <td>rs2585</td>\n",
       "      <td>0.016206</td>\n",
       "      <td>0.720</td>\n",
       "    </tr>\n",
       "    <tr>\n",
       "      <th>4</th>\n",
       "      <td>chr11</td>\n",
       "      <td>27660048</td>\n",
       "      <td>27660049</td>\n",
       "      <td>chr11</td>\n",
       "      <td>27660048</td>\n",
       "      <td>27660049</td>\n",
       "      <td>G</td>\n",
       "      <td>C</td>\n",
       "      <td>rs11030102</td>\n",
       "      <td>0.006644</td>\n",
       "      <td>0.254</td>\n",
       "    </tr>\n",
       "  </tbody>\n",
       "</table>\n",
       "</div>"
      ],
      "text/plain": [
       "  selection_chr selection_start selection_end GWAS_chr GWAS_start  GWAS_end  \\\n",
       "0         chr10        17114151      17114152    chr10   17114151  17114152   \n",
       "1         chr10        24889934      24889935    chr10   24889934  24889935   \n",
       "2         chr11         1995677       1995678    chr11    1995677   1995678   \n",
       "3         chr11         2129213       2129214    chr11    2129213   2129214   \n",
       "4         chr11        27660048      27660049    chr11   27660048  27660049   \n",
       "\n",
       "  GWAS_effect_allele GWAS_other_allele   GWAS_rsID  GWAS_beta  \\\n",
       "0                  G                 A   rs1801222   0.008188   \n",
       "1                  A                 G  rs11014285   0.022590   \n",
       "2                  A                 G    rs217727  -0.009386   \n",
       "3                  C                 T      rs2585   0.016206   \n",
       "4                  G                 C  rs11030102   0.006644   \n",
       "\n",
       "   GWAS_effect_allele_AF  \n",
       "0                  0.643  \n",
       "1                  0.151  \n",
       "2                  0.184  \n",
       "3                  0.720  \n",
       "4                  0.254  "
      ]
     },
     "execution_count": 120,
     "metadata": {},
     "output_type": "execute_result"
    }
   ],
   "source": [
    "Irving_Pease_et_al_2024_selection_height_GWAS_loci_intersection = pd.DataFrame([iv.fields for iv in Irving_Pease_et_al_2024_selection_loci.intersect(height_GWAS_significant_loci, wb=True)], columns = ['selection_chr','selection_start','selection_end','GWAS_chr','GWAS_start','GWAS_end','GWAS_effect_allele','GWAS_other_allele','GWAS_rsID','GWAS_beta','GWAS_effect_allele_AF'])\n",
    "Irving_Pease_et_al_2024_selection_height_GWAS_loci_intersection['GWAS_beta'] = pd.to_numeric(Irving_Pease_et_al_2024_selection_height_GWAS_loci_intersection['GWAS_beta'], errors='coerce')\n",
    "Irving_Pease_et_al_2024_selection_height_GWAS_loci_intersection['GWAS_effect_allele_AF'] = pd.to_numeric(Irving_Pease_et_al_2024_selection_height_GWAS_loci_intersection['GWAS_effect_allele_AF'], errors='coerce')\n",
    "Irving_Pease_et_al_2024_selection_height_GWAS_loci_intersection.head(5)"
   ]
  },
  {
   "cell_type": "code",
   "execution_count": 121,
   "id": "d12cca6f-cfd8-47b0-80ce-5c2e11dd8277",
   "metadata": {},
   "outputs": [
    {
     "data": {
      "text/plain": [
       "1287"
      ]
     },
     "execution_count": 121,
     "metadata": {},
     "output_type": "execute_result"
    }
   ],
   "source": [
    "len(Akbari_et_al_2024_selection_BMI_GWAS_loci_intersection)"
   ]
  },
  {
   "cell_type": "code",
   "execution_count": 122,
   "id": "e137dd02-09fe-4d77-8a26-2f66e4534aa4",
   "metadata": {},
   "outputs": [
    {
     "data": {
      "text/plain": [
       "2085"
      ]
     },
     "execution_count": 122,
     "metadata": {},
     "output_type": "execute_result"
    }
   ],
   "source": [
    "len(Akbari_et_al_2024_selection_height_GWAS_loci_intersection)"
   ]
  },
  {
   "cell_type": "code",
   "execution_count": 123,
   "id": "c30ee9d8-83e2-473f-b0c2-9d7ba72ce413",
   "metadata": {},
   "outputs": [
    {
     "data": {
      "text/plain": [
       "179"
      ]
     },
     "execution_count": 123,
     "metadata": {},
     "output_type": "execute_result"
    }
   ],
   "source": [
    "len(Irving_Pease_et_al_2024_selection_BMI_GWAS_loci_intersection)"
   ]
  },
  {
   "cell_type": "code",
   "execution_count": 124,
   "id": "5785c6bd-670c-448e-a380-a9a77761f62c",
   "metadata": {},
   "outputs": [
    {
     "data": {
      "text/plain": [
       "222"
      ]
     },
     "execution_count": 124,
     "metadata": {},
     "output_type": "execute_result"
    }
   ],
   "source": [
    "len(Irving_Pease_et_al_2024_selection_height_GWAS_loci_intersection)"
   ]
  },
  {
   "cell_type": "markdown",
   "id": "bf81bea7-b2c5-48af-a9d7-46b546c56d67",
   "metadata": {},
   "source": [
    "Now let's subset and save the largest effect alleles per intersection."
   ]
  },
  {
   "cell_type": "code",
   "execution_count": 125,
   "id": "c586bed6-f790-4a81-a768-967a61b91594",
   "metadata": {},
   "outputs": [],
   "source": [
    "def subset_largest_effect_alleles(df, out_file, beta_col='GWAS_beta', top_percent=20):\n",
    "    \"\"\"\n",
    "    Filters a dataframe for top N% of variants by absolute beta and saves results.\n",
    "    \n",
    "    Parameters:\n",
    "        df (pd.DataFrame): Input dataframe.\n",
    "        out_file (str): Filename to save top N% dataframe.\n",
    "        beta_col (str): Column name containing beta values.\n",
    "        top_percent (float): Percentage of top absolute betas to keep.\n",
    "    \n",
    "    Returns:\n",
    "        largest_effect_alleles_df (pd.DataFrame): Top N% by absolute beta.\n",
    "    \"\"\"  \n",
    "    df_filtered = df[np.isfinite(df[beta_col])].copy()\n",
    "    \n",
    "    threshold = np.percentile(np.abs(df_filtered[beta_col]), 100 - top_percent)\n",
    "    print(f\"Top {top_percent}% cutoff (absolute beta): {threshold:.6f}\")\n",
    "    \n",
    "    largest_effect_alleles_df = df_filtered[np.abs(df_filtered[beta_col]) >= threshold].copy()\n",
    "    \n",
    "    largest_effect_alleles_df[['GWAS_chr','GWAS_rsID','GWAS_effect_allele','GWAS_other_allele','GWAS_beta']].to_csv(out_file, sep='\\t', header=False, index=False)\n",
    "    \n",
    "    print(f\"Saved {len(largest_effect_alleles_df)} strongest effect alleles.\")"
   ]
  },
  {
   "cell_type": "code",
   "execution_count": 126,
   "id": "94efee53-5075-4c29-8dbe-f8366fb61127",
   "metadata": {},
   "outputs": [
    {
     "name": "stdout",
     "output_type": "stream",
     "text": [
      "Top 20% cutoff (absolute beta): 0.017278\n",
      "Saved 258 strongest effect alleles.\n"
     ]
    }
   ],
   "source": [
    "subset_largest_effect_alleles(Akbari_et_al_2024_selection_BMI_GWAS_loci_intersection,\n",
    "                              out_file='/wynton/group/capra/projects/ancient_genotyped_variants_proxy_catalog/data/selection_GWAS_loci_allele_frequency_trajectories/Akbari_et_al_2024_selection_BMI_GWAS_largest_effect_loci.txt',\n",
    "                              beta_col='GWAS_beta',\n",
    "                              top_percent=20\n",
    ")"
   ]
  },
  {
   "cell_type": "code",
   "execution_count": 127,
   "id": "f00b2d51-f428-4944-a72e-15f92a8f7a91",
   "metadata": {},
   "outputs": [
    {
     "name": "stdout",
     "output_type": "stream",
     "text": [
      "Top 20% cutoff (absolute beta): 0.025022\n",
      "Saved 417 strongest effect alleles.\n"
     ]
    }
   ],
   "source": [
    "subset_largest_effect_alleles(Akbari_et_al_2024_selection_height_GWAS_loci_intersection,\n",
    "                              out_file='/wynton/group/capra/projects/ancient_genotyped_variants_proxy_catalog/data/selection_GWAS_loci_allele_frequency_trajectories/Akbari_et_al_2024_selection_height_GWAS_largest_effect_loci.txt',\n",
    "                              beta_col='GWAS_beta',\n",
    "                              top_percent=20\n",
    ")"
   ]
  },
  {
   "cell_type": "code",
   "execution_count": 128,
   "id": "bb19f2d5-72b9-4e48-92bd-2057f07bd0ac",
   "metadata": {},
   "outputs": [
    {
     "name": "stdout",
     "output_type": "stream",
     "text": [
      "Top 20% cutoff (absolute beta): 0.021839\n",
      "Saved 36 strongest effect alleles.\n"
     ]
    }
   ],
   "source": [
    "subset_largest_effect_alleles(Irving_Pease_et_al_2024_selection_BMI_GWAS_loci_intersection,\n",
    "                              out_file='/wynton/group/capra/projects/ancient_genotyped_variants_proxy_catalog/data/selection_GWAS_loci_allele_frequency_trajectories/Irving_Pease_et_al_2024_selection_BMI_GWAS_largest_effect_loci.txt',\n",
    "                              beta_col='GWAS_beta',\n",
    "                              top_percent=20\n",
    ")"
   ]
  },
  {
   "cell_type": "code",
   "execution_count": 129,
   "id": "d1d08576-8549-45fd-bfd4-4ae1f9302409",
   "metadata": {},
   "outputs": [
    {
     "name": "stdout",
     "output_type": "stream",
     "text": [
      "Top 20% cutoff (absolute beta): 0.027432\n",
      "Saved 45 strongest effect alleles.\n"
     ]
    }
   ],
   "source": [
    "subset_largest_effect_alleles(Irving_Pease_et_al_2024_selection_height_GWAS_loci_intersection,\n",
    "                              out_file='/wynton/group/capra/projects/ancient_genotyped_variants_proxy_catalog/data/selection_GWAS_loci_allele_frequency_trajectories/Irving_Pease_et_al_2024_selection_height_GWAS_largest_effect_loci.txt',\n",
    "                              beta_col='GWAS_beta',\n",
    "                              top_percent=20\n",
    ")"
   ]
  },
  {
   "cell_type": "code",
   "execution_count": null,
   "id": "e964faff-155f-4ee0-95e4-41f1b27c95eb",
   "metadata": {},
   "outputs": [],
   "source": []
  }
 ],
 "metadata": {
  "kernelspec": {
   "display_name": "Python 3 (ipykernel)",
   "language": "python",
   "name": "python3"
  },
  "language_info": {
   "codemirror_mode": {
    "name": "ipython",
    "version": 3
   },
   "file_extension": ".py",
   "mimetype": "text/x-python",
   "name": "python",
   "nbconvert_exporter": "python",
   "pygments_lexer": "ipython3",
   "version": "3.10.6"
  }
 },
 "nbformat": 4,
 "nbformat_minor": 5
}
